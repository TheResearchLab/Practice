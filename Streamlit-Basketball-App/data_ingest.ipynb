{
 "cells": [
  {
   "cell_type": "code",
   "execution_count": 2,
   "metadata": {},
   "outputs": [
    {
     "name": "stdout",
     "output_type": "stream",
     "text": [
      "Collecting mysql-connector-python\n",
      "  Obtaining dependency information for mysql-connector-python from https://files.pythonhosted.org/packages/d3/b8/6798a0f91e595c0704a94c1e32a00ca930f77cb8f0f96c7e4dad4f9db1fe/mysql_connector_python-8.1.0-cp311-cp311-win_amd64.whl.metadata\n",
      "  Downloading mysql_connector_python-8.1.0-cp311-cp311-win_amd64.whl.metadata (2.1 kB)\n",
      "Collecting protobuf<=4.21.12,>=4.21.1 (from mysql-connector-python)\n",
      "  Downloading protobuf-4.21.12-cp310-abi3-win_amd64.whl (527 kB)\n",
      "     ---------------------------------------- 0.0/527.0 kB ? eta -:--:--\n",
      "      --------------------------------------- 10.2/527.0 kB ? eta -:--:--\n",
      "     ---- -------------------------------- 61.4/527.0 kB 825.8 kB/s eta 0:00:01\n",
      "     -------------------------------------  522.2/527.0 kB 4.7 MB/s eta 0:00:01\n",
      "     -------------------------------------- 527.0/527.0 kB 4.1 MB/s eta 0:00:00\n",
      "Downloading mysql_connector_python-8.1.0-cp311-cp311-win_amd64.whl (10.8 MB)\n",
      "   ---------------------------------------- 0.0/10.8 MB ? eta -:--:--\n",
      "   --- ------------------------------------ 1.0/10.8 MB 20.0 MB/s eta 0:00:01\n",
      "   ------- -------------------------------- 1.9/10.8 MB 20.4 MB/s eta 0:00:01\n",
      "   --------- ------------------------------ 2.6/10.8 MB 20.7 MB/s eta 0:00:01\n",
      "   ------------- -------------------------- 3.6/10.8 MB 21.0 MB/s eta 0:00:01\n",
      "   ----------------- ---------------------- 4.8/10.8 MB 21.6 MB/s eta 0:00:01\n",
      "   ---------------------- ----------------- 6.0/10.8 MB 22.6 MB/s eta 0:00:01\n",
      "   ------------------------ --------------- 6.7/10.8 MB 21.5 MB/s eta 0:00:01\n",
      "   ---------------------------- ----------- 7.8/10.8 MB 21.6 MB/s eta 0:00:01\n",
      "   ------------------------------- -------- 8.7/10.8 MB 22.2 MB/s eta 0:00:01\n",
      "   ------------------------------------ --- 10.0/10.8 MB 22.8 MB/s eta 0:00:01\n",
      "   -------------------------------------- - 10.4/10.8 MB 21.1 MB/s eta 0:00:01\n",
      "   ---------------------------------------  10.8/10.8 MB 21.1 MB/s eta 0:00:01\n",
      "   ---------------------------------------- 10.8/10.8 MB 19.2 MB/s eta 0:00:00\n",
      "Installing collected packages: protobuf, mysql-connector-python\n",
      "Successfully installed mysql-connector-python-8.1.0 protobuf-4.21.12\n"
     ]
    }
   ],
   "source": [
    "import sys\n",
    "!{sys.executable} -m pip install mysql-connector-python"
   ]
  },
  {
   "cell_type": "code",
   "execution_count": 5,
   "metadata": {},
   "outputs": [],
   "source": [
    "from dotenv import load_dotenv\n",
    "import os\n",
    "load_dotenv()\n",
    "import mysql.connector as sql\n",
    "\n",
    "conn = sql.connect(host=os.getenv(\"DB_HOST\"),\n",
    "                   database=os.getenv(\"DB_NAME\"),\n",
    "                   user=os.getenv(\"DB_USERNAME\"),\n",
    "                   password=os.getenv(\"DB_PASSWORD\"),\n",
    "                    )\n",
    "mycursor = conn.cursor()\n",
    "\n",
    "#mycursor.execute(\"CREATE TABLE customers (id INT AUTO_INCREMENT PRIMARY KEY, name VARCHAR(255), address VARCHAR(255))\")\n",
    "#mycursor.execute(\"DROP TABLE customers\")\n",
    "conn.close()"
   ]
  }
 ],
 "metadata": {
  "language_info": {
   "name": "python"
  },
  "orig_nbformat": 4
 },
 "nbformat": 4,
 "nbformat_minor": 2
}
