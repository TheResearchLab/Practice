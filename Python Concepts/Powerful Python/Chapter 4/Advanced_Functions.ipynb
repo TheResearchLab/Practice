{
 "cells": [
  {
   "cell_type": "markdown",
   "metadata": {},
   "source": [
    "# Section 4.1 Accepting and Passing Variable Arguments"
   ]
  },
  {
   "cell_type": "code",
   "execution_count": 7,
   "metadata": {},
   "outputs": [
    {
     "name": "stdout",
     "output_type": "stream",
     "text": [
      "Type of Args:  <class 'tuple'>\n",
      "Arg Value:  ('caserole', 'string-bean', 1, 5, {1, 2, 3, 5, 6, 7, 9})\n"
     ]
    }
   ],
   "source": [
    "# function that can be passed unlmtd args\n",
    "def take_any_args(*args):\n",
    "    print('Type of Args: ',str(type(args)))\n",
    "    print('Arg Value: ', str(args))\n",
    "\n",
    "take_any_args('caserole','string-bean',1,5,set([1,2,3,3,5,6,6,7,9]))"
   ]
  },
  {
   "cell_type": "code",
   "execution_count": 10,
   "metadata": {},
   "outputs": [
    {
     "name": "stdout",
     "output_type": "stream",
     "text": [
      "4 5 6\n"
     ]
    }
   ],
   "source": [
    "#asterisk also works the other way around\n",
    "\n",
    "def printNums(a,b,c):\n",
    "    print(a,b,c)\n",
    "\n",
    "numbers = (4,5,6) # this is a tuple\n",
    "\n",
    "printNums(*numbers)"
   ]
  },
  {
   "cell_type": "code",
   "execution_count": 14,
   "metadata": {},
   "outputs": [],
   "source": [
    "def printKwargs(**kwargs):\n",
    "    for key,value in kwargs.items():\n",
    "        print(\"{} -> {}\".format(key,value))"
   ]
  },
  {
   "cell_type": "code",
   "execution_count": 15,
   "metadata": {},
   "outputs": [
    {
     "name": "stdout",
     "output_type": "stream",
     "text": [
      "jane -> truth\n",
      "chance -> lies\n",
      "peter -> snake\n"
     ]
    }
   ],
   "source": [
    "printKwargs(jane=\"truth\",chance=\"lies\",peter='snake')"
   ]
  },
  {
   "cell_type": "code",
   "execution_count": 18,
   "metadata": {},
   "outputs": [],
   "source": [
    "#Passing other arguments with kwargs\n",
    "def printWithCaveat(caveat,**kwargs):\n",
    "    for key, value in kwargs.items():\n",
    "        if key not in caveat:\n",
    "            print(\"{} is the caveat.\".format(key))"
   ]
  },
  {
   "cell_type": "code",
   "execution_count": 20,
   "metadata": {},
   "outputs": [
    {
     "name": "stdout",
     "output_type": "stream",
     "text": [
      "alex is the caveat.\n"
     ]
    }
   ],
   "source": [
    "cavDict = {\"lisa\":3, \"thomas\":5, \"andrew\":12}       \n",
    "printWithCaveat(cavDict,thomas=16,alex=4)"
   ]
  },
  {
   "cell_type": "code",
   "execution_count": 24,
   "metadata": {},
   "outputs": [
    {
     "name": "stdout",
     "output_type": "stream",
     "text": [
      "a:22 b:47 c:34\n"
     ]
    }
   ],
   "source": [
    "#Pass a dict as kwargs to a function\n",
    "alphaDict = {\"a\":22,\"b\":47,\"c\":34}\n",
    "\n",
    "def normal_function(a,b,c):\n",
    "    print(\"a:{} b:{} c:{}\".format(a,b,c))\n",
    "\n",
    "normal_function(**alphaDict)"
   ]
  },
  {
   "cell_type": "code",
   "execution_count": 25,
   "metadata": {},
   "outputs": [
    {
     "ename": "TypeError",
     "evalue": "normal_function() got an unexpected keyword argument 'z'",
     "output_type": "error",
     "traceback": [
      "\u001b[1;31m---------------------------------------------------------------------------\u001b[0m",
      "\u001b[1;31mTypeError\u001b[0m                                 Traceback (most recent call last)",
      "Cell \u001b[1;32mIn[25], line 3\u001b[0m\n\u001b[0;32m      1\u001b[0m \u001b[39m# Dict keys must be same as how function was defined\u001b[39;00m\n\u001b[0;32m      2\u001b[0m alphaDict \u001b[39m=\u001b[39m {\u001b[39m\"\u001b[39m\u001b[39ma\u001b[39m\u001b[39m\"\u001b[39m:\u001b[39m22\u001b[39m,\u001b[39m\"\u001b[39m\u001b[39mb\u001b[39m\u001b[39m\"\u001b[39m:\u001b[39m47\u001b[39m,\u001b[39m\"\u001b[39m\u001b[39mz\u001b[39m\u001b[39m\"\u001b[39m:\u001b[39m34\u001b[39m} \u001b[39m# z instead of c will cause error\u001b[39;00m\n\u001b[1;32m----> 3\u001b[0m normal_function(\u001b[39m*\u001b[39;49m\u001b[39m*\u001b[39;49malphaDict)\n",
      "\u001b[1;31mTypeError\u001b[0m: normal_function() got an unexpected keyword argument 'z'"
     ]
    }
   ],
   "source": [
    "# Dict keys must be same as how function was defined\n",
    "alphaDict = {\"a\":22,\"b\":47,\"z\":34} # z instead of c will cause error\n",
    "normal_function(**alphaDict)"
   ]
  },
  {
   "cell_type": "code",
   "execution_count": 26,
   "metadata": {},
   "outputs": [],
   "source": [
    "#Passing *args followed by positional arg\n",
    "def example_func(*args,format):\n",
    "    print(*args,format) "
   ]
  },
  {
   "cell_type": "code",
   "execution_count": 27,
   "metadata": {},
   "outputs": [
    {
     "name": "stdout",
     "output_type": "stream",
     "text": [
      "[1, 2, 3] hello\n"
     ]
    }
   ],
   "source": [
    "example_func([1,2,3],format=\"hello\") # need to run format as a keyword arg else error"
   ]
  },
  {
   "cell_type": "code",
   "execution_count": 28,
   "metadata": {},
   "outputs": [
    {
     "ename": "TypeError",
     "evalue": "example_func() missing 1 required keyword-only argument: 'format'",
     "output_type": "error",
     "traceback": [
      "\u001b[1;31m---------------------------------------------------------------------------\u001b[0m",
      "\u001b[1;31mTypeError\u001b[0m                                 Traceback (most recent call last)",
      "Cell \u001b[1;32mIn[28], line 1\u001b[0m\n\u001b[1;32m----> 1\u001b[0m example_func([\u001b[39m1\u001b[39;49m,\u001b[39m2\u001b[39;49m,\u001b[39m3\u001b[39;49m],\u001b[39m\"\u001b[39;49m\u001b[39mhello\u001b[39;49m\u001b[39m\"\u001b[39;49m) \u001b[39m# error\u001b[39;00m\n",
      "\u001b[1;31mTypeError\u001b[0m: example_func() missing 1 required keyword-only argument: 'format'"
     ]
    }
   ],
   "source": [
    "example_func([1,2,3],\"hello\") # error"
   ]
  },
  {
   "cell_type": "markdown",
   "metadata": {},
   "source": [
    "# Section 4.2 Functions as objects"
   ]
  },
  {
   "cell_type": "code",
   "execution_count": 34,
   "metadata": {},
   "outputs": [],
   "source": [
    "def maxByKey(items,key):\n",
    "    biggest = items[0]\n",
    "    for item in items[1:]:\n",
    "        if key(item) > key(biggest):\n",
    "            biggest = item \n",
    "    return biggest"
   ]
  },
  {
   "cell_type": "code",
   "execution_count": 35,
   "metadata": {},
   "outputs": [
    {
     "data": {
      "text/plain": [
       "3"
      ]
     },
     "metadata": {},
     "output_type": "display_data"
    },
    {
     "data": {
      "text/plain": [
       "-3"
      ]
     },
     "metadata": {},
     "output_type": "display_data"
    }
   ],
   "source": [
    "display(\n",
    "maxByKey([1,2,3],int),\n",
    "maxByKey([1,2,-3],abs)\n",
    ")"
   ]
  },
  {
   "cell_type": "code",
   "execution_count": 41,
   "metadata": {},
   "outputs": [],
   "source": [
    "student_joe = {'gpa': 3.7 , 'major': 'physics',\n",
    "'name ': 'Joe Smith '}\n",
    "student_jane = {'gpa': 3.8 , 'major': 'chemistry',\n",
    "'name ': 'Jane Jones '}\n",
    "student_zoe = {'gpa': 3.4 , 'major': 'literature',\n",
    "'name ': 'Zoe Fox'}\n",
    "students = [ student_joe , student_jane , student_zoe ]"
   ]
  },
  {
   "cell_type": "code",
   "execution_count": 43,
   "metadata": {},
   "outputs": [
    {
     "data": {
      "text/plain": [
       "{'gpa': 3.8, 'major': 'chemistry', 'name ': 'Jane Jones '}"
      ]
     },
     "execution_count": 43,
     "metadata": {},
     "output_type": "execute_result"
    }
   ],
   "source": [
    "def getGPA(who):\n",
    "    return who['gpa']\n",
    "\n",
    "maxByKey(students,getGPA)"
   ]
  },
  {
   "cell_type": "markdown",
   "metadata": {},
   "source": [
    "# Section 4.3 Key Functions in Python"
   ]
  },
  {
   "cell_type": "code",
   "execution_count": 52,
   "metadata": {},
   "outputs": [
    {
     "data": {
      "text/plain": [
       "[{'gpa': 3.4, 'major': 'literature', 'name ': 'Zoe Fox'},\n",
       " {'gpa': 3.7, 'major': 'physics', 'name ': 'Joe Smith '},\n",
       " {'gpa': 3.8, 'major': 'chemistry', 'name ': 'Jane Jones '}]"
      ]
     },
     "execution_count": 52,
     "metadata": {},
     "output_type": "execute_result"
    }
   ],
   "source": [
    "# key arguments\n",
    "max(students,key=getGPA)\n",
    "min([1,2,3],key=int)\n",
    "sorted(students,key=getGPA)"
   ]
  },
  {
   "cell_type": "code",
   "execution_count": 48,
   "metadata": {},
   "outputs": [
    {
     "data": {
      "text/plain": [
       "[{'gpa': 3.4, 'major': 'literature', 'name ': 'Zoe Fox'},\n",
       " {'gpa': 3.7, 'major': 'physics', 'name ': 'Joe Smith '},\n",
       " {'gpa': 3.8, 'major': 'chemistry', 'name ': 'Jane Jones '}]"
      ]
     },
     "execution_count": 48,
     "metadata": {},
     "output_type": "execute_result"
    }
   ],
   "source": [
    "from operator import itemgetter #can also use this for getting dict elements\n",
    "sorted(students,key=itemgetter(('gpa')))"
   ]
  },
  {
   "cell_type": "code",
   "execution_count": 49,
   "metadata": {},
   "outputs": [
    {
     "data": {
      "text/plain": [
       "[{'gpa': 3.8, 'major': 'chemistry', 'name ': 'Jane Jones '},\n",
       " {'gpa': 3.4, 'major': 'literature', 'name ': 'Zoe Fox'},\n",
       " {'gpa': 3.7, 'major': 'physics', 'name ': 'Joe Smith '}]"
      ]
     },
     "execution_count": 49,
     "metadata": {},
     "output_type": "execute_result"
    }
   ],
   "source": [
    "sorted(students,key=itemgetter(('major')))"
   ]
  },
  {
   "cell_type": "code",
   "execution_count": 63,
   "metadata": {},
   "outputs": [],
   "source": [
    "# when sequence containers as dictionaries then can pass a number to itemgetter\n",
    "stud_rows = [('physics','joe','3.4'),('carl','math','3.4')]"
   ]
  },
  {
   "cell_type": "code",
   "execution_count": 64,
   "metadata": {},
   "outputs": [
    {
     "data": {
      "text/plain": [
       "('carl', 'math', '3.4')"
      ]
     },
     "execution_count": 64,
     "metadata": {},
     "output_type": "execute_result"
    }
   ],
   "source": [
    "max(stud_rows,key=itemgetter(1))"
   ]
  },
  {
   "cell_type": "code",
   "execution_count": 77,
   "metadata": {},
   "outputs": [],
   "source": [
    "class Student:\n",
    "    def __init__(self,name,age,major):\n",
    "        self.name = name\n",
    "        self.age = age\n",
    "        self.major = major\n",
    "\n",
    "    def __repr__(self):\n",
    "        return \"{} {}:\".format(self.name,self.major)\n",
    "\n",
    "    "
   ]
  },
  {
   "cell_type": "code",
   "execution_count": 78,
   "metadata": {},
   "outputs": [
    {
     "data": {
      "text/plain": [
       "Aaron Data Science:"
      ]
     },
     "execution_count": 78,
     "metadata": {},
     "output_type": "execute_result"
    }
   ],
   "source": [
    "aaronLst = ['Aaron',17,'Data Science']\n",
    "Student(*aaronLst)"
   ]
  },
  {
   "cell_type": "code",
   "execution_count": 79,
   "metadata": {},
   "outputs": [
    {
     "data": {
      "text/plain": [
       "[Aaron Data Science:, Andrew Math:, Shelby Accounting:]"
      ]
     },
     "execution_count": 79,
     "metadata": {},
     "output_type": "execute_result"
    }
   ],
   "source": [
    "from operator import attrgetter\n",
    "student_obj = [Student(*['Aaron',17,'Data Science']),Student(*['Shelby',19,'Accounting']),Student(*['Andrew',18,'Math'])]\n",
    "\n",
    "sorted(student_obj, key=attrgetter(\"age\"))\n"
   ]
  },
  {
   "cell_type": "code",
   "execution_count": 80,
   "metadata": {},
   "outputs": [
    {
     "data": {
      "text/plain": [
       "19"
      ]
     },
     "execution_count": 80,
     "metadata": {},
     "output_type": "execute_result"
    }
   ],
   "source": []
  },
  {
   "cell_type": "code",
   "execution_count": null,
   "metadata": {},
   "outputs": [],
   "source": []
  }
 ],
 "metadata": {
  "kernelspec": {
   "display_name": "Python 3",
   "language": "python",
   "name": "python3"
  },
  "language_info": {
   "codemirror_mode": {
    "name": "ipython",
    "version": 3
   },
   "file_extension": ".py",
   "mimetype": "text/x-python",
   "name": "python",
   "nbconvert_exporter": "python",
   "pygments_lexer": "ipython3",
   "version": "3.11.4"
  },
  "orig_nbformat": 4
 },
 "nbformat": 4,
 "nbformat_minor": 2
}
