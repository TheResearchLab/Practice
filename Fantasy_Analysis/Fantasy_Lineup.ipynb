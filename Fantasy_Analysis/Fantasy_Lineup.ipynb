{
 "cells": [
  {
   "cell_type": "code",
   "execution_count": 3,
   "metadata": {},
   "outputs": [
    {
     "name": "stdout",
     "output_type": "stream",
     "text": [
      "Collecting nba_api\n",
      "  Downloading nba_api-1.2.1-py3-none-any.whl (257 kB)\n",
      "                                              0.0/257.3 kB ? eta -:--:--\n",
      "     -------------------------------        215.0/257.3 kB 6.6 MB/s eta 0:00:01\n",
      "     ----------------------------------     235.5/257.3 kB 4.8 MB/s eta 0:00:01\n",
      "     ----------------------------------     235.5/257.3 kB 4.8 MB/s eta 0:00:01\n",
      "     ----------------------------------     235.5/257.3 kB 4.8 MB/s eta 0:00:01\n",
      "     ----------------------------------     235.5/257.3 kB 4.8 MB/s eta 0:00:01\n",
      "     ----------------------------------     235.5/257.3 kB 4.8 MB/s eta 0:00:01\n",
      "     ----------------------------------     235.5/257.3 kB 4.8 MB/s eta 0:00:01\n",
      "     -----------------------------------  256.0/257.3 kB 655.4 kB/s eta 0:00:01\n",
      "     ------------------------------------ 257.3/257.3 kB 608.4 kB/s eta 0:00:00\n",
      "Requirement already satisfied: numpy<2.0.0,>=1.22.2 in c:\\users\\aaron\\appdata\\local\\programs\\python\\python311\\lib\\site-packages (from nba_api) (1.25.2)\n",
      "Collecting requests (from nba_api)\n",
      "  Downloading requests-2.31.0-py3-none-any.whl (62 kB)\n",
      "                                              0.0/62.6 kB ? eta -:--:--\n",
      "     ---------------------------------------- 62.6/62.6 kB 3.3 MB/s eta 0:00:00\n",
      "Collecting charset-normalizer<4,>=2 (from requests->nba_api)\n",
      "  Downloading charset_normalizer-3.2.0-cp311-cp311-win_amd64.whl (96 kB)\n",
      "                                              0.0/96.6 kB ? eta -:--:--\n",
      "     ---------------------------------------- 96.6/96.6 kB 5.8 MB/s eta 0:00:00\n",
      "Collecting idna<4,>=2.5 (from requests->nba_api)\n",
      "  Downloading idna-3.4-py3-none-any.whl (61 kB)\n",
      "                                              0.0/61.5 kB ? eta -:--:--\n",
      "     ---------------------------------------- 61.5/61.5 kB ? eta 0:00:00\n",
      "Collecting urllib3<3,>=1.21.1 (from requests->nba_api)\n",
      "  Downloading urllib3-2.0.4-py3-none-any.whl (123 kB)\n",
      "                                              0.0/123.9 kB ? eta -:--:--\n",
      "     ---------------------------------------- 123.9/123.9 kB ? eta 0:00:00\n",
      "Collecting certifi>=2017.4.17 (from requests->nba_api)\n",
      "  Downloading certifi-2023.7.22-py3-none-any.whl (158 kB)\n",
      "                                              0.0/158.3 kB ? eta -:--:--\n",
      "     -------------------------------------- 158.3/158.3 kB 9.3 MB/s eta 0:00:00\n",
      "Installing collected packages: urllib3, idna, charset-normalizer, certifi, requests, nba_api\n",
      "Successfully installed certifi-2023.7.22 charset-normalizer-3.2.0 idna-3.4 nba_api-1.2.1 requests-2.31.0 urllib3-2.0.4\n"
     ]
    },
    {
     "name": "stderr",
     "output_type": "stream",
     "text": [
      "  WARNING: The script normalizer.exe is installed in 'c:\\Users\\Aaron\\AppData\\Local\\Programs\\Python\\Python311\\Scripts' which is not on PATH.\n",
      "  Consider adding this directory to PATH or, if you prefer to suppress this warning, use --no-warn-script-location.\n",
      "\n",
      "[notice] A new release of pip is available: 23.1.2 -> 23.2.1\n",
      "[notice] To update, run: python.exe -m pip install --upgrade pip\n"
     ]
    }
   ],
   "source": [
    "import sys\n",
    "!{sys.executable} -m pip install nba_api"
   ]
  },
  {
   "cell_type": "code",
   "execution_count": 18,
   "metadata": {},
   "outputs": [],
   "source": [
    "from nba_api.stats.static import teams,players\n",
    "from nba_api.stats.endpoints import playergamelog, playerindex\n",
    "import requests\n",
    "import pandas as pd\n",
    "import time\n",
    "import os"
   ]
  },
  {
   "cell_type": "code",
   "execution_count": 20,
   "metadata": {},
   "outputs": [],
   "source": [
    "# Retry Wrapper \n",
    "def retry(func, retries=3):\n",
    "    def retry_wrapper(*args, **kwargs):\n",
    "        attempts = 0\n",
    "        while attempts < retries:\n",
    "            try:\n",
    "                return func(*args, **kwargs)\n",
    "            except requests.exceptions.RequestException as e:\n",
    "                print(e,attempts)\n",
    "                time.sleep(30)\n",
    "                attempts += 1\n",
    "\n",
    "    return retry_wrapper\n",
    "\n",
    "\n",
    "@retry\n",
    "def getAggPlayerStats(pid,fname,lname,position,df,minGames=50):\n",
    "        \n",
    "    #get player game logs    \n",
    "    data = playergamelog.PlayerGameLog(player_id=pid,season='2022-23')\n",
    "    data = data.player_game_log.get_data_frame()\n",
    "\n",
    "    #remove less than n games\n",
    "    if len(data) < minGames: return pd.DataFrame()\n",
    "    \n",
    "    # build row for player stats\n",
    "    data = data[['MIN','FG_PCT','FT_PCT','FG3M','REB','AST','STL','BLK','PTS']]\n",
    "    mean_df  = data.mean().to_frame().T\n",
    "    mean_df.columns = [col + '_MEAN' for col in mean_df.columns]\n",
    "    std_df = data.std().to_frame().T\n",
    "    std_df.columns = [col + '_STD' for col in std_df.columns]\n",
    "\n",
    "    # Join all into one table\n",
    "    data = pd.concat([mean_df,std_df],axis=1)\n",
    "    data['player_first_name'] = fname\n",
    "    data['player_last_name'] = lname\n",
    "    data['player_id'] = pid\n",
    "    data['position'] = position\n",
    "\n",
    "    #concat table to bigger df\n",
    "    final_df = pd.concat([df,data])\n",
    "    return final_df\n",
    "        \n",
    "\n",
    "\n",
    "         \n",
    "\n",
    "\n"
   ]
  },
  {
   "cell_type": "code",
   "execution_count": 21,
   "metadata": {},
   "outputs": [
    {
     "name": "stdout",
     "output_type": "stream",
     "text": [
      "HTTPSConnectionPool(host='stats.nba.com', port=443): Read timed out. (read timeout=30)\n",
      "HTTPSConnectionPool(host='stats.nba.com', port=443): Read timed out. (read timeout=30)\n",
      "HTTPSConnectionPool(host='stats.nba.com', port=443): Read timed out. (read timeout=30)\n",
      "HTTPSConnectionPool(host='stats.nba.com', port=443): Read timed out. (read timeout=30)\n"
     ]
    }
   ],
   "source": [
    "df = pd.DataFrame()\n",
    "players = playerindex.PlayerIndex().player_index.get_data_frame()\n",
    "if os.path.exists('fantasy_stats.csv'):\n",
    "    df = pd.read_csv('fantasy_stats.csv').drop('Unnamed: 0',axis=1)\n",
    "    players = players[~players['PERSON_ID'].isin(df['player_id'])]\n",
    "\n",
    "for _,player in players.iterrows():\n",
    "    data = getAggPlayerStats(player['PERSON_ID'],player['PLAYER_FIRST_NAME'],player['PLAYER_LAST_NAME'],player['POSITION'],df)\n",
    "    if len(data) > 0:\n",
    "        df = data\n",
    "\n",
    "df.to_csv('fantasy_stats.csv')"
   ]
  },
  {
   "cell_type": "code",
   "execution_count": 23,
   "metadata": {},
   "outputs": [],
   "source": [
    "df.to_csv('fantasy_stats.csv')\n"
   ]
  }
 ],
 "metadata": {
  "kernelspec": {
   "display_name": "Python 3",
   "language": "python",
   "name": "python3"
  },
  "language_info": {
   "codemirror_mode": {
    "name": "ipython",
    "version": 3
   },
   "file_extension": ".py",
   "mimetype": "text/x-python",
   "name": "python",
   "nbconvert_exporter": "python",
   "pygments_lexer": "ipython3",
   "version": "3.11.4"
  },
  "orig_nbformat": 4
 },
 "nbformat": 4,
 "nbformat_minor": 2
}
