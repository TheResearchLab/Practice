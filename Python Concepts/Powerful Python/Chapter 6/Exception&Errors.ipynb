{
 "cells": [
  {
   "cell_type": "markdown",
   "metadata": {},
   "source": [
    "# Section 6.1 Basic Idea"
   ]
  },
  {
   "cell_type": "code",
   "execution_count": 1,
   "metadata": {},
   "outputs": [
    {
     "ename": "KeyError",
     "evalue": "'dessert'",
     "output_type": "error",
     "traceback": [
      "\u001b[1;31m---------------------------------------------------------------------------\u001b[0m",
      "\u001b[1;31mKeyError\u001b[0m                                  Traceback (most recent call last)",
      "Cell \u001b[1;32mIn[1], line 10\u001b[0m\n\u001b[0;32m      3\u001b[0m     favorites \u001b[39m=\u001b[39m {\n\u001b[0;32m      4\u001b[0m         \u001b[39m\"\u001b[39m\u001b[39mappetizer\u001b[39m\u001b[39m\"\u001b[39m:\u001b[39m\"\u001b[39m\u001b[39mcalamari\u001b[39m\u001b[39m\"\u001b[39m,\n\u001b[0;32m      5\u001b[0m         \u001b[39m\"\u001b[39m\u001b[39mvegtable\u001b[39m\u001b[39m\"\u001b[39m:\u001b[39m\"\u001b[39m\u001b[39mbroccoli\u001b[39m\u001b[39m\"\u001b[39m,\n\u001b[0;32m      6\u001b[0m         \u001b[39m\"\u001b[39m\u001b[39mprotein\u001b[39m\u001b[39m\"\u001b[39m:\u001b[39m\"\u001b[39m\u001b[39mchicken\u001b[39m\u001b[39m\"\u001b[39m,\n\u001b[0;32m      7\u001b[0m     } \n\u001b[0;32m      8\u001b[0m     \u001b[39mreturn\u001b[39;00m \u001b[39m\"\u001b[39m\u001b[39mMy favorite \u001b[39m\u001b[39m{}\u001b[39;00m\u001b[39m is \u001b[39m\u001b[39m{}\u001b[39;00m\u001b[39m\"\u001b[39m\u001b[39m.\u001b[39mformat(category,favorites[category])\n\u001b[1;32m---> 10\u001b[0m describe_favorites(\u001b[39m'\u001b[39;49m\u001b[39mdessert\u001b[39;49m\u001b[39m'\u001b[39;49m)\n",
      "Cell \u001b[1;32mIn[1], line 8\u001b[0m, in \u001b[0;36mdescribe_favorites\u001b[1;34m(category)\u001b[0m\n\u001b[0;32m      2\u001b[0m \u001b[39m\"\u001b[39m\u001b[39mThis code describes you favorite food\u001b[39m\u001b[39m\"\u001b[39m\n\u001b[0;32m      3\u001b[0m favorites \u001b[39m=\u001b[39m {\n\u001b[0;32m      4\u001b[0m     \u001b[39m\"\u001b[39m\u001b[39mappetizer\u001b[39m\u001b[39m\"\u001b[39m:\u001b[39m\"\u001b[39m\u001b[39mcalamari\u001b[39m\u001b[39m\"\u001b[39m,\n\u001b[0;32m      5\u001b[0m     \u001b[39m\"\u001b[39m\u001b[39mvegtable\u001b[39m\u001b[39m\"\u001b[39m:\u001b[39m\"\u001b[39m\u001b[39mbroccoli\u001b[39m\u001b[39m\"\u001b[39m,\n\u001b[0;32m      6\u001b[0m     \u001b[39m\"\u001b[39m\u001b[39mprotein\u001b[39m\u001b[39m\"\u001b[39m:\u001b[39m\"\u001b[39m\u001b[39mchicken\u001b[39m\u001b[39m\"\u001b[39m,\n\u001b[0;32m      7\u001b[0m } \n\u001b[1;32m----> 8\u001b[0m \u001b[39mreturn\u001b[39;00m \u001b[39m\"\u001b[39m\u001b[39mMy favorite \u001b[39m\u001b[39m{}\u001b[39;00m\u001b[39m is \u001b[39m\u001b[39m{}\u001b[39;00m\u001b[39m\"\u001b[39m\u001b[39m.\u001b[39mformat(category,favorites[category])\n",
      "\u001b[1;31mKeyError\u001b[0m: 'dessert'"
     ]
    }
   ],
   "source": [
    "def describe_favorites(category):\n",
    "    \"This code describes you favorite food\"\n",
    "    favorites = {\n",
    "        \"appetizer\":\"calamari\",\n",
    "        \"vegtable\":\"broccoli\",\n",
    "        \"protein\":\"chicken\",\n",
    "    } \n",
    "    return \"My favorite {} is {}\".format(category,favorites[category])\n",
    "\n",
    "describe_favorites('dessert') # KeyError example"
   ]
  },
  {
   "cell_type": "code",
   "execution_count": 6,
   "metadata": {},
   "outputs": [
    {
     "name": "stdout",
     "output_type": "stream",
     "text": [
      "I have no favorite dessert. I love them.\n"
     ]
    }
   ],
   "source": [
    "try:\n",
    "    message = describe_favorites('dessert')\n",
    "    print(message)\n",
    "except KeyError:\n",
    "    print(\"I have no favorite dessert. I love them.\")\n"
   ]
  },
  {
   "cell_type": "code",
   "execution_count": 7,
   "metadata": {},
   "outputs": [],
   "source": [
    "def print_description(category):\n",
    "    try:\n",
    "        message = describe_favorites(category)\n",
    "        print(message)\n",
    "    except KeyError:\n",
    "        print(f\"I have no favorite {category}. I love them all!\")\n",
    "        "
   ]
  },
  {
   "cell_type": "code",
   "execution_count": 8,
   "metadata": {},
   "outputs": [
    {
     "name": "stdout",
     "output_type": "stream",
     "text": [
      "I have no favorite dessert. I love them all!\n"
     ]
    }
   ],
   "source": [
    "print_description('dessert')"
   ]
  },
  {
   "cell_type": "code",
   "execution_count": 10,
   "metadata": {},
   "outputs": [
    {
     "name": "stdout",
     "output_type": "stream",
     "text": [
      "I have no favorite burgers. I love them all!\n"
     ]
    }
   ],
   "source": [
    "print_description('burgers')"
   ]
  },
  {
   "cell_type": "code",
   "execution_count": 11,
   "metadata": {},
   "outputs": [
    {
     "name": "stdout",
     "output_type": "stream",
     "text": [
      "My favorite protein is chicken\n"
     ]
    }
   ],
   "source": [
    "print_description('protein')"
   ]
  },
  {
   "cell_type": "code",
   "execution_count": 12,
   "metadata": {},
   "outputs": [
    {
     "name": "stdout",
     "output_type": "stream",
     "text": [
      "I have no favorite hello world. I love them all!\n",
      "this will always run\n"
     ]
    }
   ],
   "source": [
    "#finally\n",
    "try:\n",
    "    print_description(\"hello world\")\n",
    "finally:\n",
    "    print(\"this will always run\")\n"
   ]
  },
  {
   "cell_type": "code",
   "execution_count": null,
   "metadata": {},
   "outputs": [],
   "source": []
  }
 ],
 "metadata": {
  "kernelspec": {
   "display_name": "Python 3",
   "language": "python",
   "name": "python3"
  },
  "language_info": {
   "codemirror_mode": {
    "name": "ipython",
    "version": 3
   },
   "file_extension": ".py",
   "mimetype": "text/x-python",
   "name": "python",
   "nbconvert_exporter": "python",
   "pygments_lexer": "ipython3",
   "version": "3.11.4"
  },
  "orig_nbformat": 4
 },
 "nbformat": 4,
 "nbformat_minor": 2
}
