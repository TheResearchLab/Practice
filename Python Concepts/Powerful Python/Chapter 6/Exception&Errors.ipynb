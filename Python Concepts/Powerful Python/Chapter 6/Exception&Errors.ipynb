{
 "cells": [
  {
   "cell_type": "markdown",
   "metadata": {},
   "source": [
    "# Section 6.1 Basic Idea"
   ]
  },
  {
   "cell_type": "code",
   "execution_count": 1,
   "metadata": {},
   "outputs": [
    {
     "ename": "KeyError",
     "evalue": "'dessert'",
     "output_type": "error",
     "traceback": [
      "\u001b[1;31m---------------------------------------------------------------------------\u001b[0m",
      "\u001b[1;31mKeyError\u001b[0m                                  Traceback (most recent call last)",
      "Cell \u001b[1;32mIn[1], line 10\u001b[0m\n\u001b[0;32m      3\u001b[0m     favorites \u001b[39m=\u001b[39m {\n\u001b[0;32m      4\u001b[0m         \u001b[39m\"\u001b[39m\u001b[39mappetizer\u001b[39m\u001b[39m\"\u001b[39m:\u001b[39m\"\u001b[39m\u001b[39mcalamari\u001b[39m\u001b[39m\"\u001b[39m,\n\u001b[0;32m      5\u001b[0m         \u001b[39m\"\u001b[39m\u001b[39mvegtable\u001b[39m\u001b[39m\"\u001b[39m:\u001b[39m\"\u001b[39m\u001b[39mbroccoli\u001b[39m\u001b[39m\"\u001b[39m,\n\u001b[0;32m      6\u001b[0m         \u001b[39m\"\u001b[39m\u001b[39mprotein\u001b[39m\u001b[39m\"\u001b[39m:\u001b[39m\"\u001b[39m\u001b[39mchicken\u001b[39m\u001b[39m\"\u001b[39m,\n\u001b[0;32m      7\u001b[0m     } \n\u001b[0;32m      8\u001b[0m     \u001b[39mreturn\u001b[39;00m \u001b[39m\"\u001b[39m\u001b[39mMy favorite \u001b[39m\u001b[39m{}\u001b[39;00m\u001b[39m is \u001b[39m\u001b[39m{}\u001b[39;00m\u001b[39m\"\u001b[39m\u001b[39m.\u001b[39mformat(category,favorites[category])\n\u001b[1;32m---> 10\u001b[0m describe_favorites(\u001b[39m'\u001b[39;49m\u001b[39mdessert\u001b[39;49m\u001b[39m'\u001b[39;49m)\n",
      "Cell \u001b[1;32mIn[1], line 8\u001b[0m, in \u001b[0;36mdescribe_favorites\u001b[1;34m(category)\u001b[0m\n\u001b[0;32m      2\u001b[0m \u001b[39m\"\u001b[39m\u001b[39mThis code describes you favorite food\u001b[39m\u001b[39m\"\u001b[39m\n\u001b[0;32m      3\u001b[0m favorites \u001b[39m=\u001b[39m {\n\u001b[0;32m      4\u001b[0m     \u001b[39m\"\u001b[39m\u001b[39mappetizer\u001b[39m\u001b[39m\"\u001b[39m:\u001b[39m\"\u001b[39m\u001b[39mcalamari\u001b[39m\u001b[39m\"\u001b[39m,\n\u001b[0;32m      5\u001b[0m     \u001b[39m\"\u001b[39m\u001b[39mvegtable\u001b[39m\u001b[39m\"\u001b[39m:\u001b[39m\"\u001b[39m\u001b[39mbroccoli\u001b[39m\u001b[39m\"\u001b[39m,\n\u001b[0;32m      6\u001b[0m     \u001b[39m\"\u001b[39m\u001b[39mprotein\u001b[39m\u001b[39m\"\u001b[39m:\u001b[39m\"\u001b[39m\u001b[39mchicken\u001b[39m\u001b[39m\"\u001b[39m,\n\u001b[0;32m      7\u001b[0m } \n\u001b[1;32m----> 8\u001b[0m \u001b[39mreturn\u001b[39;00m \u001b[39m\"\u001b[39m\u001b[39mMy favorite \u001b[39m\u001b[39m{}\u001b[39;00m\u001b[39m is \u001b[39m\u001b[39m{}\u001b[39;00m\u001b[39m\"\u001b[39m\u001b[39m.\u001b[39mformat(category,favorites[category])\n",
      "\u001b[1;31mKeyError\u001b[0m: 'dessert'"
     ]
    }
   ],
   "source": [
    "def describe_favorites(category):\n",
    "    \"This code describes you favorite food\"\n",
    "    favorites = {\n",
    "        \"appetizer\":\"calamari\",\n",
    "        \"vegtable\":\"broccoli\",\n",
    "        \"protein\":\"chicken\",\n",
    "    } \n",
    "    return \"My favorite {} is {}\".format(category,favorites[category])\n",
    "\n",
    "describe_favorites('dessert') # KeyError example"
   ]
  },
  {
   "cell_type": "code",
   "execution_count": 6,
   "metadata": {},
   "outputs": [
    {
     "name": "stdout",
     "output_type": "stream",
     "text": [
      "I have no favorite dessert. I love them.\n"
     ]
    }
   ],
   "source": [
    "try:\n",
    "    message = describe_favorites('dessert')\n",
    "    print(message)\n",
    "except KeyError:\n",
    "    print(\"I have no favorite dessert. I love them.\")\n"
   ]
  },
  {
   "cell_type": "code",
   "execution_count": 7,
   "metadata": {},
   "outputs": [],
   "source": [
    "def print_description(category):\n",
    "    try:\n",
    "        message = describe_favorites(category)\n",
    "        print(message)\n",
    "    except KeyError:\n",
    "        print(f\"I have no favorite {category}. I love them all!\")\n",
    "        "
   ]
  },
  {
   "cell_type": "code",
   "execution_count": 8,
   "metadata": {},
   "outputs": [
    {
     "name": "stdout",
     "output_type": "stream",
     "text": [
      "I have no favorite dessert. I love them all!\n"
     ]
    }
   ],
   "source": [
    "print_description('dessert')"
   ]
  },
  {
   "cell_type": "code",
   "execution_count": 10,
   "metadata": {},
   "outputs": [
    {
     "name": "stdout",
     "output_type": "stream",
     "text": [
      "I have no favorite burgers. I love them all!\n"
     ]
    }
   ],
   "source": [
    "print_description('burgers')"
   ]
  },
  {
   "cell_type": "code",
   "execution_count": 11,
   "metadata": {},
   "outputs": [
    {
     "name": "stdout",
     "output_type": "stream",
     "text": [
      "My favorite protein is chicken\n"
     ]
    }
   ],
   "source": [
    "print_description('protein')"
   ]
  },
  {
   "cell_type": "code",
   "execution_count": 12,
   "metadata": {},
   "outputs": [
    {
     "name": "stdout",
     "output_type": "stream",
     "text": [
      "I have no favorite hello world. I love them all!\n",
      "this will always run\n"
     ]
    }
   ],
   "source": [
    "#finally\n",
    "try:\n",
    "    print_description(\"hello world\")\n",
    "finally:\n",
    "    print(\"this will always run\")\n"
   ]
  },
  {
   "cell_type": "markdown",
   "metadata": {},
   "source": [
    "# Section 6.2 Errors are Objects"
   ]
  },
  {
   "cell_type": "code",
   "execution_count": 1,
   "metadata": {},
   "outputs": [
    {
     "name": "stdout",
     "output_type": "stream",
     "text": [
      "the number for a is 1\n",
      "the number for c is 3\n",
      "w\n"
     ]
    }
   ],
   "source": [
    "exDict = {\"a\":1,\"b\":2,\"c\":3}\n",
    "\n",
    "def getComponents(arr):\n",
    "    for i in arr:\n",
    "        print(\"the number for {} is {}\".format(i,exDict[i]))\n",
    "\n",
    "try:\n",
    "    getComponents(['a','c','w'])\n",
    "except KeyError as err:\n",
    "    print(err.args[0]) "
   ]
  },
  {
   "cell_type": "markdown",
   "metadata": {},
   "source": [
    "# Section 6.3 Raising Exceptions"
   ]
  },
  {
   "cell_type": "code",
   "execution_count": 5,
   "metadata": {},
   "outputs": [
    {
     "ename": "ValueError",
     "evalue": "invalid amount: money or euro",
     "output_type": "error",
     "traceback": [
      "\u001b[1;31m---------------------------------------------------------------------------\u001b[0m",
      "\u001b[1;31mValueError\u001b[0m                                Traceback (most recent call last)",
      "Cell \u001b[1;32mIn[5], line 8\u001b[0m\n\u001b[0;32m      5\u001b[0m         \u001b[39mraise\u001b[39;00m \u001b[39mValueError\u001b[39;00m(\u001b[39mf\u001b[39m\u001b[39m\"\u001b[39m\u001b[39minvalid amount: \u001b[39m\u001b[39m{\u001b[39;00mbillUSD\u001b[39m}\u001b[39;00m\u001b[39m or \u001b[39m\u001b[39m{\u001b[39;00mtipUSD\u001b[39m}\u001b[39;00m\u001b[39m\"\u001b[39m)\n\u001b[0;32m      6\u001b[0m     \u001b[39mreturn\u001b[39;00m billUSD \u001b[39m+\u001b[39m  tipUSD\n\u001b[1;32m----> 8\u001b[0m getTotalBill(\u001b[39m'\u001b[39;49m\u001b[39mmoney\u001b[39;49m\u001b[39m'\u001b[39;49m,\u001b[39m'\u001b[39;49m\u001b[39meuro\u001b[39;49m\u001b[39m'\u001b[39;49m)        \n",
      "Cell \u001b[1;32mIn[5], line 5\u001b[0m, in \u001b[0;36mgetTotalBill\u001b[1;34m(billUSD, tipUSD)\u001b[0m\n\u001b[0;32m      3\u001b[0m \u001b[39mdef\u001b[39;00m \u001b[39mgetTotalBill\u001b[39m(billUSD,tipUSD):\n\u001b[0;32m      4\u001b[0m     \u001b[39mif\u001b[39;00m \u001b[39mnot\u001b[39;00m \u001b[39mall\u001b[39m(\u001b[39misinstance\u001b[39m(i,\u001b[39mint\u001b[39m) \u001b[39mfor\u001b[39;00m i \u001b[39min\u001b[39;00m [billUSD,tipUSD]):\n\u001b[1;32m----> 5\u001b[0m         \u001b[39mraise\u001b[39;00m \u001b[39mValueError\u001b[39;00m(\u001b[39mf\u001b[39m\u001b[39m\"\u001b[39m\u001b[39minvalid amount: \u001b[39m\u001b[39m{\u001b[39;00mbillUSD\u001b[39m}\u001b[39;00m\u001b[39m or \u001b[39m\u001b[39m{\u001b[39;00mtipUSD\u001b[39m}\u001b[39;00m\u001b[39m\"\u001b[39m)\n\u001b[0;32m      6\u001b[0m     \u001b[39mreturn\u001b[39;00m billUSD \u001b[39m+\u001b[39m  tipUSD\n",
      "\u001b[1;31mValueError\u001b[0m: invalid amount: money or euro"
     ]
    }
   ],
   "source": [
    "# Function that raises exception\n",
    "\n",
    "def getTotalBill(billUSD,tipUSD):\n",
    "    if not all(isinstance(i,int) for i in [billUSD,tipUSD]):\n",
    "        raise ValueError(f\"invalid amount: {billUSD} or {tipUSD}\")\n",
    "    return billUSD +  tipUSD\n",
    "\n",
    "getTotalBill('money','euro')        "
   ]
  },
  {
   "cell_type": "markdown",
   "metadata": {},
   "source": [
    "# Section 6.4 Catching and Re-raising Exceptions"
   ]
  },
  {
   "cell_type": "code",
   "execution_count": 7,
   "metadata": {},
   "outputs": [
    {
     "name": "stdout",
     "output_type": "stream",
     "text": [
      "You got an error\n"
     ]
    },
    {
     "ename": "KeyError",
     "evalue": "':)'",
     "output_type": "error",
     "traceback": [
      "\u001b[1;31m---------------------------------------------------------------------------\u001b[0m",
      "\u001b[1;31mKeyError\u001b[0m                                  Traceback (most recent call last)",
      "Cell \u001b[1;32mIn[7], line 7\u001b[0m\n\u001b[0;32m      5\u001b[0m parameter \u001b[39m=\u001b[39m \u001b[39m'\u001b[39m\u001b[39m:)\u001b[39m\u001b[39m'\u001b[39m\n\u001b[0;32m      6\u001b[0m \u001b[39mtry\u001b[39;00m:\n\u001b[1;32m----> 7\u001b[0m     getParam(parameter)\n\u001b[0;32m      8\u001b[0m \u001b[39mexcept\u001b[39;00m \u001b[39mKeyError\u001b[39;00m:\n\u001b[0;32m      9\u001b[0m     \u001b[39mprint\u001b[39m(\u001b[39m'\u001b[39m\u001b[39mYou got an error\u001b[39m\u001b[39m'\u001b[39m)\n",
      "Cell \u001b[1;32mIn[7], line 3\u001b[0m, in \u001b[0;36mgetParam\u001b[1;34m(param)\u001b[0m\n\u001b[0;32m      1\u001b[0m \u001b[39mdef\u001b[39;00m \u001b[39mgetParam\u001b[39m(param):\n\u001b[0;32m      2\u001b[0m     paramDict \u001b[39m=\u001b[39m {\u001b[39m\"\u001b[39m\u001b[39mthis\u001b[39m\u001b[39m\"\u001b[39m:\u001b[39m7\u001b[39m,\u001b[39m\"\u001b[39m\u001b[39mthat\u001b[39m\u001b[39m\"\u001b[39m:\u001b[39m12\u001b[39m,\u001b[39m\"\u001b[39m\u001b[39mother\u001b[39m\u001b[39m\"\u001b[39m:\u001b[39m34\u001b[39m}\n\u001b[1;32m----> 3\u001b[0m     \u001b[39mreturn\u001b[39;00m paramDict[param]\n",
      "\u001b[1;31mKeyError\u001b[0m: ':)'"
     ]
    }
   ],
   "source": [
    "def getParam(param):\n",
    "    paramDict = {\"this\":7,\"that\":12,\"other\":34}\n",
    "    return paramDict[param]\n",
    "\n",
    "parameter = ':)'\n",
    "try:\n",
    "    getParam(parameter)\n",
    "except KeyError:\n",
    "    print('You got an error') # Sneak in this message before raising error\n",
    "    raise\n"
   ]
  },
  {
   "cell_type": "markdown",
   "metadata": {},
   "source": [
    "# Section 6.5 The Most Diabolical Python Anti-pattern"
   ]
  },
  {
   "cell_type": "code",
   "execution_count": 8,
   "metadata": {},
   "outputs": [],
   "source": [
    "# Never do this\n",
    "def do_something(x):\n",
    "    return x + 2\n",
    "\n",
    "try:\n",
    "    do_something('hi')\n",
    "except:\n",
    "    pass # Program will just run fine and you will never catch "
   ]
  },
  {
   "cell_type": "code",
   "execution_count": 9,
   "metadata": {},
   "outputs": [
    {
     "name": "stderr",
     "output_type": "stream",
     "text": [
      "ERROR:root:Caught error\n",
      "Traceback (most recent call last):\n",
      "  File \"C:\\Users\\Aaron\\AppData\\Local\\Temp\\ipykernel_19868\\2016871880.py\", line 7, in <module>\n",
      "    cause_error()\n",
      "  File \"C:\\Users\\Aaron\\AppData\\Local\\Temp\\ipykernel_19868\\2016871880.py\", line 4, in cause_error\n",
      "    return int('foo')\n",
      "           ^^^^^^^^^^\n",
      "ValueError: invalid literal for int() with base 10: 'foo'\n"
     ]
    }
   ],
   "source": [
    "import logging\n",
    "\n",
    "def cause_error():\n",
    "    return int('foo')\n",
    "\n",
    "try:\n",
    "    cause_error()\n",
    "except:\n",
    "    logging.exception('Caught error')"
   ]
  }
 ],
 "metadata": {
  "kernelspec": {
   "display_name": "Python 3",
   "language": "python",
   "name": "python3"
  },
  "language_info": {
   "codemirror_mode": {
    "name": "ipython",
    "version": 3
   },
   "file_extension": ".py",
   "mimetype": "text/x-python",
   "name": "python",
   "nbconvert_exporter": "python",
   "pygments_lexer": "ipython3",
   "version": "3.11.4"
  },
  "orig_nbformat": 4
 },
 "nbformat": 4,
 "nbformat_minor": 2
}
