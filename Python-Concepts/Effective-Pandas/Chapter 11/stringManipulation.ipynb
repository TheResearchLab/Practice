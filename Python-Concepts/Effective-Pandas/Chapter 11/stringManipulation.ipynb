{
 "cells": [
  {
   "cell_type": "code",
   "execution_count": 2,
   "metadata": {},
   "outputs": [
    {
     "name": "stdout",
     "output_type": "stream",
     "text": [
      "Collecting Cython\n",
      "  Obtaining dependency information for Cython from https://files.pythonhosted.org/packages/30/ca/d68432adc1bf90b450c4d9aaf7cbadae50bca0cad1686b1976498abe2eca/Cython-3.0.5-cp311-cp311-win_amd64.whl.metadata\n",
      "  Downloading Cython-3.0.5-cp311-cp311-win_amd64.whl.metadata (3.2 kB)\n",
      "Downloading Cython-3.0.5-cp311-cp311-win_amd64.whl (2.8 MB)\n",
      "   ---------------------------------------- 0.0/2.8 MB ? eta -:--:--\n",
      "   ---------------------------------------- 0.0/2.8 MB ? eta -:--:--\n",
      "   ---------------------------------------- 0.0/2.8 MB 435.7 kB/s eta 0:00:07\n",
      "   --- ------------------------------------ 0.3/2.8 MB 2.6 MB/s eta 0:00:01\n",
      "   ------------- -------------------------- 1.0/2.8 MB 6.8 MB/s eta 0:00:01\n",
      "   ----------------------- ---------------- 1.6/2.8 MB 9.5 MB/s eta 0:00:01\n",
      "   ---------------------------------------  2.8/2.8 MB 12.7 MB/s eta 0:00:01\n",
      "   ---------------------------------------- 2.8/2.8 MB 11.1 MB/s eta 0:00:00\n",
      "Installing collected packages: Cython\n",
      "Successfully installed Cython-3.0.5\n"
     ]
    },
    {
     "name": "stderr",
     "output_type": "stream",
     "text": [
      "  WARNING: The scripts cygdb.exe, cython.exe and cythonize.exe are installed in 'c:\\Users\\Aaron\\AppData\\Local\\Programs\\Python\\Python311\\Scripts' which is not on PATH.\n",
      "  Consider adding this directory to PATH or, if you prefer to suppress this warning, use --no-warn-script-location.\n",
      "\n",
      "[notice] A new release of pip is available: 23.2.1 -> 23.3.1\n",
      "[notice] To update, run: python.exe -m pip install --upgrade pip\n"
     ]
    }
   ],
   "source": [
    "import sys \n",
    "!{sys.executable} -m pip install Cython"
   ]
  },
  {
   "cell_type": "code",
   "execution_count": 4,
   "metadata": {},
   "outputs": [
    {
     "name": "stdout",
     "output_type": "stream",
     "text": [
      "The Cython extension is already loaded. To reload it, use:\n",
      "  %reload_ext Cython\n"
     ]
    },
    {
     "name": "stderr",
     "output_type": "stream",
     "text": [
      "UsageError: Line magic function `%%cython` not found.\n"
     ]
    }
   ],
   "source": [
    "%load_ext Cython"
   ]
  },
  {
   "cell_type": "code",
   "execution_count": 6,
   "metadata": {},
   "outputs": [
    {
     "ename": "DistutilsPlatformError",
     "evalue": "Microsoft Visual C++ 14.0 or greater is required. Get it with \"Microsoft C++ Build Tools\": https://visualstudio.microsoft.com/visual-cpp-build-tools/",
     "output_type": "error",
     "traceback": [
      "\u001b[1;31m---------------------------------------------------------------------------\u001b[0m",
      "\u001b[1;31mDistutilsPlatformError\u001b[0m                    Traceback (most recent call last)",
      "\u001b[1;32mc:\\Users\\Aaron\\Actual_Repo\\Practice\\Python-Concepts\\Effective-Pandas\\Chapter 11\\stringManipulation.ipynb Cell 3\u001b[0m line \u001b[0;36m1\n\u001b[1;32m----> <a href='vscode-notebook-cell:/c%3A/Users/Aaron/Actual_Repo/Practice/Python-Concepts/Effective-Pandas/Chapter%2011/stringManipulation.ipynb#W1sZmlsZQ%3D%3D?line=0'>1</a>\u001b[0m get_ipython()\u001b[39m.\u001b[39;49mrun_cell_magic(\u001b[39m'\u001b[39;49m\u001b[39mcython\u001b[39;49m\u001b[39m'\u001b[39;49m, \u001b[39m'\u001b[39;49m\u001b[39m'\u001b[39;49m, \u001b[39m'\u001b[39;49m\u001b[39mimport random\u001b[39;49m\u001b[39m\\n\u001b[39;49;00m\u001b[39m\\n\u001b[39;49;00m\u001b[39mdef between(row):\u001b[39;49m\u001b[39m\\n\u001b[39;49;00m\u001b[39m    return random.randint(*row.values)\u001b[39;49m\u001b[39m\\n\u001b[39;49;00m\u001b[39m\\n\u001b[39;49;00m\u001b[39mdef between_cy(row):\u001b[39;49m\u001b[39m\\n\u001b[39;49;00m\u001b[39m    return random.randint(*row.values)\u001b[39;49m\u001b[39m\\n\u001b[39;49;00m\u001b[39m'\u001b[39;49m)\n",
      "File \u001b[1;32m~\\AppData\\Roaming\\Python\\Python311\\site-packages\\IPython\\core\\interactiveshell.py:2478\u001b[0m, in \u001b[0;36mInteractiveShell.run_cell_magic\u001b[1;34m(self, magic_name, line, cell)\u001b[0m\n\u001b[0;32m   2476\u001b[0m \u001b[39mwith\u001b[39;00m \u001b[39mself\u001b[39m\u001b[39m.\u001b[39mbuiltin_trap:\n\u001b[0;32m   2477\u001b[0m     args \u001b[39m=\u001b[39m (magic_arg_s, cell)\n\u001b[1;32m-> 2478\u001b[0m     result \u001b[39m=\u001b[39m fn(\u001b[39m*\u001b[39;49margs, \u001b[39m*\u001b[39;49m\u001b[39m*\u001b[39;49mkwargs)\n\u001b[0;32m   2480\u001b[0m \u001b[39m# The code below prevents the output from being displayed\u001b[39;00m\n\u001b[0;32m   2481\u001b[0m \u001b[39m# when using magics with decodator @output_can_be_silenced\u001b[39;00m\n\u001b[0;32m   2482\u001b[0m \u001b[39m# when the last Python token in the expression is a ';'.\u001b[39;00m\n\u001b[0;32m   2483\u001b[0m \u001b[39mif\u001b[39;00m \u001b[39mgetattr\u001b[39m(fn, magic\u001b[39m.\u001b[39mMAGIC_OUTPUT_CAN_BE_SILENCED, \u001b[39mFalse\u001b[39;00m):\n",
      "File \u001b[1;32mc:\\Users\\Aaron\\AppData\\Local\\Programs\\Python\\Python311\\Lib\\site-packages\\Cython\\Build\\IpythonMagic.py:349\u001b[0m, in \u001b[0;36mCythonMagics.cython\u001b[1;34m(self, line, cell)\u001b[0m\n\u001b[0;32m    347\u001b[0m     \u001b[39mwith\u001b[39;00m captured_fd(\u001b[39m1\u001b[39m) \u001b[39mas\u001b[39;00m get_stdout:\n\u001b[0;32m    348\u001b[0m         \u001b[39mwith\u001b[39;00m captured_fd(\u001b[39m2\u001b[39m) \u001b[39mas\u001b[39;00m get_stderr:\n\u001b[1;32m--> 349\u001b[0m             \u001b[39mself\u001b[39;49m\u001b[39m.\u001b[39;49m_build_extension(\n\u001b[0;32m    350\u001b[0m                 extension, lib_dir, pgo_step_name\u001b[39m=\u001b[39;49m\u001b[39m'\u001b[39;49m\u001b[39muse\u001b[39;49m\u001b[39m'\u001b[39;49m \u001b[39mif\u001b[39;49;00m args\u001b[39m.\u001b[39;49mpgo \u001b[39melse\u001b[39;49;00m \u001b[39mNone\u001b[39;49;00m, quiet\u001b[39m=\u001b[39;49margs\u001b[39m.\u001b[39;49mquiet)\n\u001b[0;32m    351\u001b[0m \u001b[39mexcept\u001b[39;00m (distutils\u001b[39m.\u001b[39merrors\u001b[39m.\u001b[39mCompileError, distutils\u001b[39m.\u001b[39merrors\u001b[39m.\u001b[39mLinkError):\n\u001b[0;32m    352\u001b[0m     \u001b[39m# Build failed, print error message from compiler/linker\u001b[39;00m\n\u001b[0;32m    353\u001b[0m     print_compiler_output(get_stdout(), get_stderr(), sys\u001b[39m.\u001b[39mstderr)\n",
      "File \u001b[1;32mc:\\Users\\Aaron\\AppData\\Local\\Programs\\Python\\Python311\\Lib\\site-packages\\Cython\\Build\\IpythonMagic.py:466\u001b[0m, in \u001b[0;36mCythonMagics._build_extension\u001b[1;34m(self, extension, lib_dir, temp_dir, pgo_step_name, quiet)\u001b[0m\n\u001b[0;32m    464\u001b[0m     \u001b[39mif\u001b[39;00m \u001b[39mnot\u001b[39;00m quiet:\n\u001b[0;32m    465\u001b[0m         old_threshold \u001b[39m=\u001b[39m distutils\u001b[39m.\u001b[39mlog\u001b[39m.\u001b[39mset_threshold(distutils\u001b[39m.\u001b[39mlog\u001b[39m.\u001b[39mDEBUG)\n\u001b[1;32m--> 466\u001b[0m     build_extension\u001b[39m.\u001b[39;49mrun()\n\u001b[0;32m    467\u001b[0m \u001b[39mfinally\u001b[39;00m:\n\u001b[0;32m    468\u001b[0m     \u001b[39mif\u001b[39;00m \u001b[39mnot\u001b[39;00m quiet \u001b[39mand\u001b[39;00m old_threshold \u001b[39mis\u001b[39;00m \u001b[39mnot\u001b[39;00m \u001b[39mNone\u001b[39;00m:\n",
      "File \u001b[1;32mc:\\Users\\Aaron\\AppData\\Local\\Programs\\Python\\Python311\\Lib\\site-packages\\setuptools\\_distutils\\command\\build_ext.py:346\u001b[0m, in \u001b[0;36mbuild_ext.run\u001b[1;34m(self)\u001b[0m\n\u001b[0;32m    343\u001b[0m     \u001b[39mself\u001b[39m\u001b[39m.\u001b[39mcompiler\u001b[39m.\u001b[39mset_link_objects(\u001b[39mself\u001b[39m\u001b[39m.\u001b[39mlink_objects)\n\u001b[0;32m    345\u001b[0m \u001b[39m# Now actually compile and link everything.\u001b[39;00m\n\u001b[1;32m--> 346\u001b[0m \u001b[39mself\u001b[39;49m\u001b[39m.\u001b[39;49mbuild_extensions()\n",
      "File \u001b[1;32mc:\\Users\\Aaron\\AppData\\Local\\Programs\\Python\\Python311\\Lib\\site-packages\\setuptools\\_distutils\\command\\build_ext.py:466\u001b[0m, in \u001b[0;36mbuild_ext.build_extensions\u001b[1;34m(self)\u001b[0m\n\u001b[0;32m    464\u001b[0m     \u001b[39mself\u001b[39m\u001b[39m.\u001b[39m_build_extensions_parallel()\n\u001b[0;32m    465\u001b[0m \u001b[39melse\u001b[39;00m:\n\u001b[1;32m--> 466\u001b[0m     \u001b[39mself\u001b[39;49m\u001b[39m.\u001b[39;49m_build_extensions_serial()\n",
      "File \u001b[1;32mc:\\Users\\Aaron\\AppData\\Local\\Programs\\Python\\Python311\\Lib\\site-packages\\setuptools\\_distutils\\command\\build_ext.py:492\u001b[0m, in \u001b[0;36mbuild_ext._build_extensions_serial\u001b[1;34m(self)\u001b[0m\n\u001b[0;32m    490\u001b[0m \u001b[39mfor\u001b[39;00m ext \u001b[39min\u001b[39;00m \u001b[39mself\u001b[39m\u001b[39m.\u001b[39mextensions:\n\u001b[0;32m    491\u001b[0m     \u001b[39mwith\u001b[39;00m \u001b[39mself\u001b[39m\u001b[39m.\u001b[39m_filter_build_errors(ext):\n\u001b[1;32m--> 492\u001b[0m         \u001b[39mself\u001b[39;49m\u001b[39m.\u001b[39;49mbuild_extension(ext)\n",
      "File \u001b[1;32mc:\\Users\\Aaron\\AppData\\Local\\Programs\\Python\\Python311\\Lib\\site-packages\\setuptools\\_distutils\\command\\build_ext.py:547\u001b[0m, in \u001b[0;36mbuild_ext.build_extension\u001b[1;34m(self, ext)\u001b[0m\n\u001b[0;32m    544\u001b[0m \u001b[39mfor\u001b[39;00m undef \u001b[39min\u001b[39;00m ext\u001b[39m.\u001b[39mundef_macros:\n\u001b[0;32m    545\u001b[0m     macros\u001b[39m.\u001b[39mappend((undef,))\n\u001b[1;32m--> 547\u001b[0m objects \u001b[39m=\u001b[39m \u001b[39mself\u001b[39;49m\u001b[39m.\u001b[39;49mcompiler\u001b[39m.\u001b[39;49mcompile(\n\u001b[0;32m    548\u001b[0m     sources,\n\u001b[0;32m    549\u001b[0m     output_dir\u001b[39m=\u001b[39;49m\u001b[39mself\u001b[39;49m\u001b[39m.\u001b[39;49mbuild_temp,\n\u001b[0;32m    550\u001b[0m     macros\u001b[39m=\u001b[39;49mmacros,\n\u001b[0;32m    551\u001b[0m     include_dirs\u001b[39m=\u001b[39;49mext\u001b[39m.\u001b[39;49minclude_dirs,\n\u001b[0;32m    552\u001b[0m     debug\u001b[39m=\u001b[39;49m\u001b[39mself\u001b[39;49m\u001b[39m.\u001b[39;49mdebug,\n\u001b[0;32m    553\u001b[0m     extra_postargs\u001b[39m=\u001b[39;49mextra_args,\n\u001b[0;32m    554\u001b[0m     depends\u001b[39m=\u001b[39;49mext\u001b[39m.\u001b[39;49mdepends,\n\u001b[0;32m    555\u001b[0m )\n\u001b[0;32m    557\u001b[0m \u001b[39m# XXX outdated variable, kept here in case third-part code\u001b[39;00m\n\u001b[0;32m    558\u001b[0m \u001b[39m# needs it.\u001b[39;00m\n\u001b[0;32m    559\u001b[0m \u001b[39mself\u001b[39m\u001b[39m.\u001b[39m_built_objects \u001b[39m=\u001b[39m objects[:]\n",
      "File \u001b[1;32mc:\\Users\\Aaron\\AppData\\Local\\Programs\\Python\\Python311\\Lib\\site-packages\\setuptools\\_distutils\\_msvccompiler.py:344\u001b[0m, in \u001b[0;36mMSVCCompiler.compile\u001b[1;34m(self, sources, output_dir, macros, include_dirs, debug, extra_preargs, extra_postargs, depends)\u001b[0m\n\u001b[0;32m    331\u001b[0m \u001b[39mdef\u001b[39;00m \u001b[39mcompile\u001b[39m(  \u001b[39m# noqa: C901\u001b[39;00m\n\u001b[0;32m    332\u001b[0m     \u001b[39mself\u001b[39m,\n\u001b[0;32m    333\u001b[0m     sources,\n\u001b[1;32m   (...)\u001b[0m\n\u001b[0;32m    340\u001b[0m     depends\u001b[39m=\u001b[39m\u001b[39mNone\u001b[39;00m,\n\u001b[0;32m    341\u001b[0m ):\n\u001b[0;32m    343\u001b[0m     \u001b[39mif\u001b[39;00m \u001b[39mnot\u001b[39;00m \u001b[39mself\u001b[39m\u001b[39m.\u001b[39minitialized:\n\u001b[1;32m--> 344\u001b[0m         \u001b[39mself\u001b[39;49m\u001b[39m.\u001b[39;49minitialize()\n\u001b[0;32m    345\u001b[0m     compile_info \u001b[39m=\u001b[39m \u001b[39mself\u001b[39m\u001b[39m.\u001b[39m_setup_compile(\n\u001b[0;32m    346\u001b[0m         output_dir, macros, include_dirs, sources, depends, extra_postargs\n\u001b[0;32m    347\u001b[0m     )\n\u001b[0;32m    348\u001b[0m     macros, objects, extra_postargs, pp_opts, build \u001b[39m=\u001b[39m compile_info\n",
      "File \u001b[1;32mc:\\Users\\Aaron\\AppData\\Local\\Programs\\Python\\Python311\\Lib\\site-packages\\setuptools\\_distutils\\_msvccompiler.py:253\u001b[0m, in \u001b[0;36mMSVCCompiler.initialize\u001b[1;34m(self, plat_name)\u001b[0m\n\u001b[0;32m    250\u001b[0m \u001b[39m# Get the vcvarsall.bat spec for the requested platform.\u001b[39;00m\n\u001b[0;32m    251\u001b[0m plat_spec \u001b[39m=\u001b[39m PLAT_TO_VCVARS[plat_name]\n\u001b[1;32m--> 253\u001b[0m vc_env \u001b[39m=\u001b[39m _get_vc_env(plat_spec)\n\u001b[0;32m    254\u001b[0m \u001b[39mif\u001b[39;00m \u001b[39mnot\u001b[39;00m vc_env:\n\u001b[0;32m    255\u001b[0m     \u001b[39mraise\u001b[39;00m DistutilsPlatformError(\n\u001b[0;32m    256\u001b[0m         \u001b[39m\"\u001b[39m\u001b[39mUnable to find a compatible \u001b[39m\u001b[39m\"\u001b[39m \u001b[39m\"\u001b[39m\u001b[39mVisual Studio installation.\u001b[39m\u001b[39m\"\u001b[39m\n\u001b[0;32m    257\u001b[0m     )\n",
      "File \u001b[1;32mc:\\Users\\Aaron\\AppData\\Local\\Programs\\Python\\Python311\\Lib\\site-packages\\setuptools\\msvc.py:214\u001b[0m, in \u001b[0;36mmsvc14_get_vc_env\u001b[1;34m(plat_spec)\u001b[0m\n\u001b[0;32m    212\u001b[0m \u001b[39m# Always use backport from CPython 3.8\u001b[39;00m\n\u001b[0;32m    213\u001b[0m \u001b[39mtry\u001b[39;00m:\n\u001b[1;32m--> 214\u001b[0m     \u001b[39mreturn\u001b[39;00m _msvc14_get_vc_env(plat_spec)\n\u001b[0;32m    215\u001b[0m \u001b[39mexcept\u001b[39;00m distutils\u001b[39m.\u001b[39merrors\u001b[39m.\u001b[39mDistutilsPlatformError \u001b[39mas\u001b[39;00m exc:\n\u001b[0;32m    216\u001b[0m     _augment_exception(exc, \u001b[39m14.0\u001b[39m)\n",
      "File \u001b[1;32mc:\\Users\\Aaron\\AppData\\Local\\Programs\\Python\\Python311\\Lib\\site-packages\\setuptools\\msvc.py:168\u001b[0m, in \u001b[0;36m_msvc14_get_vc_env\u001b[1;34m(plat_spec)\u001b[0m\n\u001b[0;32m    166\u001b[0m vcvarsall, vcruntime \u001b[39m=\u001b[39m _msvc14_find_vcvarsall(plat_spec)\n\u001b[0;32m    167\u001b[0m \u001b[39mif\u001b[39;00m \u001b[39mnot\u001b[39;00m vcvarsall:\n\u001b[1;32m--> 168\u001b[0m     \u001b[39mraise\u001b[39;00m distutils\u001b[39m.\u001b[39merrors\u001b[39m.\u001b[39mDistutilsPlatformError(\n\u001b[0;32m    169\u001b[0m         \u001b[39m\"\u001b[39m\u001b[39mUnable to find vcvarsall.bat\u001b[39m\u001b[39m\"\u001b[39m\n\u001b[0;32m    170\u001b[0m     )\n\u001b[0;32m    172\u001b[0m \u001b[39mtry\u001b[39;00m:\n\u001b[0;32m    173\u001b[0m     out \u001b[39m=\u001b[39m subprocess\u001b[39m.\u001b[39mcheck_output(\n\u001b[0;32m    174\u001b[0m         \u001b[39m'\u001b[39m\u001b[39mcmd /u /c \u001b[39m\u001b[39m\"\u001b[39m\u001b[39m{}\u001b[39;00m\u001b[39m\"\u001b[39m\u001b[39m \u001b[39m\u001b[39m{}\u001b[39;00m\u001b[39m && set\u001b[39m\u001b[39m'\u001b[39m\u001b[39m.\u001b[39mformat(vcvarsall, plat_spec),\n\u001b[0;32m    175\u001b[0m         stderr\u001b[39m=\u001b[39msubprocess\u001b[39m.\u001b[39mSTDOUT,\n\u001b[0;32m    176\u001b[0m     )\u001b[39m.\u001b[39mdecode(\u001b[39m'\u001b[39m\u001b[39mutf-16le\u001b[39m\u001b[39m'\u001b[39m, errors\u001b[39m=\u001b[39m\u001b[39m'\u001b[39m\u001b[39mreplace\u001b[39m\u001b[39m'\u001b[39m)\n",
      "\u001b[1;31mDistutilsPlatformError\u001b[0m: Microsoft Visual C++ 14.0 or greater is required. Get it with \"Microsoft C++ Build Tools\": https://visualstudio.microsoft.com/visual-cpp-build-tools/"
     ]
    }
   ],
   "source": [
    "%%cython \n",
    "import random\n",
    "\n",
    "def between(row):\n",
    "    return random.randint(*row.values)\n",
    "\n",
    "def between_cy(row):\n",
    "    return random.randint(*row.values)"
   ]
  },
  {
   "cell_type": "code",
   "execution_count": null,
   "metadata": {},
   "outputs": [],
   "source": []
  }
 ],
 "metadata": {
  "kernelspec": {
   "display_name": "Python 3",
   "language": "python",
   "name": "python3"
  },
  "language_info": {
   "codemirror_mode": {
    "name": "ipython",
    "version": 3
   },
   "file_extension": ".py",
   "mimetype": "text/x-python",
   "name": "python",
   "nbconvert_exporter": "python",
   "pygments_lexer": "ipython3",
   "version": "3.11.5"
  }
 },
 "nbformat": 4,
 "nbformat_minor": 2
}
