{
 "cells": [
  {
   "cell_type": "code",
   "execution_count": 1,
   "metadata": {},
   "outputs": [
    {
     "data": {
      "text/plain": [
       "<list_iterator at 0x1f8b2aaada0>"
      ]
     },
     "execution_count": 1,
     "metadata": {},
     "output_type": "execute_result"
    }
   ],
   "source": [
    "# Returns an interator\n",
    "numbers = [23,54,2,5,7,14]\n",
    "iter(numbers)"
   ]
  },
  {
   "cell_type": "code",
   "execution_count": 10,
   "metadata": {},
   "outputs": [
    {
     "name": "stdout",
     "output_type": "stream",
     "text": [
      "23\n",
      "54\n",
      "2\n",
      "5\n",
      "7\n",
      "14\n",
      "\n",
      "Sames as\n",
      "\n",
      "23\n",
      "54\n",
      "2\n",
      "5\n",
      "7\n",
      "14\n"
     ]
    }
   ],
   "source": [
    "#Returns the next number\n",
    "num_iter = iter(numbers)\n",
    "for num in num_iter: print(num)\n",
    "\n",
    "print('\\nSames as\\n')\n",
    "\n",
    "#Same as above\n",
    "for num in numbers:\n",
    "    print(num)"
   ]
  },
  {
   "cell_type": "code",
   "execution_count": 13,
   "metadata": {},
   "outputs": [
    {
     "data": {
      "text/plain": [
       "2167661227072"
      ]
     },
     "metadata": {},
     "output_type": "display_data"
    },
    {
     "data": {
      "text/plain": [
       "2167661051664"
      ]
     },
     "execution_count": 13,
     "metadata": {},
     "output_type": "execute_result"
    }
   ],
   "source": [
    "# Numbers collection and the num_iter are two different object. Can validate with Python ID function\n",
    "display(id(numbers))\n",
    "id(num_iter)"
   ]
  },
  {
   "cell_type": "code",
   "execution_count": 18,
   "metadata": {},
   "outputs": [
    {
     "data": {
      "text/plain": [
       "'tooth'"
      ]
     },
     "execution_count": 18,
     "metadata": {},
     "output_type": "execute_result"
    }
   ],
   "source": [
    "words = ['cat','bar','bat']\n",
    "iter_words = iter(words)\n",
    "\n",
    "next(iter_words) #cat\n",
    "next(iter_words) #bar\n",
    "next(iter_words) #bat\n",
    "#next(iter_words) # Throws StopIteration\n",
    "next(iter_words,'tooth') #second argument for default words when iterator is done  \n"
   ]
  },
  {
   "cell_type": "code",
   "execution_count": 30,
   "metadata": {},
   "outputs": [
    {
     "name": "stdout",
     "output_type": "stream",
     "text": [
      "0\n",
      "1\n",
      "2\n",
      "3\n"
     ]
    }
   ],
   "source": [
    "#Generator - good for avoiding creating huge list that are only used once\n",
    "def gen_num():\n",
    "    n=0\n",
    "    while n < 4:\n",
    "        yield n\n",
    "        n+=1\n",
    "\n",
    "for n in gen_num():\n",
    "    print(n)"
   ]
  },
  {
   "cell_type": "code",
   "execution_count": 33,
   "metadata": {},
   "outputs": [
    {
     "data": {
      "text/plain": [
       "generator"
      ]
     },
     "execution_count": 33,
     "metadata": {},
     "output_type": "execute_result"
    }
   ],
   "source": [
    "type(gen_num) #returns a generator function\n",
    "type(gen_num()) #returns a generator object"
   ]
  },
  {
   "cell_type": "code",
   "execution_count": 51,
   "metadata": {},
   "outputs": [],
   "source": [
    "sequence = gen_num()"
   ]
  },
  {
   "cell_type": "code",
   "execution_count": 52,
   "metadata": {},
   "outputs": [
    {
     "data": {
      "text/plain": [
       "0"
      ]
     },
     "metadata": {},
     "output_type": "display_data"
    },
    {
     "data": {
      "text/plain": [
       "1"
      ]
     },
     "metadata": {},
     "output_type": "display_data"
    },
    {
     "data": {
      "text/plain": [
       "2"
      ]
     },
     "metadata": {},
     "output_type": "display_data"
    },
    {
     "data": {
      "text/plain": [
       "3"
      ]
     },
     "metadata": {},
     "output_type": "display_data"
    }
   ],
   "source": [
    "# Not the same as just doing next(gen_num())\n",
    "display(next(sequence))\n",
    "display(next(sequence))\n",
    "display(next(sequence))\n",
    "display(next(sequence))"
   ]
  },
  {
   "cell_type": "code",
   "execution_count": 91,
   "metadata": {},
   "outputs": [],
   "source": [
    "def fib_gen(n):\n",
    "    prev_sum = 1\n",
    "    prev_num = 1\n",
    "    new_sum = prev_sum + prev_num\n",
    "    i=0\n",
    "\n",
    "    while i < n:\n",
    "        yield new_sum\n",
    "        prev_num = prev_sum\n",
    "        prev_sum = new_sum\n",
    "        new_sum = prev_sum + prev_num\n",
    "        i+=1\n",
    "\n",
    "    "
   ]
  },
  {
   "cell_type": "code",
   "execution_count": 94,
   "metadata": {},
   "outputs": [],
   "source": [
    "fib = fib_gen(6)"
   ]
  },
  {
   "cell_type": "code",
   "execution_count": 99,
   "metadata": {},
   "outputs": [
    {
     "name": "stdout",
     "output_type": "stream",
     "text": [
      "2\n",
      "3\n",
      "5\n",
      "8\n",
      "13\n",
      "21\n",
      "34\n",
      "55\n",
      "89\n",
      "144\n",
      "233\n"
     ]
    }
   ],
   "source": [
    "for i in fib_gen(11):\n",
    "    print(i)"
   ]
  },
  {
   "cell_type": "code",
   "execution_count": 105,
   "metadata": {},
   "outputs": [],
   "source": [
    "# Redo function as generator on page 17\n",
    "\n",
    "def fetch_squares_gen(max_root):\n",
    "    for i in range(max_root):\n",
    "        yield i**2\n",
    "\n",
    "sequence = fetch_squares_gen(5)\n",
    "\n",
    "for i in sequence:\n",
    "    print(i)"
   ]
  },
  {
   "cell_type": "code",
   "execution_count": 113,
   "metadata": {},
   "outputs": [
    {
     "data": {
      "text/plain": [
       "range"
      ]
     },
     "execution_count": 113,
     "metadata": {},
     "output_type": "execute_result"
    }
   ],
   "source": [
    "type(range(12)) # Range is a scalable iterator  "
   ]
  },
  {
   "cell_type": "code",
   "execution_count": 118,
   "metadata": {},
   "outputs": [
    {
     "name": "stdout",
     "output_type": "stream",
     "text": [
      "address  2345 lane drive\n"
     ]
    }
   ],
   "source": [
    "# String Key Value Split\n",
    "key, value = str(\"address: 2345 lane drive\").split(\":\", 1)\n",
    "print(key,value)"
   ]
  },
  {
   "cell_type": "markdown",
   "metadata": {},
   "source": [
    "# Section 2.4 Iterators Everywhere"
   ]
  },
  {
   "cell_type": "code",
   "execution_count": 15,
   "metadata": {},
   "outputs": [
    {
     "data": {
      "text/plain": [
       "dict_items"
      ]
     },
     "execution_count": 15,
     "metadata": {},
     "output_type": "execute_result"
    }
   ],
   "source": [
    "# Python Views\n",
    "calories = {\n",
    "    \"apple\":100,\n",
    "    \"bacon\":130,\n",
    "    \"mango\": 330,\n",
    "    \"salmon roll\":320,\n",
    "}\n",
    "\n",
    "items = calories.items()\n",
    "type(items)"
   ]
  },
  {
   "cell_type": "code",
   "execution_count": 16,
   "metadata": {},
   "outputs": [
    {
     "data": {
      "text/plain": [
       "dict_items([('apple', 100), ('bacon', 130), ('mango', 330), ('salmon roll', 320)])"
      ]
     },
     "execution_count": 16,
     "metadata": {},
     "output_type": "execute_result"
    }
   ],
   "source": [
    "items #looks like you wrap a list of tuples into a function call dict_items"
   ]
  },
  {
   "cell_type": "code",
   "execution_count": 17,
   "metadata": {},
   "outputs": [
    {
     "data": {
      "text/plain": [
       "4"
      ]
     },
     "metadata": {},
     "output_type": "display_data"
    },
    {
     "data": {
      "text/plain": [
       "5"
      ]
     },
     "metadata": {},
     "output_type": "display_data"
    }
   ],
   "source": [
    "#It also updates if underlying data updates\n",
    "display(len(items))\n",
    "calories['orange'] = 150\n",
    "display(len(items)) #added to the end"
   ]
  },
  {
   "cell_type": "code",
   "execution_count": 21,
   "metadata": {},
   "outputs": [
    {
     "data": {
      "text/plain": [
       "False"
      ]
     },
     "metadata": {},
     "output_type": "display_data"
    },
    {
     "data": {
      "text/plain": [
       "True"
      ]
     },
     "metadata": {},
     "output_type": "display_data"
    }
   ],
   "source": [
    "# key values also returns a view\n",
    "foods = calories.keys()\n",
    "counts = calories.values()\n",
    "\n",
    "display('lo mein' in foods)\n",
    "display(320 in counts)\n"
   ]
  },
  {
   "cell_type": "code",
   "execution_count": 22,
   "metadata": {},
   "outputs": [
    {
     "data": {
      "text/plain": [
       "<zip at 0x24c206fdf00>"
      ]
     },
     "metadata": {},
     "output_type": "display_data"
    },
    {
     "data": {
      "text/plain": [
       "zip"
      ]
     },
     "execution_count": 22,
     "metadata": {},
     "output_type": "execute_result"
    }
   ],
   "source": [
    "# ZIP also returns iterable\n",
    "bigNumbers = [100,200,300,400]\n",
    "lilNumbers = [1,2,3,4]\n",
    "\n",
    "zipped = zip(lilNumbers,bigNumbers)\n",
    "display(zipped)\n",
    "type(zipped)"
   ]
  },
  {
   "cell_type": "markdown",
   "metadata": {},
   "source": [
    "# Chapter 2.5 - Iterator Protocol"
   ]
  },
  {
   "cell_type": "code",
   "execution_count": 25,
   "metadata": {},
   "outputs": [],
   "source": [
    "# creating our own next function\n",
    "# This is for the iterator\n",
    "_NO_DEFAULT = object()\n",
    "def next(it,default=_NO_DEFAULT):\n",
    "    try:\n",
    "        return it.__next__()\n",
    "    except StopIteration:\n",
    "        if defaut is _NO_DEFAULT:\n",
    "            raise\n",
    "        return default "
   ]
  },
  {
   "cell_type": "code",
   "execution_count": 54,
   "metadata": {},
   "outputs": [
    {
     "data": {
      "text/plain": [
       "1"
      ]
     },
     "metadata": {},
     "output_type": "display_data"
    },
    {
     "data": {
      "text/plain": [
       "2"
      ]
     },
     "metadata": {},
     "output_type": "display_data"
    },
    {
     "data": {
      "text/plain": [
       "3"
      ]
     },
     "metadata": {},
     "output_type": "display_data"
    }
   ],
   "source": [
    "lst = iter([1,2,3])\n",
    "\n",
    "display(next(lst),\n",
    "        next(lst),\n",
    "        next(lst))\n"
   ]
  },
  {
   "cell_type": "code",
   "execution_count": 30,
   "metadata": {},
   "outputs": [],
   "source": [
    "class UniqueList:\n",
    "    def __init__(self,items):\n",
    "        self.items = []\n",
    "        for item in items:\n",
    "            self.items.append(item)\n",
    "    def append(self,item):\n",
    "        if item not in self.items:\n",
    "            self.items.append(item)\n",
    "    def __getitem__(self,index):\n",
    "        return self.items[index]"
   ]
  },
  {
   "cell_type": "code",
   "execution_count": 38,
   "metadata": {},
   "outputs": [
    {
     "data": {
      "text/plain": [
       "3"
      ]
     },
     "execution_count": 38,
     "metadata": {},
     "output_type": "execute_result"
    }
   ],
   "source": [
    "ul = UniqueList([1,2,3,3,3])\n",
    "ul[4]"
   ]
  },
  {
   "cell_type": "code",
   "execution_count": 42,
   "metadata": {},
   "outputs": [
    {
     "ename": "IndexError",
     "evalue": "list index out of range",
     "output_type": "error",
     "traceback": [
      "\u001b[1;31m---------------------------------------------------------------------------\u001b[0m",
      "\u001b[1;31mIndexError\u001b[0m                                Traceback (most recent call last)",
      "Cell \u001b[1;32mIn[42], line 2\u001b[0m\n\u001b[0;32m      1\u001b[0m ul\u001b[39m.\u001b[39mappend(\u001b[39m3\u001b[39m)\n\u001b[1;32m----> 2\u001b[0m ul[\u001b[39m5\u001b[39;49m]\n",
      "Cell \u001b[1;32mIn[30], line 10\u001b[0m, in \u001b[0;36mUniqueList.__getitem__\u001b[1;34m(self, index)\u001b[0m\n\u001b[0;32m      9\u001b[0m \u001b[39mdef\u001b[39;00m \u001b[39m__getitem__\u001b[39m(\u001b[39mself\u001b[39m,index):\n\u001b[1;32m---> 10\u001b[0m     \u001b[39mreturn\u001b[39;00m \u001b[39mself\u001b[39;49m\u001b[39m.\u001b[39;49mitems[index]\n",
      "\u001b[1;31mIndexError\u001b[0m: list index out of range"
     ]
    }
   ],
   "source": [
    "# Does not actually append\n",
    "ul.append(3)\n",
    "ul[5] "
   ]
  },
  {
   "cell_type": "code",
   "execution_count": 53,
   "metadata": {},
   "outputs": [
    {
     "data": {
      "text/plain": [
       "0"
      ]
     },
     "metadata": {},
     "output_type": "display_data"
    },
    {
     "data": {
      "text/plain": [
       "1"
      ]
     },
     "metadata": {},
     "output_type": "display_data"
    },
    {
     "data": {
      "text/plain": [
       "2"
      ]
     },
     "metadata": {},
     "output_type": "display_data"
    }
   ],
   "source": [
    "rangeEx = iter(range(10))\n",
    "\n",
    "display(\n",
    "next(iter(rangeEx)),\n",
    "next(iter(rangeEx)),\n",
    "next(iter(rangeEx))\n",
    ")"
   ]
  },
  {
   "cell_type": "code",
   "execution_count": null,
   "metadata": {},
   "outputs": [],
   "source": []
  }
 ],
 "metadata": {
  "kernelspec": {
   "display_name": "Python 3",
   "language": "python",
   "name": "python3"
  },
  "language_info": {
   "codemirror_mode": {
    "name": "ipython",
    "version": 3
   },
   "file_extension": ".py",
   "mimetype": "text/x-python",
   "name": "python",
   "nbconvert_exporter": "python",
   "pygments_lexer": "ipython3",
   "version": "3.11.4"
  },
  "orig_nbformat": 4
 },
 "nbformat": 4,
 "nbformat_minor": 2
}
