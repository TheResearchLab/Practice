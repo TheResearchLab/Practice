{
 "cells": [
  {
   "cell_type": "markdown",
   "metadata": {},
   "source": [
    "# Section 8.2 Unit Tests And Simple Assertions"
   ]
  },
  {
   "cell_type": "code",
   "execution_count": 9,
   "metadata": {},
   "outputs": [],
   "source": [
    "class Angle:\n",
    "    def __init__(self,degrees):\n",
    "        self.degrees = degrees%360\n",
    "    def is_acute(self):\n",
    "        return self.degrees <= 90\n",
    "    def add(self,other):\n",
    "        newAngle = (self.degrees + other.degrees)%360\n",
    "        return Angle(newAngle)"
   ]
  },
  {
   "cell_type": "code",
   "execution_count": 10,
   "metadata": {},
   "outputs": [],
   "source": [
    "import unittest \n",
    "\n",
    "class TestAngle(unittest.TestCase):\n",
    "    def test_degrees(self):\n",
    "        small_angle = Angle(60)\n",
    "        self.assertEqual(60,small_angle.degrees)\n",
    "        self.assertTrue(small_angle.is_acute())\n",
    "        big_angle = Angle(300)\n",
    "        self.assertFalse(big_angle.is_acute())\n",
    "        funny_angle = Angle(700)\n",
    "        self.assertEqual(1,funny_angle.degrees)\n",
    "\n",
    "    def test_arithmetic(self):\n",
    "        small_angle = Angle(94)\n",
    "        big_angle = Angle(270)\n",
    "        total_angle = small_angle.add(big_angle)\n",
    "        self.assertEqual(4,total_angle.degrees,'Adding angles with wrap around')\n",
    "    "
   ]
  },
  {
   "cell_type": "code",
   "execution_count": 8,
   "metadata": {},
   "outputs": [
    {
     "data": {
      "text/plain": [
       "40"
      ]
     },
     "execution_count": 8,
     "metadata": {},
     "output_type": "execute_result"
    }
   ],
   "source": []
  },
  {
   "cell_type": "code",
   "execution_count": null,
   "metadata": {},
   "outputs": [],
   "source": []
  }
 ],
 "metadata": {
  "kernelspec": {
   "display_name": "Python 3",
   "language": "python",
   "name": "python3"
  },
  "language_info": {
   "codemirror_mode": {
    "name": "ipython",
    "version": 3
   },
   "file_extension": ".py",
   "mimetype": "text/x-python",
   "name": "python",
   "nbconvert_exporter": "python",
   "pygments_lexer": "ipython3",
   "version": "3.11.4"
  },
  "orig_nbformat": 4
 },
 "nbformat": 4,
 "nbformat_minor": 2
}
