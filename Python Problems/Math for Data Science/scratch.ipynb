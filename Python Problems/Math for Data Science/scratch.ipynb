{
 "cells": [
  {
   "cell_type": "markdown",
   "metadata": {},
   "source": [
    "$$\n",
    "\\mu = \\frac{{x_1 + x_2 + \\ldots + x_n}}{n}\n",
    "$$"
   ]
  },
  {
   "cell_type": "markdown",
   "metadata": {},
   "source": [
    "To calculate the median \\( M \\) of a dataset \\( X \\) with an odd number of elements \\( n \\):\n",
    "\n",
    "\\[ M = x_{\\frac{n+1}{2}} \\]\n",
    "\n",
    "Here, \\( x_{\\frac{n+1}{2}} \\) represents the value at the middle position when the dataset is arranged in ascending order.\n"
   ]
  },
  {
   "cell_type": "markdown",
   "metadata": {},
   "source": [
    "When n is odd: $$ M = x_{\\frac{n+1}{2}} $$\n",
    "When n is even: $$ M = \\frac{x_{\\frac{n}{2}} + x_{\\frac{n}{2} + 1}}{2} $$"
   ]
  },
  {
   "cell_type": "markdown",
   "metadata": {},
   "source": [
    "Population variance: $$ \\sigma^2 = \\frac{1}{n} \\sum_{i=1}^{n} (x_i - \\mu)^2 $$\n",
    "Sample variance: $$ s^2 = \\frac{1}{n-1} \\sum_{i=1}^{n} (x_i - \\bar{x})^2 $$"
   ]
  },
  {
   "cell_type": "markdown",
   "metadata": {},
   "source": [
    "Standard deviation (Population): \n",
    "$$ \\sigma = \\sqrt{\\frac{1}{n} \\sum_{i=1}^{n} (x_i - \\bar{x})^2 } $$\n",
    "Standard deviation (Sample):\n",
    "$$ \\sigma = \\sqrt{\\frac{1}{n-1} \\sum_{i=1}^{n} (x_i - \\bar{x})^2 } $$\n"
   ]
  },
  {
   "cell_type": "markdown",
   "metadata": {},
   "source": [
    "Coefficient of variation:\n",
    "$$ CV = \\left( \\frac{\\text{standard deviation}}{\\text{mean}} \\right) \\times 100 $$"
   ]
  },
  {
   "cell_type": "markdown",
   "metadata": {},
   "source": [
    "Student T Distribution\n",
    "$$ f(t) = \\frac{\\nu\\pi}{\\Gamma(\\frac{\\nu}{2}) \\cdot \\Gamma(\\frac{\\nu+1}{2})} \\left(1 + \\frac{\\nu t^2}{2} \\right)^{-\\frac{\\nu+1}{2}} $$\n"
   ]
  },
  {
   "cell_type": "markdown",
   "metadata": {},
   "source": []
  }
 ],
 "metadata": {
  "kernelspec": {
   "display_name": "Python 3",
   "language": "python",
   "name": "python3"
  },
  "language_info": {
   "name": "python",
   "version": "3.11.5"
  }
 },
 "nbformat": 4,
 "nbformat_minor": 2
}
