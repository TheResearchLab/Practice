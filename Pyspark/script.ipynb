{
 "cells": [
  {
   "cell_type": "code",
   "execution_count": 2,
   "metadata": {},
   "outputs": [],
   "source": [
    "import pyspark\n",
    "from pyspark.sql import SparkSession\n",
    "\n",
    "spark = SparkSession.builder.appName('Practice').getOrCreate()\n",
    "df_pyspark = spark.read.csv(r'C:\\Users\\Aaron\\Downloads\\Electric_Vehicle_Population_Data.csv')"
   ]
  },
  {
   "cell_type": "code",
   "execution_count": 4,
   "metadata": {},
   "outputs": [
    {
     "name": "stdout",
     "output_type": "stream",
     "text": [
      "+----------+---------+-----------------+-----+-----------+----------+---------+--------+--------------------+--------------------+--------------+---------+--------------------+--------------+--------------------+--------------------+-----------------+\n",
      "|       _c0|      _c1|              _c2|  _c3|        _c4|       _c5|      _c6|     _c7|                 _c8|                 _c9|          _c10|     _c11|                _c12|          _c13|                _c14|                _c15|             _c16|\n",
      "+----------+---------+-----------------+-----+-----------+----------+---------+--------+--------------------+--------------------+--------------+---------+--------------------+--------------+--------------------+--------------------+-----------------+\n",
      "|VIN (1-10)|   County|             City|State|Postal Code|Model Year|     Make|   Model|Electric Vehicle ...|Clean Alternative...|Electric Range|Base MSRP|Legislative District|DOL Vehicle ID|    Vehicle Location|    Electric Utility|2020 Census Tract|\n",
      "|WAUTPBFF4H|     King|          Seattle|   WA|      98126|      2017|     AUDI|      A3|Plug-in Hybrid El...|Not eligible due ...|            16|        0|                  34|     235085336|POINT (-122.37410...|CITY OF SEATTLE -...|      53033011500|\n",
      "|WAUUPBFF2J| Thurston|          Olympia|   WA|      98502|      2018|     AUDI|      A3|Plug-in Hybrid El...|Not eligible due ...|            16|        0|                  22|     237896795|POINT (-122.94344...|PUGET SOUND ENERG...|      53067011100|\n",
      "|5YJSA1E22H| Thurston|            Lacey|   WA|      98516|      2017|    TESLA| MODEL S|Battery Electric ...|Clean Alternative...|           210|        0|                  22|     154498865|POINT (-122.78083...|PUGET SOUND ENERG...|      53067012226|\n",
      "|1C4JJXP62M| Thurston|           Tenino|   WA|      98589|      2021|     JEEP|WRANGLER|Plug-in Hybrid El...|Not eligible due ...|            25|        0|                  20|     154525493|POINT (-122.85403...|PUGET SOUND ENERG...|      53067012620|\n",
      "|5YJ3E1EC9L|   Yakima|           Yakima|   WA|      98902|      2020|    TESLA| MODEL 3|Battery Electric ...|Clean Alternative...|           308|        0|                  14|     225996361|POINT (-120.52401...|          PACIFICORP|      53077000800|\n",
      "|1C4JJXP66P| Thurston|          Olympia|   WA|      98501|      2023|     JEEP|WRANGLER|Plug-in Hybrid El...|Not eligible due ...|            21|        0|                  22|     220675367|POINT (-122.89692...|PUGET SOUND ENERG...|      53067010802|\n",
      "|1G1RA6S53H|   Kitsap|          Keyport|   WA|      98345|      2017|CHEVROLET|    VOLT|Plug-in Hybrid El...|Clean Alternative...|            53|        0|                  23|     162720022|POINT (-122.62501...|PUGET SOUND ENERG...|      53035091100|\n",
      "|5YJ3E1EB5L|Snohomish|Mountlake Terrace|   WA|      98043|      2020|    TESLA| MODEL 3|Battery Electric ...|Clean Alternative...|           322|        0|                   1|       6293899|POINT (-122.30842...|PUGET SOUND ENERG...|      53061051302|\n",
      "|WA1F2AFY1N|     King|          Seattle|   WA|      98119|      2022|     AUDI|      Q5|Plug-in Hybrid El...|Not eligible due ...|            23|        0|                  36|     207620633|POINT (-122.36731...|CITY OF SEATTLE -...|      53033005902|\n",
      "|1G1RB6S59H| Thurston|          Olympia|   WA|      98501|      2017|CHEVROLET|    VOLT|Plug-in Hybrid El...|Clean Alternative...|            53|        0|                  22|     237392459|POINT (-122.89692...|PUGET SOUND ENERG...|      53067010700|\n",
      "|1G1FW6S03J|Snohomish|          Bothell|   WA|      98021|      2018|CHEVROLET| BOLT EV|Battery Electric ...|Clean Alternative...|           238|        0|                   1|     187858821|POINT (-122.21072...|PUGET SOUND ENERG...|      53061051926|\n",
      "|5YJSA1S22F|     King|          Seattle|   WA|      98121|      2015|    TESLA| MODEL S|Battery Electric ...|Clean Alternative...|           208|        0|                  36|     143405748|POINT (-122.34412...|CITY OF SEATTLE -...|      53033008004|\n",
      "|KNDC3DLC7N|   Kitsap|     Port Orchard|   WA|      98366|      2022|      KIA|     EV6|Battery Electric ...|Eligibility unkno...|             0|        0|                  26|     195772741|POINT (-122.60649...|PUGET SOUND ENERG...|      53035092500|\n",
      "|1N4AZ0CP9D|   Kitsap|     Port Orchard|   WA|      98367|      2013|   NISSAN|    LEAF|Battery Electric ...|Clean Alternative...|            75|        0|                  26|     207343356|POINT (-122.65300...|PUGET SOUND ENERG...|      53035092801|\n",
      "|1G1RB6S51J|   Kitsap|        Bremerton|   WA|      98310|      2018|CHEVROLET|    VOLT|Plug-in Hybrid El...|Clean Alternative...|            53|        0|                  23|     475945368|POINT (-122.61136...|PUGET SOUND ENERG...|      53035080300|\n",
      "|5YJ3E1EB4L|   Yakima|            Moxee|   WA|      98936|      2020|    TESLA| MODEL 3|Battery Electric ...|Clean Alternative...|           322|        0|                  15|     102357853|POINT (-120.35522...|          PACIFICORP|      53077001702|\n",
      "|5YJSA1E25H|Snohomish|      Woodinville|   WA|      98077|      2017|    TESLA| MODEL S|Battery Electric ...|Clean Alternative...|           210|        0|                   1|     350319504|POINT (-122.07140...|PUGET SOUND ENERG...|      53061051912|\n",
      "|YV4BR0DL5N| Thurston|          Olympia|   WA|      98512|      2022|    VOLVO|    XC60|Plug-in Hybrid El...|Not eligible due ...|            18|        0|                  22|     182247607|POINT (-122.91310...|PUGET SOUND ENERG...|      53067011000|\n",
      "|5YJ3E1EA1P| Thurston|          Olympia|   WA|      98506|      2023|    TESLA| MODEL 3|Battery Electric ...|Eligibility unkno...|             0|        0|                  22|     259736277|POINT (-122.88747...|PUGET SOUND ENERG...|      53067012100|\n",
      "+----------+---------+-----------------+-----+-----------+----------+---------+--------+--------------------+--------------------+--------------+---------+--------------------+--------------+--------------------+--------------------+-----------------+\n",
      "only showing top 20 rows\n",
      "\n"
     ]
    }
   ],
   "source": [
    "df_pyspark.show()"
   ]
  },
  {
   "cell_type": "code",
   "execution_count": 9,
   "metadata": {},
   "outputs": [],
   "source": [
    "df_pyspark = spark.read.option('header','true').csv(r'C:\\Users\\Aaron\\Downloads\\Electric_Vehicle_Population_Data.csv')"
   ]
  },
  {
   "cell_type": "code",
   "execution_count": 10,
   "metadata": {},
   "outputs": [
    {
     "data": {
      "text/plain": [
       "pyspark.sql.dataframe.DataFrame"
      ]
     },
     "execution_count": 10,
     "metadata": {},
     "output_type": "execute_result"
    }
   ],
   "source": [
    "type(df_pyspark)"
   ]
  },
  {
   "cell_type": "code",
   "execution_count": 11,
   "metadata": {},
   "outputs": [
    {
     "data": {
      "text/plain": [
       "[Row(VIN (1-10)='WAUTPBFF4H', County='King', City='Seattle', State='WA', Postal Code='98126', Model Year='2017', Make='AUDI', Model='A3', Electric Vehicle Type='Plug-in Hybrid Electric Vehicle (PHEV)', Clean Alternative Fuel Vehicle (CAFV) Eligibility='Not eligible due to low battery range', Electric Range='16', Base MSRP='0', Legislative District='34', DOL Vehicle ID='235085336', Vehicle Location='POINT (-122.374105 47.54468)', Electric Utility='CITY OF SEATTLE - (WA)|CITY OF TACOMA - (WA)', 2020 Census Tract='53033011500'),\n",
       " Row(VIN (1-10)='WAUUPBFF2J', County='Thurston', City='Olympia', State='WA', Postal Code='98502', Model Year='2018', Make='AUDI', Model='A3', Electric Vehicle Type='Plug-in Hybrid Electric Vehicle (PHEV)', Clean Alternative Fuel Vehicle (CAFV) Eligibility='Not eligible due to low battery range', Electric Range='16', Base MSRP='0', Legislative District='22', DOL Vehicle ID='237896795', Vehicle Location='POINT (-122.943445 47.059252)', Electric Utility='PUGET SOUND ENERGY INC', 2020 Census Tract='53067011100'),\n",
       " Row(VIN (1-10)='5YJSA1E22H', County='Thurston', City='Lacey', State='WA', Postal Code='98516', Model Year='2017', Make='TESLA', Model='MODEL S', Electric Vehicle Type='Battery Electric Vehicle (BEV)', Clean Alternative Fuel Vehicle (CAFV) Eligibility='Clean Alternative Fuel Vehicle Eligible', Electric Range='210', Base MSRP='0', Legislative District='22', DOL Vehicle ID='154498865', Vehicle Location='POINT (-122.78083 47.083975)', Electric Utility='PUGET SOUND ENERGY INC', 2020 Census Tract='53067012226')]"
      ]
     },
     "execution_count": 11,
     "metadata": {},
     "output_type": "execute_result"
    }
   ],
   "source": [
    "df_pyspark.head(3)"
   ]
  },
  {
   "cell_type": "code",
   "execution_count": 12,
   "metadata": {},
   "outputs": [
    {
     "name": "stdout",
     "output_type": "stream",
     "text": [
      "root\n",
      " |-- VIN (1-10): string (nullable = true)\n",
      " |-- County: string (nullable = true)\n",
      " |-- City: string (nullable = true)\n",
      " |-- State: string (nullable = true)\n",
      " |-- Postal Code: string (nullable = true)\n",
      " |-- Model Year: string (nullable = true)\n",
      " |-- Make: string (nullable = true)\n",
      " |-- Model: string (nullable = true)\n",
      " |-- Electric Vehicle Type: string (nullable = true)\n",
      " |-- Clean Alternative Fuel Vehicle (CAFV) Eligibility: string (nullable = true)\n",
      " |-- Electric Range: string (nullable = true)\n",
      " |-- Base MSRP: string (nullable = true)\n",
      " |-- Legislative District: string (nullable = true)\n",
      " |-- DOL Vehicle ID: string (nullable = true)\n",
      " |-- Vehicle Location: string (nullable = true)\n",
      " |-- Electric Utility: string (nullable = true)\n",
      " |-- 2020 Census Tract: string (nullable = true)\n",
      "\n"
     ]
    }
   ],
   "source": [
    "df_pyspark.printSchema()"
   ]
  },
  {
   "cell_type": "markdown",
   "metadata": {},
   "source": [
    "## Part 1\n",
    "- Pyspark Dataframe\n",
    "- Reading Datasets\n",
    "- Checking the Datatypes of the Column(Schema)\n",
    "- Selecting Columns and Indexing\n",
    "- Check Describe option similar to Pandas\n",
    "- Adding Columns\n",
    "- Dropping Columns\n",
    "- Rename"
   ]
  },
  {
   "cell_type": "code",
   "execution_count": 13,
   "metadata": {},
   "outputs": [],
   "source": [
    "spark = SparkSession.builder.appName('DataFrame').getOrCreate()"
   ]
  },
  {
   "cell_type": "code",
   "execution_count": 18,
   "metadata": {},
   "outputs": [],
   "source": [
    "# reading dataset\n",
    "df_pyspark = spark.read.option('header','true').csv(r'C:\\Users\\Aaron\\Downloads\\Electric_Vehicle_Population_Data.csv',inferSchema=True)"
   ]
  },
  {
   "cell_type": "code",
   "execution_count": 19,
   "metadata": {},
   "outputs": [
    {
     "name": "stdout",
     "output_type": "stream",
     "text": [
      "+----------+---------+-----------------+-----+-----------+----------+---------+--------+---------------------+-------------------------------------------------+--------------+---------+--------------------+--------------+--------------------+--------------------+-----------------+\n",
      "|VIN (1-10)|   County|             City|State|Postal Code|Model Year|     Make|   Model|Electric Vehicle Type|Clean Alternative Fuel Vehicle (CAFV) Eligibility|Electric Range|Base MSRP|Legislative District|DOL Vehicle ID|    Vehicle Location|    Electric Utility|2020 Census Tract|\n",
      "+----------+---------+-----------------+-----+-----------+----------+---------+--------+---------------------+-------------------------------------------------+--------------+---------+--------------------+--------------+--------------------+--------------------+-----------------+\n",
      "|WAUTPBFF4H|     King|          Seattle|   WA|      98126|      2017|     AUDI|      A3| Plug-in Hybrid El...|                             Not eligible due ...|            16|        0|                  34|     235085336|POINT (-122.37410...|CITY OF SEATTLE -...|      53033011500|\n",
      "|WAUUPBFF2J| Thurston|          Olympia|   WA|      98502|      2018|     AUDI|      A3| Plug-in Hybrid El...|                             Not eligible due ...|            16|        0|                  22|     237896795|POINT (-122.94344...|PUGET SOUND ENERG...|      53067011100|\n",
      "|5YJSA1E22H| Thurston|            Lacey|   WA|      98516|      2017|    TESLA| MODEL S| Battery Electric ...|                             Clean Alternative...|           210|        0|                  22|     154498865|POINT (-122.78083...|PUGET SOUND ENERG...|      53067012226|\n",
      "|1C4JJXP62M| Thurston|           Tenino|   WA|      98589|      2021|     JEEP|WRANGLER| Plug-in Hybrid El...|                             Not eligible due ...|            25|        0|                  20|     154525493|POINT (-122.85403...|PUGET SOUND ENERG...|      53067012620|\n",
      "|5YJ3E1EC9L|   Yakima|           Yakima|   WA|      98902|      2020|    TESLA| MODEL 3| Battery Electric ...|                             Clean Alternative...|           308|        0|                  14|     225996361|POINT (-120.52401...|          PACIFICORP|      53077000800|\n",
      "|1C4JJXP66P| Thurston|          Olympia|   WA|      98501|      2023|     JEEP|WRANGLER| Plug-in Hybrid El...|                             Not eligible due ...|            21|        0|                  22|     220675367|POINT (-122.89692...|PUGET SOUND ENERG...|      53067010802|\n",
      "|1G1RA6S53H|   Kitsap|          Keyport|   WA|      98345|      2017|CHEVROLET|    VOLT| Plug-in Hybrid El...|                             Clean Alternative...|            53|        0|                  23|     162720022|POINT (-122.62501...|PUGET SOUND ENERG...|      53035091100|\n",
      "|5YJ3E1EB5L|Snohomish|Mountlake Terrace|   WA|      98043|      2020|    TESLA| MODEL 3| Battery Electric ...|                             Clean Alternative...|           322|        0|                   1|       6293899|POINT (-122.30842...|PUGET SOUND ENERG...|      53061051302|\n",
      "|WA1F2AFY1N|     King|          Seattle|   WA|      98119|      2022|     AUDI|      Q5| Plug-in Hybrid El...|                             Not eligible due ...|            23|        0|                  36|     207620633|POINT (-122.36731...|CITY OF SEATTLE -...|      53033005902|\n",
      "|1G1RB6S59H| Thurston|          Olympia|   WA|      98501|      2017|CHEVROLET|    VOLT| Plug-in Hybrid El...|                             Clean Alternative...|            53|        0|                  22|     237392459|POINT (-122.89692...|PUGET SOUND ENERG...|      53067010700|\n",
      "|1G1FW6S03J|Snohomish|          Bothell|   WA|      98021|      2018|CHEVROLET| BOLT EV| Battery Electric ...|                             Clean Alternative...|           238|        0|                   1|     187858821|POINT (-122.21072...|PUGET SOUND ENERG...|      53061051926|\n",
      "|5YJSA1S22F|     King|          Seattle|   WA|      98121|      2015|    TESLA| MODEL S| Battery Electric ...|                             Clean Alternative...|           208|        0|                  36|     143405748|POINT (-122.34412...|CITY OF SEATTLE -...|      53033008004|\n",
      "|KNDC3DLC7N|   Kitsap|     Port Orchard|   WA|      98366|      2022|      KIA|     EV6| Battery Electric ...|                             Eligibility unkno...|             0|        0|                  26|     195772741|POINT (-122.60649...|PUGET SOUND ENERG...|      53035092500|\n",
      "|1N4AZ0CP9D|   Kitsap|     Port Orchard|   WA|      98367|      2013|   NISSAN|    LEAF| Battery Electric ...|                             Clean Alternative...|            75|        0|                  26|     207343356|POINT (-122.65300...|PUGET SOUND ENERG...|      53035092801|\n",
      "|1G1RB6S51J|   Kitsap|        Bremerton|   WA|      98310|      2018|CHEVROLET|    VOLT| Plug-in Hybrid El...|                             Clean Alternative...|            53|        0|                  23|     475945368|POINT (-122.61136...|PUGET SOUND ENERG...|      53035080300|\n",
      "|5YJ3E1EB4L|   Yakima|            Moxee|   WA|      98936|      2020|    TESLA| MODEL 3| Battery Electric ...|                             Clean Alternative...|           322|        0|                  15|     102357853|POINT (-120.35522...|          PACIFICORP|      53077001702|\n",
      "|5YJSA1E25H|Snohomish|      Woodinville|   WA|      98077|      2017|    TESLA| MODEL S| Battery Electric ...|                             Clean Alternative...|           210|        0|                   1|     350319504|POINT (-122.07140...|PUGET SOUND ENERG...|      53061051912|\n",
      "|YV4BR0DL5N| Thurston|          Olympia|   WA|      98512|      2022|    VOLVO|    XC60| Plug-in Hybrid El...|                             Not eligible due ...|            18|        0|                  22|     182247607|POINT (-122.91310...|PUGET SOUND ENERG...|      53067011000|\n",
      "|5YJ3E1EA1P| Thurston|          Olympia|   WA|      98506|      2023|    TESLA| MODEL 3| Battery Electric ...|                             Eligibility unkno...|             0|        0|                  22|     259736277|POINT (-122.88747...|PUGET SOUND ENERG...|      53067012100|\n",
      "|3C3CFFGE8F| Thurston|          Olympia|   WA|      98506|      2015|     FIAT|     500| Battery Electric ...|                             Clean Alternative...|            87|        0|                  22|     349091298|POINT (-122.88747...|PUGET SOUND ENERG...|      53067012211|\n",
      "+----------+---------+-----------------+-----+-----------+----------+---------+--------+---------------------+-------------------------------------------------+--------------+---------+--------------------+--------------+--------------------+--------------------+-----------------+\n",
      "only showing top 20 rows\n",
      "\n"
     ]
    }
   ],
   "source": [
    "df_pyspark.show()"
   ]
  },
  {
   "cell_type": "code",
   "execution_count": 20,
   "metadata": {},
   "outputs": [
    {
     "name": "stdout",
     "output_type": "stream",
     "text": [
      "root\n",
      " |-- VIN (1-10): string (nullable = true)\n",
      " |-- County: string (nullable = true)\n",
      " |-- City: string (nullable = true)\n",
      " |-- State: string (nullable = true)\n",
      " |-- Postal Code: integer (nullable = true)\n",
      " |-- Model Year: integer (nullable = true)\n",
      " |-- Make: string (nullable = true)\n",
      " |-- Model: string (nullable = true)\n",
      " |-- Electric Vehicle Type: string (nullable = true)\n",
      " |-- Clean Alternative Fuel Vehicle (CAFV) Eligibility: string (nullable = true)\n",
      " |-- Electric Range: integer (nullable = true)\n",
      " |-- Base MSRP: integer (nullable = true)\n",
      " |-- Legislative District: integer (nullable = true)\n",
      " |-- DOL Vehicle ID: integer (nullable = true)\n",
      " |-- Vehicle Location: string (nullable = true)\n",
      " |-- Electric Utility: string (nullable = true)\n",
      " |-- 2020 Census Tract: long (nullable = true)\n",
      "\n"
     ]
    }
   ],
   "source": [
    "df_pyspark.printSchema()"
   ]
  },
  {
   "cell_type": "code",
   "execution_count": 21,
   "metadata": {},
   "outputs": [
    {
     "name": "stdout",
     "output_type": "stream",
     "text": [
      "+----------+---------+-----------------+-----+-----------+----------+---------+--------+---------------------+-------------------------------------------------+--------------+---------+--------------------+--------------+--------------------+--------------------+-----------------+\n",
      "|VIN (1-10)|   County|             City|State|Postal Code|Model Year|     Make|   Model|Electric Vehicle Type|Clean Alternative Fuel Vehicle (CAFV) Eligibility|Electric Range|Base MSRP|Legislative District|DOL Vehicle ID|    Vehicle Location|    Electric Utility|2020 Census Tract|\n",
      "+----------+---------+-----------------+-----+-----------+----------+---------+--------+---------------------+-------------------------------------------------+--------------+---------+--------------------+--------------+--------------------+--------------------+-----------------+\n",
      "|WAUTPBFF4H|     King|          Seattle|   WA|      98126|      2017|     AUDI|      A3| Plug-in Hybrid El...|                             Not eligible due ...|            16|        0|                  34|     235085336|POINT (-122.37410...|CITY OF SEATTLE -...|      53033011500|\n",
      "|WAUUPBFF2J| Thurston|          Olympia|   WA|      98502|      2018|     AUDI|      A3| Plug-in Hybrid El...|                             Not eligible due ...|            16|        0|                  22|     237896795|POINT (-122.94344...|PUGET SOUND ENERG...|      53067011100|\n",
      "|5YJSA1E22H| Thurston|            Lacey|   WA|      98516|      2017|    TESLA| MODEL S| Battery Electric ...|                             Clean Alternative...|           210|        0|                  22|     154498865|POINT (-122.78083...|PUGET SOUND ENERG...|      53067012226|\n",
      "|1C4JJXP62M| Thurston|           Tenino|   WA|      98589|      2021|     JEEP|WRANGLER| Plug-in Hybrid El...|                             Not eligible due ...|            25|        0|                  20|     154525493|POINT (-122.85403...|PUGET SOUND ENERG...|      53067012620|\n",
      "|5YJ3E1EC9L|   Yakima|           Yakima|   WA|      98902|      2020|    TESLA| MODEL 3| Battery Electric ...|                             Clean Alternative...|           308|        0|                  14|     225996361|POINT (-120.52401...|          PACIFICORP|      53077000800|\n",
      "|1C4JJXP66P| Thurston|          Olympia|   WA|      98501|      2023|     JEEP|WRANGLER| Plug-in Hybrid El...|                             Not eligible due ...|            21|        0|                  22|     220675367|POINT (-122.89692...|PUGET SOUND ENERG...|      53067010802|\n",
      "|1G1RA6S53H|   Kitsap|          Keyport|   WA|      98345|      2017|CHEVROLET|    VOLT| Plug-in Hybrid El...|                             Clean Alternative...|            53|        0|                  23|     162720022|POINT (-122.62501...|PUGET SOUND ENERG...|      53035091100|\n",
      "|5YJ3E1EB5L|Snohomish|Mountlake Terrace|   WA|      98043|      2020|    TESLA| MODEL 3| Battery Electric ...|                             Clean Alternative...|           322|        0|                   1|       6293899|POINT (-122.30842...|PUGET SOUND ENERG...|      53061051302|\n",
      "|WA1F2AFY1N|     King|          Seattle|   WA|      98119|      2022|     AUDI|      Q5| Plug-in Hybrid El...|                             Not eligible due ...|            23|        0|                  36|     207620633|POINT (-122.36731...|CITY OF SEATTLE -...|      53033005902|\n",
      "|1G1RB6S59H| Thurston|          Olympia|   WA|      98501|      2017|CHEVROLET|    VOLT| Plug-in Hybrid El...|                             Clean Alternative...|            53|        0|                  22|     237392459|POINT (-122.89692...|PUGET SOUND ENERG...|      53067010700|\n",
      "|1G1FW6S03J|Snohomish|          Bothell|   WA|      98021|      2018|CHEVROLET| BOLT EV| Battery Electric ...|                             Clean Alternative...|           238|        0|                   1|     187858821|POINT (-122.21072...|PUGET SOUND ENERG...|      53061051926|\n",
      "|5YJSA1S22F|     King|          Seattle|   WA|      98121|      2015|    TESLA| MODEL S| Battery Electric ...|                             Clean Alternative...|           208|        0|                  36|     143405748|POINT (-122.34412...|CITY OF SEATTLE -...|      53033008004|\n",
      "|KNDC3DLC7N|   Kitsap|     Port Orchard|   WA|      98366|      2022|      KIA|     EV6| Battery Electric ...|                             Eligibility unkno...|             0|        0|                  26|     195772741|POINT (-122.60649...|PUGET SOUND ENERG...|      53035092500|\n",
      "|1N4AZ0CP9D|   Kitsap|     Port Orchard|   WA|      98367|      2013|   NISSAN|    LEAF| Battery Electric ...|                             Clean Alternative...|            75|        0|                  26|     207343356|POINT (-122.65300...|PUGET SOUND ENERG...|      53035092801|\n",
      "|1G1RB6S51J|   Kitsap|        Bremerton|   WA|      98310|      2018|CHEVROLET|    VOLT| Plug-in Hybrid El...|                             Clean Alternative...|            53|        0|                  23|     475945368|POINT (-122.61136...|PUGET SOUND ENERG...|      53035080300|\n",
      "|5YJ3E1EB4L|   Yakima|            Moxee|   WA|      98936|      2020|    TESLA| MODEL 3| Battery Electric ...|                             Clean Alternative...|           322|        0|                  15|     102357853|POINT (-120.35522...|          PACIFICORP|      53077001702|\n",
      "|5YJSA1E25H|Snohomish|      Woodinville|   WA|      98077|      2017|    TESLA| MODEL S| Battery Electric ...|                             Clean Alternative...|           210|        0|                   1|     350319504|POINT (-122.07140...|PUGET SOUND ENERG...|      53061051912|\n",
      "|YV4BR0DL5N| Thurston|          Olympia|   WA|      98512|      2022|    VOLVO|    XC60| Plug-in Hybrid El...|                             Not eligible due ...|            18|        0|                  22|     182247607|POINT (-122.91310...|PUGET SOUND ENERG...|      53067011000|\n",
      "|5YJ3E1EA1P| Thurston|          Olympia|   WA|      98506|      2023|    TESLA| MODEL 3| Battery Electric ...|                             Eligibility unkno...|             0|        0|                  22|     259736277|POINT (-122.88747...|PUGET SOUND ENERG...|      53067012100|\n",
      "|3C3CFFGE8F| Thurston|          Olympia|   WA|      98506|      2015|     FIAT|     500| Battery Electric ...|                             Clean Alternative...|            87|        0|                  22|     349091298|POINT (-122.88747...|PUGET SOUND ENERG...|      53067012211|\n",
      "+----------+---------+-----------------+-----+-----------+----------+---------+--------+---------------------+-------------------------------------------------+--------------+---------+--------------------+--------------+--------------------+--------------------+-----------------+\n",
      "only showing top 20 rows\n",
      "\n"
     ]
    }
   ],
   "source": [
    "df_pyspark = spark.read.csv(r'C:\\Users\\Aaron\\Downloads\\Electric_Vehicle_Population_Data.csv',header=True,inferSchema=True)\n",
    "df_pyspark.show()"
   ]
  },
  {
   "cell_type": "code",
   "execution_count": 22,
   "metadata": {},
   "outputs": [
    {
     "name": "stdout",
     "output_type": "stream",
     "text": [
      "root\n",
      " |-- VIN (1-10): string (nullable = true)\n",
      " |-- County: string (nullable = true)\n",
      " |-- City: string (nullable = true)\n",
      " |-- State: string (nullable = true)\n",
      " |-- Postal Code: integer (nullable = true)\n",
      " |-- Model Year: integer (nullable = true)\n",
      " |-- Make: string (nullable = true)\n",
      " |-- Model: string (nullable = true)\n",
      " |-- Electric Vehicle Type: string (nullable = true)\n",
      " |-- Clean Alternative Fuel Vehicle (CAFV) Eligibility: string (nullable = true)\n",
      " |-- Electric Range: integer (nullable = true)\n",
      " |-- Base MSRP: integer (nullable = true)\n",
      " |-- Legislative District: integer (nullable = true)\n",
      " |-- DOL Vehicle ID: integer (nullable = true)\n",
      " |-- Vehicle Location: string (nullable = true)\n",
      " |-- Electric Utility: string (nullable = true)\n",
      " |-- 2020 Census Tract: long (nullable = true)\n",
      "\n"
     ]
    }
   ],
   "source": [
    "df_pyspark.printSchema()"
   ]
  },
  {
   "cell_type": "code",
   "execution_count": 23,
   "metadata": {},
   "outputs": [
    {
     "data": {
      "text/plain": [
       "pyspark.sql.dataframe.DataFrame"
      ]
     },
     "execution_count": 23,
     "metadata": {},
     "output_type": "execute_result"
    }
   ],
   "source": [
    "type(df_pyspark)"
   ]
  },
  {
   "cell_type": "code",
   "execution_count": 24,
   "metadata": {},
   "outputs": [
    {
     "data": {
      "text/plain": [
       "['VIN (1-10)',\n",
       " 'County',\n",
       " 'City',\n",
       " 'State',\n",
       " 'Postal Code',\n",
       " 'Model Year',\n",
       " 'Make',\n",
       " 'Model',\n",
       " 'Electric Vehicle Type',\n",
       " 'Clean Alternative Fuel Vehicle (CAFV) Eligibility',\n",
       " 'Electric Range',\n",
       " 'Base MSRP',\n",
       " 'Legislative District',\n",
       " 'DOL Vehicle ID',\n",
       " 'Vehicle Location',\n",
       " 'Electric Utility',\n",
       " '2020 Census Tract']"
      ]
     },
     "execution_count": 24,
     "metadata": {},
     "output_type": "execute_result"
    }
   ],
   "source": [
    "df_pyspark.columns"
   ]
  },
  {
   "cell_type": "code",
   "execution_count": 25,
   "metadata": {},
   "outputs": [
    {
     "data": {
      "text/plain": [
       "[Row(VIN (1-10)='WAUTPBFF4H', County='King', City='Seattle', State='WA', Postal Code=98126, Model Year=2017, Make='AUDI', Model='A3', Electric Vehicle Type='Plug-in Hybrid Electric Vehicle (PHEV)', Clean Alternative Fuel Vehicle (CAFV) Eligibility='Not eligible due to low battery range', Electric Range=16, Base MSRP=0, Legislative District=34, DOL Vehicle ID=235085336, Vehicle Location='POINT (-122.374105 47.54468)', Electric Utility='CITY OF SEATTLE - (WA)|CITY OF TACOMA - (WA)', 2020 Census Tract=53033011500),\n",
       " Row(VIN (1-10)='WAUUPBFF2J', County='Thurston', City='Olympia', State='WA', Postal Code=98502, Model Year=2018, Make='AUDI', Model='A3', Electric Vehicle Type='Plug-in Hybrid Electric Vehicle (PHEV)', Clean Alternative Fuel Vehicle (CAFV) Eligibility='Not eligible due to low battery range', Electric Range=16, Base MSRP=0, Legislative District=22, DOL Vehicle ID=237896795, Vehicle Location='POINT (-122.943445 47.059252)', Electric Utility='PUGET SOUND ENERGY INC', 2020 Census Tract=53067011100),\n",
       " Row(VIN (1-10)='5YJSA1E22H', County='Thurston', City='Lacey', State='WA', Postal Code=98516, Model Year=2017, Make='TESLA', Model='MODEL S', Electric Vehicle Type='Battery Electric Vehicle (BEV)', Clean Alternative Fuel Vehicle (CAFV) Eligibility='Clean Alternative Fuel Vehicle Eligible', Electric Range=210, Base MSRP=0, Legislative District=22, DOL Vehicle ID=154498865, Vehicle Location='POINT (-122.78083 47.083975)', Electric Utility='PUGET SOUND ENERGY INC', 2020 Census Tract=53067012226)]"
      ]
     },
     "execution_count": 25,
     "metadata": {},
     "output_type": "execute_result"
    }
   ],
   "source": [
    "df_pyspark.head(3)"
   ]
  },
  {
   "cell_type": "code",
   "execution_count": 27,
   "metadata": {},
   "outputs": [
    {
     "name": "stdout",
     "output_type": "stream",
     "text": [
      "+---------+\n",
      "|   County|\n",
      "+---------+\n",
      "|     King|\n",
      "| Thurston|\n",
      "| Thurston|\n",
      "| Thurston|\n",
      "|   Yakima|\n",
      "| Thurston|\n",
      "|   Kitsap|\n",
      "|Snohomish|\n",
      "|     King|\n",
      "| Thurston|\n",
      "|Snohomish|\n",
      "|     King|\n",
      "|   Kitsap|\n",
      "|   Kitsap|\n",
      "|   Kitsap|\n",
      "|   Yakima|\n",
      "|Snohomish|\n",
      "| Thurston|\n",
      "| Thurston|\n",
      "| Thurston|\n",
      "+---------+\n",
      "only showing top 20 rows\n",
      "\n"
     ]
    }
   ],
   "source": [
    "df_pyspark.select('County').show()"
   ]
  },
  {
   "cell_type": "code",
   "execution_count": 28,
   "metadata": {},
   "outputs": [
    {
     "data": {
      "text/plain": [
       "pyspark.sql.dataframe.DataFrame"
      ]
     },
     "execution_count": 28,
     "metadata": {},
     "output_type": "execute_result"
    }
   ],
   "source": [
    "type(df_pyspark.select('County'))"
   ]
  },
  {
   "cell_type": "code",
   "execution_count": 30,
   "metadata": {},
   "outputs": [
    {
     "name": "stdout",
     "output_type": "stream",
     "text": [
      "+---------+-----------------+\n",
      "|   County|             City|\n",
      "+---------+-----------------+\n",
      "|     King|          Seattle|\n",
      "| Thurston|          Olympia|\n",
      "| Thurston|            Lacey|\n",
      "| Thurston|           Tenino|\n",
      "|   Yakima|           Yakima|\n",
      "| Thurston|          Olympia|\n",
      "|   Kitsap|          Keyport|\n",
      "|Snohomish|Mountlake Terrace|\n",
      "|     King|          Seattle|\n",
      "| Thurston|          Olympia|\n",
      "|Snohomish|          Bothell|\n",
      "|     King|          Seattle|\n",
      "|   Kitsap|     Port Orchard|\n",
      "|   Kitsap|     Port Orchard|\n",
      "|   Kitsap|        Bremerton|\n",
      "|   Yakima|            Moxee|\n",
      "|Snohomish|      Woodinville|\n",
      "| Thurston|          Olympia|\n",
      "| Thurston|          Olympia|\n",
      "| Thurston|          Olympia|\n",
      "+---------+-----------------+\n",
      "only showing top 20 rows\n",
      "\n"
     ]
    }
   ],
   "source": [
    "df_pyspark.select(['County','City']).show()"
   ]
  },
  {
   "cell_type": "code",
   "execution_count": 32,
   "metadata": {},
   "outputs": [
    {
     "data": {
      "text/plain": [
       "[('VIN (1-10)', 'string'),\n",
       " ('County', 'string'),\n",
       " ('City', 'string'),\n",
       " ('State', 'string'),\n",
       " ('Postal Code', 'int'),\n",
       " ('Model Year', 'int'),\n",
       " ('Make', 'string'),\n",
       " ('Model', 'string'),\n",
       " ('Electric Vehicle Type', 'string'),\n",
       " ('Clean Alternative Fuel Vehicle (CAFV) Eligibility', 'string'),\n",
       " ('Electric Range', 'int'),\n",
       " ('Base MSRP', 'int'),\n",
       " ('Legislative District', 'int'),\n",
       " ('DOL Vehicle ID', 'int'),\n",
       " ('Vehicle Location', 'string'),\n",
       " ('Electric Utility', 'string'),\n",
       " ('2020 Census Tract', 'bigint')]"
      ]
     },
     "execution_count": 32,
     "metadata": {},
     "output_type": "execute_result"
    }
   ],
   "source": [
    "df_pyspark.dtypes"
   ]
  },
  {
   "cell_type": "code",
   "execution_count": 35,
   "metadata": {},
   "outputs": [
    {
     "name": "stdout",
     "output_type": "stream",
     "text": [
      "+-------+----------+------+--------+------+-----------------+------------------+--------------------+------------------+---------------------+-------------------------------------------------+-----------------+------------------+--------------------+--------------------+--------------------+--------------------+--------------------+\n",
      "|summary|VIN (1-10)|County|    City| State|      Postal Code|        Model Year|                Make|             Model|Electric Vehicle Type|Clean Alternative Fuel Vehicle (CAFV) Eligibility|   Electric Range|         Base MSRP|Legislative District|      DOL Vehicle ID|    Vehicle Location|    Electric Utility|   2020 Census Tract|\n",
      "+-------+----------+------+--------+------+-----------------+------------------+--------------------+------------------+---------------------+-------------------------------------------------+-----------------+------------------+--------------------+--------------------+--------------------+--------------------+--------------------+\n",
      "|  count|    181458|181455|  181455|181458|           181455|            181458|              181458|            181458|               181458|                                           181458|           181458|            181458|              181060|              181458|              181450|              181455|              181455|\n",
      "|   mean|      NULL|  NULL|    NULL|  NULL|98174.05071780883|2020.5817930319963|                NULL|500.53316326530614|                 NULL|                                             NULL|57.82666512360987|1040.2367489997685|  29.106903788799293|2.2141277803924325E8|                NULL|                NULL|5.297575405570363E10|\n",
      "| stddev|      NULL|  NULL|    NULL|  NULL|2414.241967931057|2.9911395740658238|                NULL|14.928571428571425|                 NULL|                                             NULL|91.39607379904446| 8228.989085263644|  14.892341767608222| 7.528560786715287E7|                NULL|                NULL|1.5948760263676226E9|\n",
      "|    min|1C4JJXN60P|   Ada|Aberdeen|    AE|             1545|              1997|          ALFA ROMEO|              330E| Battery Electric ...|                             Clean Alternative...|                0|                 0|                   1|                4385|POINT (-104.51645...|         AVISTA CORP|          1001020100|\n",
      "|    max|ZASPATDWXR|  Yuba|  Zillah|    WY|            99577|              2024|WHEEGO ELECTRIC CARS|                XM| Plug-in Hybrid El...|                             Not eligible due ...|              337|            845000|                  49|           479254772|POINT (-98.707096...|PUGET SOUND ENERG...|         56033000100|\n",
      "+-------+----------+------+--------+------+-----------------+------------------+--------------------+------------------+---------------------+-------------------------------------------------+-----------------+------------------+--------------------+--------------------+--------------------+--------------------+--------------------+\n",
      "\n"
     ]
    }
   ],
   "source": [
    "df_pyspark.describe().show()"
   ]
  },
  {
   "cell_type": "code",
   "execution_count": 38,
   "metadata": {},
   "outputs": [],
   "source": [
    "### Adding columns in data frame\n",
    "df_pyspark = df_pyspark.withColumn('Model Year After 2 Year',df_pyspark['Model Year']+2)"
   ]
  },
  {
   "cell_type": "code",
   "execution_count": 40,
   "metadata": {},
   "outputs": [
    {
     "name": "stdout",
     "output_type": "stream",
     "text": [
      "+----------+---------+-----------------+-----+-----------+----------+---------+--------+---------------------+-------------------------------------------------+--------------+---------+--------------------+--------------+--------------------+--------------------+-----------------+-----------------------+\n",
      "|VIN (1-10)|   County|             City|State|Postal Code|Model Year|     Make|   Model|Electric Vehicle Type|Clean Alternative Fuel Vehicle (CAFV) Eligibility|Electric Range|Base MSRP|Legislative District|DOL Vehicle ID|    Vehicle Location|    Electric Utility|2020 Census Tract|Model Year After 2 Year|\n",
      "+----------+---------+-----------------+-----+-----------+----------+---------+--------+---------------------+-------------------------------------------------+--------------+---------+--------------------+--------------+--------------------+--------------------+-----------------+-----------------------+\n",
      "|WAUTPBFF4H|     King|          Seattle|   WA|      98126|      2017|     AUDI|      A3| Plug-in Hybrid El...|                             Not eligible due ...|            16|        0|                  34|     235085336|POINT (-122.37410...|CITY OF SEATTLE -...|      53033011500|                   2019|\n",
      "|WAUUPBFF2J| Thurston|          Olympia|   WA|      98502|      2018|     AUDI|      A3| Plug-in Hybrid El...|                             Not eligible due ...|            16|        0|                  22|     237896795|POINT (-122.94344...|PUGET SOUND ENERG...|      53067011100|                   2020|\n",
      "|5YJSA1E22H| Thurston|            Lacey|   WA|      98516|      2017|    TESLA| MODEL S| Battery Electric ...|                             Clean Alternative...|           210|        0|                  22|     154498865|POINT (-122.78083...|PUGET SOUND ENERG...|      53067012226|                   2019|\n",
      "|1C4JJXP62M| Thurston|           Tenino|   WA|      98589|      2021|     JEEP|WRANGLER| Plug-in Hybrid El...|                             Not eligible due ...|            25|        0|                  20|     154525493|POINT (-122.85403...|PUGET SOUND ENERG...|      53067012620|                   2023|\n",
      "|5YJ3E1EC9L|   Yakima|           Yakima|   WA|      98902|      2020|    TESLA| MODEL 3| Battery Electric ...|                             Clean Alternative...|           308|        0|                  14|     225996361|POINT (-120.52401...|          PACIFICORP|      53077000800|                   2022|\n",
      "|1C4JJXP66P| Thurston|          Olympia|   WA|      98501|      2023|     JEEP|WRANGLER| Plug-in Hybrid El...|                             Not eligible due ...|            21|        0|                  22|     220675367|POINT (-122.89692...|PUGET SOUND ENERG...|      53067010802|                   2025|\n",
      "|1G1RA6S53H|   Kitsap|          Keyport|   WA|      98345|      2017|CHEVROLET|    VOLT| Plug-in Hybrid El...|                             Clean Alternative...|            53|        0|                  23|     162720022|POINT (-122.62501...|PUGET SOUND ENERG...|      53035091100|                   2019|\n",
      "|5YJ3E1EB5L|Snohomish|Mountlake Terrace|   WA|      98043|      2020|    TESLA| MODEL 3| Battery Electric ...|                             Clean Alternative...|           322|        0|                   1|       6293899|POINT (-122.30842...|PUGET SOUND ENERG...|      53061051302|                   2022|\n",
      "|WA1F2AFY1N|     King|          Seattle|   WA|      98119|      2022|     AUDI|      Q5| Plug-in Hybrid El...|                             Not eligible due ...|            23|        0|                  36|     207620633|POINT (-122.36731...|CITY OF SEATTLE -...|      53033005902|                   2024|\n",
      "|1G1RB6S59H| Thurston|          Olympia|   WA|      98501|      2017|CHEVROLET|    VOLT| Plug-in Hybrid El...|                             Clean Alternative...|            53|        0|                  22|     237392459|POINT (-122.89692...|PUGET SOUND ENERG...|      53067010700|                   2019|\n",
      "|1G1FW6S03J|Snohomish|          Bothell|   WA|      98021|      2018|CHEVROLET| BOLT EV| Battery Electric ...|                             Clean Alternative...|           238|        0|                   1|     187858821|POINT (-122.21072...|PUGET SOUND ENERG...|      53061051926|                   2020|\n",
      "|5YJSA1S22F|     King|          Seattle|   WA|      98121|      2015|    TESLA| MODEL S| Battery Electric ...|                             Clean Alternative...|           208|        0|                  36|     143405748|POINT (-122.34412...|CITY OF SEATTLE -...|      53033008004|                   2017|\n",
      "|KNDC3DLC7N|   Kitsap|     Port Orchard|   WA|      98366|      2022|      KIA|     EV6| Battery Electric ...|                             Eligibility unkno...|             0|        0|                  26|     195772741|POINT (-122.60649...|PUGET SOUND ENERG...|      53035092500|                   2024|\n",
      "|1N4AZ0CP9D|   Kitsap|     Port Orchard|   WA|      98367|      2013|   NISSAN|    LEAF| Battery Electric ...|                             Clean Alternative...|            75|        0|                  26|     207343356|POINT (-122.65300...|PUGET SOUND ENERG...|      53035092801|                   2015|\n",
      "|1G1RB6S51J|   Kitsap|        Bremerton|   WA|      98310|      2018|CHEVROLET|    VOLT| Plug-in Hybrid El...|                             Clean Alternative...|            53|        0|                  23|     475945368|POINT (-122.61136...|PUGET SOUND ENERG...|      53035080300|                   2020|\n",
      "|5YJ3E1EB4L|   Yakima|            Moxee|   WA|      98936|      2020|    TESLA| MODEL 3| Battery Electric ...|                             Clean Alternative...|           322|        0|                  15|     102357853|POINT (-120.35522...|          PACIFICORP|      53077001702|                   2022|\n",
      "|5YJSA1E25H|Snohomish|      Woodinville|   WA|      98077|      2017|    TESLA| MODEL S| Battery Electric ...|                             Clean Alternative...|           210|        0|                   1|     350319504|POINT (-122.07140...|PUGET SOUND ENERG...|      53061051912|                   2019|\n",
      "|YV4BR0DL5N| Thurston|          Olympia|   WA|      98512|      2022|    VOLVO|    XC60| Plug-in Hybrid El...|                             Not eligible due ...|            18|        0|                  22|     182247607|POINT (-122.91310...|PUGET SOUND ENERG...|      53067011000|                   2024|\n",
      "|5YJ3E1EA1P| Thurston|          Olympia|   WA|      98506|      2023|    TESLA| MODEL 3| Battery Electric ...|                             Eligibility unkno...|             0|        0|                  22|     259736277|POINT (-122.88747...|PUGET SOUND ENERG...|      53067012100|                   2025|\n",
      "|3C3CFFGE8F| Thurston|          Olympia|   WA|      98506|      2015|     FIAT|     500| Battery Electric ...|                             Clean Alternative...|            87|        0|                  22|     349091298|POINT (-122.88747...|PUGET SOUND ENERG...|      53067012211|                   2017|\n",
      "+----------+---------+-----------------+-----+-----------+----------+---------+--------+---------------------+-------------------------------------------------+--------------+---------+--------------------+--------------+--------------------+--------------------+-----------------+-----------------------+\n",
      "only showing top 20 rows\n",
      "\n"
     ]
    }
   ],
   "source": [
    "df_pyspark.show()"
   ]
  },
  {
   "cell_type": "code",
   "execution_count": 42,
   "metadata": {},
   "outputs": [],
   "source": [
    "### Drop the columns\n",
    "df_pyspark = df_pyspark.drop('Model Year After 2 Year')"
   ]
  },
  {
   "cell_type": "code",
   "execution_count": 43,
   "metadata": {},
   "outputs": [
    {
     "name": "stdout",
     "output_type": "stream",
     "text": [
      "+----------+---------+-----------------+-----+-----------+----------+---------+--------+---------------------+-------------------------------------------------+--------------+---------+--------------------+--------------+--------------------+--------------------+-----------------+\n",
      "|VIN (1-10)|   County|             City|State|Postal Code|Model Year|     Make|   Model|Electric Vehicle Type|Clean Alternative Fuel Vehicle (CAFV) Eligibility|Electric Range|Base MSRP|Legislative District|DOL Vehicle ID|    Vehicle Location|    Electric Utility|2020 Census Tract|\n",
      "+----------+---------+-----------------+-----+-----------+----------+---------+--------+---------------------+-------------------------------------------------+--------------+---------+--------------------+--------------+--------------------+--------------------+-----------------+\n",
      "|WAUTPBFF4H|     King|          Seattle|   WA|      98126|      2017|     AUDI|      A3| Plug-in Hybrid El...|                             Not eligible due ...|            16|        0|                  34|     235085336|POINT (-122.37410...|CITY OF SEATTLE -...|      53033011500|\n",
      "|WAUUPBFF2J| Thurston|          Olympia|   WA|      98502|      2018|     AUDI|      A3| Plug-in Hybrid El...|                             Not eligible due ...|            16|        0|                  22|     237896795|POINT (-122.94344...|PUGET SOUND ENERG...|      53067011100|\n",
      "|5YJSA1E22H| Thurston|            Lacey|   WA|      98516|      2017|    TESLA| MODEL S| Battery Electric ...|                             Clean Alternative...|           210|        0|                  22|     154498865|POINT (-122.78083...|PUGET SOUND ENERG...|      53067012226|\n",
      "|1C4JJXP62M| Thurston|           Tenino|   WA|      98589|      2021|     JEEP|WRANGLER| Plug-in Hybrid El...|                             Not eligible due ...|            25|        0|                  20|     154525493|POINT (-122.85403...|PUGET SOUND ENERG...|      53067012620|\n",
      "|5YJ3E1EC9L|   Yakima|           Yakima|   WA|      98902|      2020|    TESLA| MODEL 3| Battery Electric ...|                             Clean Alternative...|           308|        0|                  14|     225996361|POINT (-120.52401...|          PACIFICORP|      53077000800|\n",
      "|1C4JJXP66P| Thurston|          Olympia|   WA|      98501|      2023|     JEEP|WRANGLER| Plug-in Hybrid El...|                             Not eligible due ...|            21|        0|                  22|     220675367|POINT (-122.89692...|PUGET SOUND ENERG...|      53067010802|\n",
      "|1G1RA6S53H|   Kitsap|          Keyport|   WA|      98345|      2017|CHEVROLET|    VOLT| Plug-in Hybrid El...|                             Clean Alternative...|            53|        0|                  23|     162720022|POINT (-122.62501...|PUGET SOUND ENERG...|      53035091100|\n",
      "|5YJ3E1EB5L|Snohomish|Mountlake Terrace|   WA|      98043|      2020|    TESLA| MODEL 3| Battery Electric ...|                             Clean Alternative...|           322|        0|                   1|       6293899|POINT (-122.30842...|PUGET SOUND ENERG...|      53061051302|\n",
      "|WA1F2AFY1N|     King|          Seattle|   WA|      98119|      2022|     AUDI|      Q5| Plug-in Hybrid El...|                             Not eligible due ...|            23|        0|                  36|     207620633|POINT (-122.36731...|CITY OF SEATTLE -...|      53033005902|\n",
      "|1G1RB6S59H| Thurston|          Olympia|   WA|      98501|      2017|CHEVROLET|    VOLT| Plug-in Hybrid El...|                             Clean Alternative...|            53|        0|                  22|     237392459|POINT (-122.89692...|PUGET SOUND ENERG...|      53067010700|\n",
      "|1G1FW6S03J|Snohomish|          Bothell|   WA|      98021|      2018|CHEVROLET| BOLT EV| Battery Electric ...|                             Clean Alternative...|           238|        0|                   1|     187858821|POINT (-122.21072...|PUGET SOUND ENERG...|      53061051926|\n",
      "|5YJSA1S22F|     King|          Seattle|   WA|      98121|      2015|    TESLA| MODEL S| Battery Electric ...|                             Clean Alternative...|           208|        0|                  36|     143405748|POINT (-122.34412...|CITY OF SEATTLE -...|      53033008004|\n",
      "|KNDC3DLC7N|   Kitsap|     Port Orchard|   WA|      98366|      2022|      KIA|     EV6| Battery Electric ...|                             Eligibility unkno...|             0|        0|                  26|     195772741|POINT (-122.60649...|PUGET SOUND ENERG...|      53035092500|\n",
      "|1N4AZ0CP9D|   Kitsap|     Port Orchard|   WA|      98367|      2013|   NISSAN|    LEAF| Battery Electric ...|                             Clean Alternative...|            75|        0|                  26|     207343356|POINT (-122.65300...|PUGET SOUND ENERG...|      53035092801|\n",
      "|1G1RB6S51J|   Kitsap|        Bremerton|   WA|      98310|      2018|CHEVROLET|    VOLT| Plug-in Hybrid El...|                             Clean Alternative...|            53|        0|                  23|     475945368|POINT (-122.61136...|PUGET SOUND ENERG...|      53035080300|\n",
      "|5YJ3E1EB4L|   Yakima|            Moxee|   WA|      98936|      2020|    TESLA| MODEL 3| Battery Electric ...|                             Clean Alternative...|           322|        0|                  15|     102357853|POINT (-120.35522...|          PACIFICORP|      53077001702|\n",
      "|5YJSA1E25H|Snohomish|      Woodinville|   WA|      98077|      2017|    TESLA| MODEL S| Battery Electric ...|                             Clean Alternative...|           210|        0|                   1|     350319504|POINT (-122.07140...|PUGET SOUND ENERG...|      53061051912|\n",
      "|YV4BR0DL5N| Thurston|          Olympia|   WA|      98512|      2022|    VOLVO|    XC60| Plug-in Hybrid El...|                             Not eligible due ...|            18|        0|                  22|     182247607|POINT (-122.91310...|PUGET SOUND ENERG...|      53067011000|\n",
      "|5YJ3E1EA1P| Thurston|          Olympia|   WA|      98506|      2023|    TESLA| MODEL 3| Battery Electric ...|                             Eligibility unkno...|             0|        0|                  22|     259736277|POINT (-122.88747...|PUGET SOUND ENERG...|      53067012100|\n",
      "|3C3CFFGE8F| Thurston|          Olympia|   WA|      98506|      2015|     FIAT|     500| Battery Electric ...|                             Clean Alternative...|            87|        0|                  22|     349091298|POINT (-122.88747...|PUGET SOUND ENERG...|      53067012211|\n",
      "+----------+---------+-----------------+-----+-----------+----------+---------+--------+---------------------+-------------------------------------------------+--------------+---------+--------------------+--------------+--------------------+--------------------+-----------------+\n",
      "only showing top 20 rows\n",
      "\n"
     ]
    }
   ],
   "source": [
    "df_pyspark.show()"
   ]
  },
  {
   "cell_type": "code",
   "execution_count": 44,
   "metadata": {},
   "outputs": [
    {
     "name": "stdout",
     "output_type": "stream",
     "text": [
      "+----------+---------+-----------------+-----+-----------+----------+---------+---------+---------------------+-------------------------------------------------+--------------+---------+--------------------+--------------+--------------------+--------------------+-----------------+\n",
      "|VIN (1-10)|   County|             City|State|Postal Code|Model Year|     Make|Car Model|Electric Vehicle Type|Clean Alternative Fuel Vehicle (CAFV) Eligibility|Electric Range|Base MSRP|Legislative District|DOL Vehicle ID|    Vehicle Location|    Electric Utility|2020 Census Tract|\n",
      "+----------+---------+-----------------+-----+-----------+----------+---------+---------+---------------------+-------------------------------------------------+--------------+---------+--------------------+--------------+--------------------+--------------------+-----------------+\n",
      "|WAUTPBFF4H|     King|          Seattle|   WA|      98126|      2017|     AUDI|       A3| Plug-in Hybrid El...|                             Not eligible due ...|            16|        0|                  34|     235085336|POINT (-122.37410...|CITY OF SEATTLE -...|      53033011500|\n",
      "|WAUUPBFF2J| Thurston|          Olympia|   WA|      98502|      2018|     AUDI|       A3| Plug-in Hybrid El...|                             Not eligible due ...|            16|        0|                  22|     237896795|POINT (-122.94344...|PUGET SOUND ENERG...|      53067011100|\n",
      "|5YJSA1E22H| Thurston|            Lacey|   WA|      98516|      2017|    TESLA|  MODEL S| Battery Electric ...|                             Clean Alternative...|           210|        0|                  22|     154498865|POINT (-122.78083...|PUGET SOUND ENERG...|      53067012226|\n",
      "|1C4JJXP62M| Thurston|           Tenino|   WA|      98589|      2021|     JEEP| WRANGLER| Plug-in Hybrid El...|                             Not eligible due ...|            25|        0|                  20|     154525493|POINT (-122.85403...|PUGET SOUND ENERG...|      53067012620|\n",
      "|5YJ3E1EC9L|   Yakima|           Yakima|   WA|      98902|      2020|    TESLA|  MODEL 3| Battery Electric ...|                             Clean Alternative...|           308|        0|                  14|     225996361|POINT (-120.52401...|          PACIFICORP|      53077000800|\n",
      "|1C4JJXP66P| Thurston|          Olympia|   WA|      98501|      2023|     JEEP| WRANGLER| Plug-in Hybrid El...|                             Not eligible due ...|            21|        0|                  22|     220675367|POINT (-122.89692...|PUGET SOUND ENERG...|      53067010802|\n",
      "|1G1RA6S53H|   Kitsap|          Keyport|   WA|      98345|      2017|CHEVROLET|     VOLT| Plug-in Hybrid El...|                             Clean Alternative...|            53|        0|                  23|     162720022|POINT (-122.62501...|PUGET SOUND ENERG...|      53035091100|\n",
      "|5YJ3E1EB5L|Snohomish|Mountlake Terrace|   WA|      98043|      2020|    TESLA|  MODEL 3| Battery Electric ...|                             Clean Alternative...|           322|        0|                   1|       6293899|POINT (-122.30842...|PUGET SOUND ENERG...|      53061051302|\n",
      "|WA1F2AFY1N|     King|          Seattle|   WA|      98119|      2022|     AUDI|       Q5| Plug-in Hybrid El...|                             Not eligible due ...|            23|        0|                  36|     207620633|POINT (-122.36731...|CITY OF SEATTLE -...|      53033005902|\n",
      "|1G1RB6S59H| Thurston|          Olympia|   WA|      98501|      2017|CHEVROLET|     VOLT| Plug-in Hybrid El...|                             Clean Alternative...|            53|        0|                  22|     237392459|POINT (-122.89692...|PUGET SOUND ENERG...|      53067010700|\n",
      "|1G1FW6S03J|Snohomish|          Bothell|   WA|      98021|      2018|CHEVROLET|  BOLT EV| Battery Electric ...|                             Clean Alternative...|           238|        0|                   1|     187858821|POINT (-122.21072...|PUGET SOUND ENERG...|      53061051926|\n",
      "|5YJSA1S22F|     King|          Seattle|   WA|      98121|      2015|    TESLA|  MODEL S| Battery Electric ...|                             Clean Alternative...|           208|        0|                  36|     143405748|POINT (-122.34412...|CITY OF SEATTLE -...|      53033008004|\n",
      "|KNDC3DLC7N|   Kitsap|     Port Orchard|   WA|      98366|      2022|      KIA|      EV6| Battery Electric ...|                             Eligibility unkno...|             0|        0|                  26|     195772741|POINT (-122.60649...|PUGET SOUND ENERG...|      53035092500|\n",
      "|1N4AZ0CP9D|   Kitsap|     Port Orchard|   WA|      98367|      2013|   NISSAN|     LEAF| Battery Electric ...|                             Clean Alternative...|            75|        0|                  26|     207343356|POINT (-122.65300...|PUGET SOUND ENERG...|      53035092801|\n",
      "|1G1RB6S51J|   Kitsap|        Bremerton|   WA|      98310|      2018|CHEVROLET|     VOLT| Plug-in Hybrid El...|                             Clean Alternative...|            53|        0|                  23|     475945368|POINT (-122.61136...|PUGET SOUND ENERG...|      53035080300|\n",
      "|5YJ3E1EB4L|   Yakima|            Moxee|   WA|      98936|      2020|    TESLA|  MODEL 3| Battery Electric ...|                             Clean Alternative...|           322|        0|                  15|     102357853|POINT (-120.35522...|          PACIFICORP|      53077001702|\n",
      "|5YJSA1E25H|Snohomish|      Woodinville|   WA|      98077|      2017|    TESLA|  MODEL S| Battery Electric ...|                             Clean Alternative...|           210|        0|                   1|     350319504|POINT (-122.07140...|PUGET SOUND ENERG...|      53061051912|\n",
      "|YV4BR0DL5N| Thurston|          Olympia|   WA|      98512|      2022|    VOLVO|     XC60| Plug-in Hybrid El...|                             Not eligible due ...|            18|        0|                  22|     182247607|POINT (-122.91310...|PUGET SOUND ENERG...|      53067011000|\n",
      "|5YJ3E1EA1P| Thurston|          Olympia|   WA|      98506|      2023|    TESLA|  MODEL 3| Battery Electric ...|                             Eligibility unkno...|             0|        0|                  22|     259736277|POINT (-122.88747...|PUGET SOUND ENERG...|      53067012100|\n",
      "|3C3CFFGE8F| Thurston|          Olympia|   WA|      98506|      2015|     FIAT|      500| Battery Electric ...|                             Clean Alternative...|            87|        0|                  22|     349091298|POINT (-122.88747...|PUGET SOUND ENERG...|      53067012211|\n",
      "+----------+---------+-----------------+-----+-----------+----------+---------+---------+---------------------+-------------------------------------------------+--------------+---------+--------------------+--------------+--------------------+--------------------+-----------------+\n",
      "only showing top 20 rows\n",
      "\n"
     ]
    }
   ],
   "source": [
    "df_pyspark.withColumnRenamed('Model','Car Model').show()"
   ]
  },
  {
   "cell_type": "markdown",
   "metadata": {},
   "source": [
    "## Pyspark Handling Missing Values\n",
    "- Dropping Columns \n",
    "- Dropping Rows\n",
    "- Various Parameter In Dropping functionalities\n",
    "- Handling Missing values by Mean, Median, Mode imputation"
   ]
  },
  {
   "cell_type": "code",
   "execution_count": 45,
   "metadata": {},
   "outputs": [
    {
     "name": "stdout",
     "output_type": "stream",
     "text": [
      "+----------+---------+-----------------+-----------+----------+---------+--------+---------------------+-------------------------------------------------+--------------+---------+--------------------+--------------+--------------------+--------------------+-----------------+\n",
      "|VIN (1-10)|   County|             City|Postal Code|Model Year|     Make|   Model|Electric Vehicle Type|Clean Alternative Fuel Vehicle (CAFV) Eligibility|Electric Range|Base MSRP|Legislative District|DOL Vehicle ID|    Vehicle Location|    Electric Utility|2020 Census Tract|\n",
      "+----------+---------+-----------------+-----------+----------+---------+--------+---------------------+-------------------------------------------------+--------------+---------+--------------------+--------------+--------------------+--------------------+-----------------+\n",
      "|WAUTPBFF4H|     King|          Seattle|      98126|      2017|     AUDI|      A3| Plug-in Hybrid El...|                             Not eligible due ...|            16|        0|                  34|     235085336|POINT (-122.37410...|CITY OF SEATTLE -...|      53033011500|\n",
      "|WAUUPBFF2J| Thurston|          Olympia|      98502|      2018|     AUDI|      A3| Plug-in Hybrid El...|                             Not eligible due ...|            16|        0|                  22|     237896795|POINT (-122.94344...|PUGET SOUND ENERG...|      53067011100|\n",
      "|5YJSA1E22H| Thurston|            Lacey|      98516|      2017|    TESLA| MODEL S| Battery Electric ...|                             Clean Alternative...|           210|        0|                  22|     154498865|POINT (-122.78083...|PUGET SOUND ENERG...|      53067012226|\n",
      "|1C4JJXP62M| Thurston|           Tenino|      98589|      2021|     JEEP|WRANGLER| Plug-in Hybrid El...|                             Not eligible due ...|            25|        0|                  20|     154525493|POINT (-122.85403...|PUGET SOUND ENERG...|      53067012620|\n",
      "|5YJ3E1EC9L|   Yakima|           Yakima|      98902|      2020|    TESLA| MODEL 3| Battery Electric ...|                             Clean Alternative...|           308|        0|                  14|     225996361|POINT (-120.52401...|          PACIFICORP|      53077000800|\n",
      "|1C4JJXP66P| Thurston|          Olympia|      98501|      2023|     JEEP|WRANGLER| Plug-in Hybrid El...|                             Not eligible due ...|            21|        0|                  22|     220675367|POINT (-122.89692...|PUGET SOUND ENERG...|      53067010802|\n",
      "|1G1RA6S53H|   Kitsap|          Keyport|      98345|      2017|CHEVROLET|    VOLT| Plug-in Hybrid El...|                             Clean Alternative...|            53|        0|                  23|     162720022|POINT (-122.62501...|PUGET SOUND ENERG...|      53035091100|\n",
      "|5YJ3E1EB5L|Snohomish|Mountlake Terrace|      98043|      2020|    TESLA| MODEL 3| Battery Electric ...|                             Clean Alternative...|           322|        0|                   1|       6293899|POINT (-122.30842...|PUGET SOUND ENERG...|      53061051302|\n",
      "|WA1F2AFY1N|     King|          Seattle|      98119|      2022|     AUDI|      Q5| Plug-in Hybrid El...|                             Not eligible due ...|            23|        0|                  36|     207620633|POINT (-122.36731...|CITY OF SEATTLE -...|      53033005902|\n",
      "|1G1RB6S59H| Thurston|          Olympia|      98501|      2017|CHEVROLET|    VOLT| Plug-in Hybrid El...|                             Clean Alternative...|            53|        0|                  22|     237392459|POINT (-122.89692...|PUGET SOUND ENERG...|      53067010700|\n",
      "|1G1FW6S03J|Snohomish|          Bothell|      98021|      2018|CHEVROLET| BOLT EV| Battery Electric ...|                             Clean Alternative...|           238|        0|                   1|     187858821|POINT (-122.21072...|PUGET SOUND ENERG...|      53061051926|\n",
      "|5YJSA1S22F|     King|          Seattle|      98121|      2015|    TESLA| MODEL S| Battery Electric ...|                             Clean Alternative...|           208|        0|                  36|     143405748|POINT (-122.34412...|CITY OF SEATTLE -...|      53033008004|\n",
      "|KNDC3DLC7N|   Kitsap|     Port Orchard|      98366|      2022|      KIA|     EV6| Battery Electric ...|                             Eligibility unkno...|             0|        0|                  26|     195772741|POINT (-122.60649...|PUGET SOUND ENERG...|      53035092500|\n",
      "|1N4AZ0CP9D|   Kitsap|     Port Orchard|      98367|      2013|   NISSAN|    LEAF| Battery Electric ...|                             Clean Alternative...|            75|        0|                  26|     207343356|POINT (-122.65300...|PUGET SOUND ENERG...|      53035092801|\n",
      "|1G1RB6S51J|   Kitsap|        Bremerton|      98310|      2018|CHEVROLET|    VOLT| Plug-in Hybrid El...|                             Clean Alternative...|            53|        0|                  23|     475945368|POINT (-122.61136...|PUGET SOUND ENERG...|      53035080300|\n",
      "|5YJ3E1EB4L|   Yakima|            Moxee|      98936|      2020|    TESLA| MODEL 3| Battery Electric ...|                             Clean Alternative...|           322|        0|                  15|     102357853|POINT (-120.35522...|          PACIFICORP|      53077001702|\n",
      "|5YJSA1E25H|Snohomish|      Woodinville|      98077|      2017|    TESLA| MODEL S| Battery Electric ...|                             Clean Alternative...|           210|        0|                   1|     350319504|POINT (-122.07140...|PUGET SOUND ENERG...|      53061051912|\n",
      "|YV4BR0DL5N| Thurston|          Olympia|      98512|      2022|    VOLVO|    XC60| Plug-in Hybrid El...|                             Not eligible due ...|            18|        0|                  22|     182247607|POINT (-122.91310...|PUGET SOUND ENERG...|      53067011000|\n",
      "|5YJ3E1EA1P| Thurston|          Olympia|      98506|      2023|    TESLA| MODEL 3| Battery Electric ...|                             Eligibility unkno...|             0|        0|                  22|     259736277|POINT (-122.88747...|PUGET SOUND ENERG...|      53067012100|\n",
      "|3C3CFFGE8F| Thurston|          Olympia|      98506|      2015|     FIAT|     500| Battery Electric ...|                             Clean Alternative...|            87|        0|                  22|     349091298|POINT (-122.88747...|PUGET SOUND ENERG...|      53067012211|\n",
      "+----------+---------+-----------------+-----------+----------+---------+--------+---------------------+-------------------------------------------------+--------------+---------+--------------------+--------------+--------------------+--------------------+-----------------+\n",
      "only showing top 20 rows\n",
      "\n"
     ]
    }
   ],
   "source": [
    "## dropping columns \n",
    "df_pyspark.drop('State').show()"
   ]
  },
  {
   "cell_type": "code",
   "execution_count": 46,
   "metadata": {},
   "outputs": [
    {
     "name": "stdout",
     "output_type": "stream",
     "text": [
      "+----------+---------+-----------------+-----+-----------+----------+---------+--------+---------------------+-------------------------------------------------+--------------+---------+--------------------+--------------+--------------------+--------------------+-----------------+\n",
      "|VIN (1-10)|   County|             City|State|Postal Code|Model Year|     Make|   Model|Electric Vehicle Type|Clean Alternative Fuel Vehicle (CAFV) Eligibility|Electric Range|Base MSRP|Legislative District|DOL Vehicle ID|    Vehicle Location|    Electric Utility|2020 Census Tract|\n",
      "+----------+---------+-----------------+-----+-----------+----------+---------+--------+---------------------+-------------------------------------------------+--------------+---------+--------------------+--------------+--------------------+--------------------+-----------------+\n",
      "|WAUTPBFF4H|     King|          Seattle|   WA|      98126|      2017|     AUDI|      A3| Plug-in Hybrid El...|                             Not eligible due ...|            16|        0|                  34|     235085336|POINT (-122.37410...|CITY OF SEATTLE -...|      53033011500|\n",
      "|WAUUPBFF2J| Thurston|          Olympia|   WA|      98502|      2018|     AUDI|      A3| Plug-in Hybrid El...|                             Not eligible due ...|            16|        0|                  22|     237896795|POINT (-122.94344...|PUGET SOUND ENERG...|      53067011100|\n",
      "|5YJSA1E22H| Thurston|            Lacey|   WA|      98516|      2017|    TESLA| MODEL S| Battery Electric ...|                             Clean Alternative...|           210|        0|                  22|     154498865|POINT (-122.78083...|PUGET SOUND ENERG...|      53067012226|\n",
      "|1C4JJXP62M| Thurston|           Tenino|   WA|      98589|      2021|     JEEP|WRANGLER| Plug-in Hybrid El...|                             Not eligible due ...|            25|        0|                  20|     154525493|POINT (-122.85403...|PUGET SOUND ENERG...|      53067012620|\n",
      "|5YJ3E1EC9L|   Yakima|           Yakima|   WA|      98902|      2020|    TESLA| MODEL 3| Battery Electric ...|                             Clean Alternative...|           308|        0|                  14|     225996361|POINT (-120.52401...|          PACIFICORP|      53077000800|\n",
      "|1C4JJXP66P| Thurston|          Olympia|   WA|      98501|      2023|     JEEP|WRANGLER| Plug-in Hybrid El...|                             Not eligible due ...|            21|        0|                  22|     220675367|POINT (-122.89692...|PUGET SOUND ENERG...|      53067010802|\n",
      "|1G1RA6S53H|   Kitsap|          Keyport|   WA|      98345|      2017|CHEVROLET|    VOLT| Plug-in Hybrid El...|                             Clean Alternative...|            53|        0|                  23|     162720022|POINT (-122.62501...|PUGET SOUND ENERG...|      53035091100|\n",
      "|5YJ3E1EB5L|Snohomish|Mountlake Terrace|   WA|      98043|      2020|    TESLA| MODEL 3| Battery Electric ...|                             Clean Alternative...|           322|        0|                   1|       6293899|POINT (-122.30842...|PUGET SOUND ENERG...|      53061051302|\n",
      "|WA1F2AFY1N|     King|          Seattle|   WA|      98119|      2022|     AUDI|      Q5| Plug-in Hybrid El...|                             Not eligible due ...|            23|        0|                  36|     207620633|POINT (-122.36731...|CITY OF SEATTLE -...|      53033005902|\n",
      "|1G1RB6S59H| Thurston|          Olympia|   WA|      98501|      2017|CHEVROLET|    VOLT| Plug-in Hybrid El...|                             Clean Alternative...|            53|        0|                  22|     237392459|POINT (-122.89692...|PUGET SOUND ENERG...|      53067010700|\n",
      "|1G1FW6S03J|Snohomish|          Bothell|   WA|      98021|      2018|CHEVROLET| BOLT EV| Battery Electric ...|                             Clean Alternative...|           238|        0|                   1|     187858821|POINT (-122.21072...|PUGET SOUND ENERG...|      53061051926|\n",
      "|5YJSA1S22F|     King|          Seattle|   WA|      98121|      2015|    TESLA| MODEL S| Battery Electric ...|                             Clean Alternative...|           208|        0|                  36|     143405748|POINT (-122.34412...|CITY OF SEATTLE -...|      53033008004|\n",
      "|KNDC3DLC7N|   Kitsap|     Port Orchard|   WA|      98366|      2022|      KIA|     EV6| Battery Electric ...|                             Eligibility unkno...|             0|        0|                  26|     195772741|POINT (-122.60649...|PUGET SOUND ENERG...|      53035092500|\n",
      "|1N4AZ0CP9D|   Kitsap|     Port Orchard|   WA|      98367|      2013|   NISSAN|    LEAF| Battery Electric ...|                             Clean Alternative...|            75|        0|                  26|     207343356|POINT (-122.65300...|PUGET SOUND ENERG...|      53035092801|\n",
      "|1G1RB6S51J|   Kitsap|        Bremerton|   WA|      98310|      2018|CHEVROLET|    VOLT| Plug-in Hybrid El...|                             Clean Alternative...|            53|        0|                  23|     475945368|POINT (-122.61136...|PUGET SOUND ENERG...|      53035080300|\n",
      "|5YJ3E1EB4L|   Yakima|            Moxee|   WA|      98936|      2020|    TESLA| MODEL 3| Battery Electric ...|                             Clean Alternative...|           322|        0|                  15|     102357853|POINT (-120.35522...|          PACIFICORP|      53077001702|\n",
      "|5YJSA1E25H|Snohomish|      Woodinville|   WA|      98077|      2017|    TESLA| MODEL S| Battery Electric ...|                             Clean Alternative...|           210|        0|                   1|     350319504|POINT (-122.07140...|PUGET SOUND ENERG...|      53061051912|\n",
      "|YV4BR0DL5N| Thurston|          Olympia|   WA|      98512|      2022|    VOLVO|    XC60| Plug-in Hybrid El...|                             Not eligible due ...|            18|        0|                  22|     182247607|POINT (-122.91310...|PUGET SOUND ENERG...|      53067011000|\n",
      "|5YJ3E1EA1P| Thurston|          Olympia|   WA|      98506|      2023|    TESLA| MODEL 3| Battery Electric ...|                             Eligibility unkno...|             0|        0|                  22|     259736277|POINT (-122.88747...|PUGET SOUND ENERG...|      53067012100|\n",
      "|3C3CFFGE8F| Thurston|          Olympia|   WA|      98506|      2015|     FIAT|     500| Battery Electric ...|                             Clean Alternative...|            87|        0|                  22|     349091298|POINT (-122.88747...|PUGET SOUND ENERG...|      53067012211|\n",
      "+----------+---------+-----------------+-----+-----------+----------+---------+--------+---------------------+-------------------------------------------------+--------------+---------+--------------------+--------------+--------------------+--------------------+-----------------+\n",
      "only showing top 20 rows\n",
      "\n"
     ]
    }
   ],
   "source": [
    "# any null values in any column get dropped\n",
    "df_pyspark.na.drop().show()"
   ]
  },
  {
   "cell_type": "code",
   "execution_count": 48,
   "metadata": {},
   "outputs": [
    {
     "name": "stdout",
     "output_type": "stream",
     "text": [
      "+----------+---------+-----------------+-----+-----------+----------+---------+--------+---------------------+-------------------------------------------------+--------------+---------+--------------------+--------------+--------------------+--------------------+-----------------+\n",
      "|VIN (1-10)|   County|             City|State|Postal Code|Model Year|     Make|   Model|Electric Vehicle Type|Clean Alternative Fuel Vehicle (CAFV) Eligibility|Electric Range|Base MSRP|Legislative District|DOL Vehicle ID|    Vehicle Location|    Electric Utility|2020 Census Tract|\n",
      "+----------+---------+-----------------+-----+-----------+----------+---------+--------+---------------------+-------------------------------------------------+--------------+---------+--------------------+--------------+--------------------+--------------------+-----------------+\n",
      "|WAUTPBFF4H|     King|          Seattle|   WA|      98126|      2017|     AUDI|      A3| Plug-in Hybrid El...|                             Not eligible due ...|            16|        0|                  34|     235085336|POINT (-122.37410...|CITY OF SEATTLE -...|      53033011500|\n",
      "|WAUUPBFF2J| Thurston|          Olympia|   WA|      98502|      2018|     AUDI|      A3| Plug-in Hybrid El...|                             Not eligible due ...|            16|        0|                  22|     237896795|POINT (-122.94344...|PUGET SOUND ENERG...|      53067011100|\n",
      "|5YJSA1E22H| Thurston|            Lacey|   WA|      98516|      2017|    TESLA| MODEL S| Battery Electric ...|                             Clean Alternative...|           210|        0|                  22|     154498865|POINT (-122.78083...|PUGET SOUND ENERG...|      53067012226|\n",
      "|1C4JJXP62M| Thurston|           Tenino|   WA|      98589|      2021|     JEEP|WRANGLER| Plug-in Hybrid El...|                             Not eligible due ...|            25|        0|                  20|     154525493|POINT (-122.85403...|PUGET SOUND ENERG...|      53067012620|\n",
      "|5YJ3E1EC9L|   Yakima|           Yakima|   WA|      98902|      2020|    TESLA| MODEL 3| Battery Electric ...|                             Clean Alternative...|           308|        0|                  14|     225996361|POINT (-120.52401...|          PACIFICORP|      53077000800|\n",
      "|1C4JJXP66P| Thurston|          Olympia|   WA|      98501|      2023|     JEEP|WRANGLER| Plug-in Hybrid El...|                             Not eligible due ...|            21|        0|                  22|     220675367|POINT (-122.89692...|PUGET SOUND ENERG...|      53067010802|\n",
      "|1G1RA6S53H|   Kitsap|          Keyport|   WA|      98345|      2017|CHEVROLET|    VOLT| Plug-in Hybrid El...|                             Clean Alternative...|            53|        0|                  23|     162720022|POINT (-122.62501...|PUGET SOUND ENERG...|      53035091100|\n",
      "|5YJ3E1EB5L|Snohomish|Mountlake Terrace|   WA|      98043|      2020|    TESLA| MODEL 3| Battery Electric ...|                             Clean Alternative...|           322|        0|                   1|       6293899|POINT (-122.30842...|PUGET SOUND ENERG...|      53061051302|\n",
      "|WA1F2AFY1N|     King|          Seattle|   WA|      98119|      2022|     AUDI|      Q5| Plug-in Hybrid El...|                             Not eligible due ...|            23|        0|                  36|     207620633|POINT (-122.36731...|CITY OF SEATTLE -...|      53033005902|\n",
      "|1G1RB6S59H| Thurston|          Olympia|   WA|      98501|      2017|CHEVROLET|    VOLT| Plug-in Hybrid El...|                             Clean Alternative...|            53|        0|                  22|     237392459|POINT (-122.89692...|PUGET SOUND ENERG...|      53067010700|\n",
      "|1G1FW6S03J|Snohomish|          Bothell|   WA|      98021|      2018|CHEVROLET| BOLT EV| Battery Electric ...|                             Clean Alternative...|           238|        0|                   1|     187858821|POINT (-122.21072...|PUGET SOUND ENERG...|      53061051926|\n",
      "|5YJSA1S22F|     King|          Seattle|   WA|      98121|      2015|    TESLA| MODEL S| Battery Electric ...|                             Clean Alternative...|           208|        0|                  36|     143405748|POINT (-122.34412...|CITY OF SEATTLE -...|      53033008004|\n",
      "|KNDC3DLC7N|   Kitsap|     Port Orchard|   WA|      98366|      2022|      KIA|     EV6| Battery Electric ...|                             Eligibility unkno...|             0|        0|                  26|     195772741|POINT (-122.60649...|PUGET SOUND ENERG...|      53035092500|\n",
      "|1N4AZ0CP9D|   Kitsap|     Port Orchard|   WA|      98367|      2013|   NISSAN|    LEAF| Battery Electric ...|                             Clean Alternative...|            75|        0|                  26|     207343356|POINT (-122.65300...|PUGET SOUND ENERG...|      53035092801|\n",
      "|1G1RB6S51J|   Kitsap|        Bremerton|   WA|      98310|      2018|CHEVROLET|    VOLT| Plug-in Hybrid El...|                             Clean Alternative...|            53|        0|                  23|     475945368|POINT (-122.61136...|PUGET SOUND ENERG...|      53035080300|\n",
      "|5YJ3E1EB4L|   Yakima|            Moxee|   WA|      98936|      2020|    TESLA| MODEL 3| Battery Electric ...|                             Clean Alternative...|           322|        0|                  15|     102357853|POINT (-120.35522...|          PACIFICORP|      53077001702|\n",
      "|5YJSA1E25H|Snohomish|      Woodinville|   WA|      98077|      2017|    TESLA| MODEL S| Battery Electric ...|                             Clean Alternative...|           210|        0|                   1|     350319504|POINT (-122.07140...|PUGET SOUND ENERG...|      53061051912|\n",
      "|YV4BR0DL5N| Thurston|          Olympia|   WA|      98512|      2022|    VOLVO|    XC60| Plug-in Hybrid El...|                             Not eligible due ...|            18|        0|                  22|     182247607|POINT (-122.91310...|PUGET SOUND ENERG...|      53067011000|\n",
      "|5YJ3E1EA1P| Thurston|          Olympia|   WA|      98506|      2023|    TESLA| MODEL 3| Battery Electric ...|                             Eligibility unkno...|             0|        0|                  22|     259736277|POINT (-122.88747...|PUGET SOUND ENERG...|      53067012100|\n",
      "|3C3CFFGE8F| Thurston|          Olympia|   WA|      98506|      2015|     FIAT|     500| Battery Electric ...|                             Clean Alternative...|            87|        0|                  22|     349091298|POINT (-122.88747...|PUGET SOUND ENERG...|      53067012211|\n",
      "+----------+---------+-----------------+-----+-----------+----------+---------+--------+---------------------+-------------------------------------------------+--------------+---------+--------------------+--------------+--------------------+--------------------+-----------------+\n",
      "only showing top 20 rows\n",
      "\n"
     ]
    }
   ],
   "source": [
    "# drop params: HOW\n",
    "df_pyspark.na.drop(how=\"all\").show() # if all values are null then drop"
   ]
  },
  {
   "cell_type": "code",
   "execution_count": 49,
   "metadata": {},
   "outputs": [
    {
     "name": "stdout",
     "output_type": "stream",
     "text": [
      "+----------+---------+-----------------+-----+-----------+----------+---------+--------+---------------------+-------------------------------------------------+--------------+---------+--------------------+--------------+--------------------+--------------------+-----------------+\n",
      "|VIN (1-10)|   County|             City|State|Postal Code|Model Year|     Make|   Model|Electric Vehicle Type|Clean Alternative Fuel Vehicle (CAFV) Eligibility|Electric Range|Base MSRP|Legislative District|DOL Vehicle ID|    Vehicle Location|    Electric Utility|2020 Census Tract|\n",
      "+----------+---------+-----------------+-----+-----------+----------+---------+--------+---------------------+-------------------------------------------------+--------------+---------+--------------------+--------------+--------------------+--------------------+-----------------+\n",
      "|WAUTPBFF4H|     King|          Seattle|   WA|      98126|      2017|     AUDI|      A3| Plug-in Hybrid El...|                             Not eligible due ...|            16|        0|                  34|     235085336|POINT (-122.37410...|CITY OF SEATTLE -...|      53033011500|\n",
      "|WAUUPBFF2J| Thurston|          Olympia|   WA|      98502|      2018|     AUDI|      A3| Plug-in Hybrid El...|                             Not eligible due ...|            16|        0|                  22|     237896795|POINT (-122.94344...|PUGET SOUND ENERG...|      53067011100|\n",
      "|5YJSA1E22H| Thurston|            Lacey|   WA|      98516|      2017|    TESLA| MODEL S| Battery Electric ...|                             Clean Alternative...|           210|        0|                  22|     154498865|POINT (-122.78083...|PUGET SOUND ENERG...|      53067012226|\n",
      "|1C4JJXP62M| Thurston|           Tenino|   WA|      98589|      2021|     JEEP|WRANGLER| Plug-in Hybrid El...|                             Not eligible due ...|            25|        0|                  20|     154525493|POINT (-122.85403...|PUGET SOUND ENERG...|      53067012620|\n",
      "|5YJ3E1EC9L|   Yakima|           Yakima|   WA|      98902|      2020|    TESLA| MODEL 3| Battery Electric ...|                             Clean Alternative...|           308|        0|                  14|     225996361|POINT (-120.52401...|          PACIFICORP|      53077000800|\n",
      "|1C4JJXP66P| Thurston|          Olympia|   WA|      98501|      2023|     JEEP|WRANGLER| Plug-in Hybrid El...|                             Not eligible due ...|            21|        0|                  22|     220675367|POINT (-122.89692...|PUGET SOUND ENERG...|      53067010802|\n",
      "|1G1RA6S53H|   Kitsap|          Keyport|   WA|      98345|      2017|CHEVROLET|    VOLT| Plug-in Hybrid El...|                             Clean Alternative...|            53|        0|                  23|     162720022|POINT (-122.62501...|PUGET SOUND ENERG...|      53035091100|\n",
      "|5YJ3E1EB5L|Snohomish|Mountlake Terrace|   WA|      98043|      2020|    TESLA| MODEL 3| Battery Electric ...|                             Clean Alternative...|           322|        0|                   1|       6293899|POINT (-122.30842...|PUGET SOUND ENERG...|      53061051302|\n",
      "|WA1F2AFY1N|     King|          Seattle|   WA|      98119|      2022|     AUDI|      Q5| Plug-in Hybrid El...|                             Not eligible due ...|            23|        0|                  36|     207620633|POINT (-122.36731...|CITY OF SEATTLE -...|      53033005902|\n",
      "|1G1RB6S59H| Thurston|          Olympia|   WA|      98501|      2017|CHEVROLET|    VOLT| Plug-in Hybrid El...|                             Clean Alternative...|            53|        0|                  22|     237392459|POINT (-122.89692...|PUGET SOUND ENERG...|      53067010700|\n",
      "|1G1FW6S03J|Snohomish|          Bothell|   WA|      98021|      2018|CHEVROLET| BOLT EV| Battery Electric ...|                             Clean Alternative...|           238|        0|                   1|     187858821|POINT (-122.21072...|PUGET SOUND ENERG...|      53061051926|\n",
      "|5YJSA1S22F|     King|          Seattle|   WA|      98121|      2015|    TESLA| MODEL S| Battery Electric ...|                             Clean Alternative...|           208|        0|                  36|     143405748|POINT (-122.34412...|CITY OF SEATTLE -...|      53033008004|\n",
      "|KNDC3DLC7N|   Kitsap|     Port Orchard|   WA|      98366|      2022|      KIA|     EV6| Battery Electric ...|                             Eligibility unkno...|             0|        0|                  26|     195772741|POINT (-122.60649...|PUGET SOUND ENERG...|      53035092500|\n",
      "|1N4AZ0CP9D|   Kitsap|     Port Orchard|   WA|      98367|      2013|   NISSAN|    LEAF| Battery Electric ...|                             Clean Alternative...|            75|        0|                  26|     207343356|POINT (-122.65300...|PUGET SOUND ENERG...|      53035092801|\n",
      "|1G1RB6S51J|   Kitsap|        Bremerton|   WA|      98310|      2018|CHEVROLET|    VOLT| Plug-in Hybrid El...|                             Clean Alternative...|            53|        0|                  23|     475945368|POINT (-122.61136...|PUGET SOUND ENERG...|      53035080300|\n",
      "|5YJ3E1EB4L|   Yakima|            Moxee|   WA|      98936|      2020|    TESLA| MODEL 3| Battery Electric ...|                             Clean Alternative...|           322|        0|                  15|     102357853|POINT (-120.35522...|          PACIFICORP|      53077001702|\n",
      "|5YJSA1E25H|Snohomish|      Woodinville|   WA|      98077|      2017|    TESLA| MODEL S| Battery Electric ...|                             Clean Alternative...|           210|        0|                   1|     350319504|POINT (-122.07140...|PUGET SOUND ENERG...|      53061051912|\n",
      "|YV4BR0DL5N| Thurston|          Olympia|   WA|      98512|      2022|    VOLVO|    XC60| Plug-in Hybrid El...|                             Not eligible due ...|            18|        0|                  22|     182247607|POINT (-122.91310...|PUGET SOUND ENERG...|      53067011000|\n",
      "|5YJ3E1EA1P| Thurston|          Olympia|   WA|      98506|      2023|    TESLA| MODEL 3| Battery Electric ...|                             Eligibility unkno...|             0|        0|                  22|     259736277|POINT (-122.88747...|PUGET SOUND ENERG...|      53067012100|\n",
      "|3C3CFFGE8F| Thurston|          Olympia|   WA|      98506|      2015|     FIAT|     500| Battery Electric ...|                             Clean Alternative...|            87|        0|                  22|     349091298|POINT (-122.88747...|PUGET SOUND ENERG...|      53067012211|\n",
      "+----------+---------+-----------------+-----+-----------+----------+---------+--------+---------------------+-------------------------------------------------+--------------+---------+--------------------+--------------+--------------------+--------------------+-----------------+\n",
      "only showing top 20 rows\n",
      "\n"
     ]
    }
   ],
   "source": [
    "df_pyspark.na.drop(how=\"any\").show() # drops any row with null values"
   ]
  },
  {
   "cell_type": "code",
   "execution_count": 51,
   "metadata": {},
   "outputs": [
    {
     "name": "stdout",
     "output_type": "stream",
     "text": [
      "+----------+---------+-----------------+-----+-----------+----------+---------+--------+---------------------+-------------------------------------------------+--------------+---------+--------------------+--------------+--------------------+--------------------+-----------------+\n",
      "|VIN (1-10)|   County|             City|State|Postal Code|Model Year|     Make|   Model|Electric Vehicle Type|Clean Alternative Fuel Vehicle (CAFV) Eligibility|Electric Range|Base MSRP|Legislative District|DOL Vehicle ID|    Vehicle Location|    Electric Utility|2020 Census Tract|\n",
      "+----------+---------+-----------------+-----+-----------+----------+---------+--------+---------------------+-------------------------------------------------+--------------+---------+--------------------+--------------+--------------------+--------------------+-----------------+\n",
      "|WAUTPBFF4H|     King|          Seattle|   WA|      98126|      2017|     AUDI|      A3| Plug-in Hybrid El...|                             Not eligible due ...|            16|        0|                  34|     235085336|POINT (-122.37410...|CITY OF SEATTLE -...|      53033011500|\n",
      "|WAUUPBFF2J| Thurston|          Olympia|   WA|      98502|      2018|     AUDI|      A3| Plug-in Hybrid El...|                             Not eligible due ...|            16|        0|                  22|     237896795|POINT (-122.94344...|PUGET SOUND ENERG...|      53067011100|\n",
      "|5YJSA1E22H| Thurston|            Lacey|   WA|      98516|      2017|    TESLA| MODEL S| Battery Electric ...|                             Clean Alternative...|           210|        0|                  22|     154498865|POINT (-122.78083...|PUGET SOUND ENERG...|      53067012226|\n",
      "|1C4JJXP62M| Thurston|           Tenino|   WA|      98589|      2021|     JEEP|WRANGLER| Plug-in Hybrid El...|                             Not eligible due ...|            25|        0|                  20|     154525493|POINT (-122.85403...|PUGET SOUND ENERG...|      53067012620|\n",
      "|5YJ3E1EC9L|   Yakima|           Yakima|   WA|      98902|      2020|    TESLA| MODEL 3| Battery Electric ...|                             Clean Alternative...|           308|        0|                  14|     225996361|POINT (-120.52401...|          PACIFICORP|      53077000800|\n",
      "|1C4JJXP66P| Thurston|          Olympia|   WA|      98501|      2023|     JEEP|WRANGLER| Plug-in Hybrid El...|                             Not eligible due ...|            21|        0|                  22|     220675367|POINT (-122.89692...|PUGET SOUND ENERG...|      53067010802|\n",
      "|1G1RA6S53H|   Kitsap|          Keyport|   WA|      98345|      2017|CHEVROLET|    VOLT| Plug-in Hybrid El...|                             Clean Alternative...|            53|        0|                  23|     162720022|POINT (-122.62501...|PUGET SOUND ENERG...|      53035091100|\n",
      "|5YJ3E1EB5L|Snohomish|Mountlake Terrace|   WA|      98043|      2020|    TESLA| MODEL 3| Battery Electric ...|                             Clean Alternative...|           322|        0|                   1|       6293899|POINT (-122.30842...|PUGET SOUND ENERG...|      53061051302|\n",
      "|WA1F2AFY1N|     King|          Seattle|   WA|      98119|      2022|     AUDI|      Q5| Plug-in Hybrid El...|                             Not eligible due ...|            23|        0|                  36|     207620633|POINT (-122.36731...|CITY OF SEATTLE -...|      53033005902|\n",
      "|1G1RB6S59H| Thurston|          Olympia|   WA|      98501|      2017|CHEVROLET|    VOLT| Plug-in Hybrid El...|                             Clean Alternative...|            53|        0|                  22|     237392459|POINT (-122.89692...|PUGET SOUND ENERG...|      53067010700|\n",
      "|1G1FW6S03J|Snohomish|          Bothell|   WA|      98021|      2018|CHEVROLET| BOLT EV| Battery Electric ...|                             Clean Alternative...|           238|        0|                   1|     187858821|POINT (-122.21072...|PUGET SOUND ENERG...|      53061051926|\n",
      "|5YJSA1S22F|     King|          Seattle|   WA|      98121|      2015|    TESLA| MODEL S| Battery Electric ...|                             Clean Alternative...|           208|        0|                  36|     143405748|POINT (-122.34412...|CITY OF SEATTLE -...|      53033008004|\n",
      "|KNDC3DLC7N|   Kitsap|     Port Orchard|   WA|      98366|      2022|      KIA|     EV6| Battery Electric ...|                             Eligibility unkno...|             0|        0|                  26|     195772741|POINT (-122.60649...|PUGET SOUND ENERG...|      53035092500|\n",
      "|1N4AZ0CP9D|   Kitsap|     Port Orchard|   WA|      98367|      2013|   NISSAN|    LEAF| Battery Electric ...|                             Clean Alternative...|            75|        0|                  26|     207343356|POINT (-122.65300...|PUGET SOUND ENERG...|      53035092801|\n",
      "|1G1RB6S51J|   Kitsap|        Bremerton|   WA|      98310|      2018|CHEVROLET|    VOLT| Plug-in Hybrid El...|                             Clean Alternative...|            53|        0|                  23|     475945368|POINT (-122.61136...|PUGET SOUND ENERG...|      53035080300|\n",
      "|5YJ3E1EB4L|   Yakima|            Moxee|   WA|      98936|      2020|    TESLA| MODEL 3| Battery Electric ...|                             Clean Alternative...|           322|        0|                  15|     102357853|POINT (-120.35522...|          PACIFICORP|      53077001702|\n",
      "|5YJSA1E25H|Snohomish|      Woodinville|   WA|      98077|      2017|    TESLA| MODEL S| Battery Electric ...|                             Clean Alternative...|           210|        0|                   1|     350319504|POINT (-122.07140...|PUGET SOUND ENERG...|      53061051912|\n",
      "|YV4BR0DL5N| Thurston|          Olympia|   WA|      98512|      2022|    VOLVO|    XC60| Plug-in Hybrid El...|                             Not eligible due ...|            18|        0|                  22|     182247607|POINT (-122.91310...|PUGET SOUND ENERG...|      53067011000|\n",
      "|5YJ3E1EA1P| Thurston|          Olympia|   WA|      98506|      2023|    TESLA| MODEL 3| Battery Electric ...|                             Eligibility unkno...|             0|        0|                  22|     259736277|POINT (-122.88747...|PUGET SOUND ENERG...|      53067012100|\n",
      "|3C3CFFGE8F| Thurston|          Olympia|   WA|      98506|      2015|     FIAT|     500| Battery Electric ...|                             Clean Alternative...|            87|        0|                  22|     349091298|POINT (-122.88747...|PUGET SOUND ENERG...|      53067012211|\n",
      "+----------+---------+-----------------+-----+-----------+----------+---------+--------+---------------------+-------------------------------------------------+--------------+---------+--------------------+--------------+--------------------+--------------------+-----------------+\n",
      "only showing top 20 rows\n",
      "\n"
     ]
    }
   ],
   "source": [
    "#threshold\n",
    "df_pyspark.na.drop(how=\"any\",thresh=2).show() # at least 2 non-null values in the row should be present else delete"
   ]
  },
  {
   "cell_type": "code",
   "execution_count": 52,
   "metadata": {},
   "outputs": [
    {
     "name": "stdout",
     "output_type": "stream",
     "text": [
      "+----------+---------+-----------------+-----+-----------+----------+---------+--------+---------------------+-------------------------------------------------+--------------+---------+--------------------+--------------+--------------------+--------------------+-----------------+\n",
      "|VIN (1-10)|   County|             City|State|Postal Code|Model Year|     Make|   Model|Electric Vehicle Type|Clean Alternative Fuel Vehicle (CAFV) Eligibility|Electric Range|Base MSRP|Legislative District|DOL Vehicle ID|    Vehicle Location|    Electric Utility|2020 Census Tract|\n",
      "+----------+---------+-----------------+-----+-----------+----------+---------+--------+---------------------+-------------------------------------------------+--------------+---------+--------------------+--------------+--------------------+--------------------+-----------------+\n",
      "|WAUTPBFF4H|     King|          Seattle|   WA|      98126|      2017|     AUDI|      A3| Plug-in Hybrid El...|                             Not eligible due ...|            16|        0|                  34|     235085336|POINT (-122.37410...|CITY OF SEATTLE -...|      53033011500|\n",
      "|WAUUPBFF2J| Thurston|          Olympia|   WA|      98502|      2018|     AUDI|      A3| Plug-in Hybrid El...|                             Not eligible due ...|            16|        0|                  22|     237896795|POINT (-122.94344...|PUGET SOUND ENERG...|      53067011100|\n",
      "|5YJSA1E22H| Thurston|            Lacey|   WA|      98516|      2017|    TESLA| MODEL S| Battery Electric ...|                             Clean Alternative...|           210|        0|                  22|     154498865|POINT (-122.78083...|PUGET SOUND ENERG...|      53067012226|\n",
      "|1C4JJXP62M| Thurston|           Tenino|   WA|      98589|      2021|     JEEP|WRANGLER| Plug-in Hybrid El...|                             Not eligible due ...|            25|        0|                  20|     154525493|POINT (-122.85403...|PUGET SOUND ENERG...|      53067012620|\n",
      "|5YJ3E1EC9L|   Yakima|           Yakima|   WA|      98902|      2020|    TESLA| MODEL 3| Battery Electric ...|                             Clean Alternative...|           308|        0|                  14|     225996361|POINT (-120.52401...|          PACIFICORP|      53077000800|\n",
      "|1C4JJXP66P| Thurston|          Olympia|   WA|      98501|      2023|     JEEP|WRANGLER| Plug-in Hybrid El...|                             Not eligible due ...|            21|        0|                  22|     220675367|POINT (-122.89692...|PUGET SOUND ENERG...|      53067010802|\n",
      "|1G1RA6S53H|   Kitsap|          Keyport|   WA|      98345|      2017|CHEVROLET|    VOLT| Plug-in Hybrid El...|                             Clean Alternative...|            53|        0|                  23|     162720022|POINT (-122.62501...|PUGET SOUND ENERG...|      53035091100|\n",
      "|5YJ3E1EB5L|Snohomish|Mountlake Terrace|   WA|      98043|      2020|    TESLA| MODEL 3| Battery Electric ...|                             Clean Alternative...|           322|        0|                   1|       6293899|POINT (-122.30842...|PUGET SOUND ENERG...|      53061051302|\n",
      "|WA1F2AFY1N|     King|          Seattle|   WA|      98119|      2022|     AUDI|      Q5| Plug-in Hybrid El...|                             Not eligible due ...|            23|        0|                  36|     207620633|POINT (-122.36731...|CITY OF SEATTLE -...|      53033005902|\n",
      "|1G1RB6S59H| Thurston|          Olympia|   WA|      98501|      2017|CHEVROLET|    VOLT| Plug-in Hybrid El...|                             Clean Alternative...|            53|        0|                  22|     237392459|POINT (-122.89692...|PUGET SOUND ENERG...|      53067010700|\n",
      "|1G1FW6S03J|Snohomish|          Bothell|   WA|      98021|      2018|CHEVROLET| BOLT EV| Battery Electric ...|                             Clean Alternative...|           238|        0|                   1|     187858821|POINT (-122.21072...|PUGET SOUND ENERG...|      53061051926|\n",
      "|5YJSA1S22F|     King|          Seattle|   WA|      98121|      2015|    TESLA| MODEL S| Battery Electric ...|                             Clean Alternative...|           208|        0|                  36|     143405748|POINT (-122.34412...|CITY OF SEATTLE -...|      53033008004|\n",
      "|KNDC3DLC7N|   Kitsap|     Port Orchard|   WA|      98366|      2022|      KIA|     EV6| Battery Electric ...|                             Eligibility unkno...|             0|        0|                  26|     195772741|POINT (-122.60649...|PUGET SOUND ENERG...|      53035092500|\n",
      "|1N4AZ0CP9D|   Kitsap|     Port Orchard|   WA|      98367|      2013|   NISSAN|    LEAF| Battery Electric ...|                             Clean Alternative...|            75|        0|                  26|     207343356|POINT (-122.65300...|PUGET SOUND ENERG...|      53035092801|\n",
      "|1G1RB6S51J|   Kitsap|        Bremerton|   WA|      98310|      2018|CHEVROLET|    VOLT| Plug-in Hybrid El...|                             Clean Alternative...|            53|        0|                  23|     475945368|POINT (-122.61136...|PUGET SOUND ENERG...|      53035080300|\n",
      "|5YJ3E1EB4L|   Yakima|            Moxee|   WA|      98936|      2020|    TESLA| MODEL 3| Battery Electric ...|                             Clean Alternative...|           322|        0|                  15|     102357853|POINT (-120.35522...|          PACIFICORP|      53077001702|\n",
      "|5YJSA1E25H|Snohomish|      Woodinville|   WA|      98077|      2017|    TESLA| MODEL S| Battery Electric ...|                             Clean Alternative...|           210|        0|                   1|     350319504|POINT (-122.07140...|PUGET SOUND ENERG...|      53061051912|\n",
      "|YV4BR0DL5N| Thurston|          Olympia|   WA|      98512|      2022|    VOLVO|    XC60| Plug-in Hybrid El...|                             Not eligible due ...|            18|        0|                  22|     182247607|POINT (-122.91310...|PUGET SOUND ENERG...|      53067011000|\n",
      "|5YJ3E1EA1P| Thurston|          Olympia|   WA|      98506|      2023|    TESLA| MODEL 3| Battery Electric ...|                             Eligibility unkno...|             0|        0|                  22|     259736277|POINT (-122.88747...|PUGET SOUND ENERG...|      53067012100|\n",
      "|3C3CFFGE8F| Thurston|          Olympia|   WA|      98506|      2015|     FIAT|     500| Battery Electric ...|                             Clean Alternative...|            87|        0|                  22|     349091298|POINT (-122.88747...|PUGET SOUND ENERG...|      53067012211|\n",
      "+----------+---------+-----------------+-----+-----------+----------+---------+--------+---------------------+-------------------------------------------------+--------------+---------+--------------------+--------------+--------------------+--------------------+-----------------+\n",
      "only showing top 20 rows\n",
      "\n"
     ]
    }
   ],
   "source": [
    "# Subset\n",
    "df_pyspark.na.drop(how=\"any\",subset=['State']).show() # drop rows with nulls in specific column"
   ]
  },
  {
   "cell_type": "code",
   "execution_count": 53,
   "metadata": {},
   "outputs": [
    {
     "name": "stdout",
     "output_type": "stream",
     "text": [
      "+----------+---------+-----------------+-----+-----------+----------+---------+--------+---------------------+-------------------------------------------------+--------------+---------+--------------------+--------------+--------------------+--------------------+-----------------+\n",
      "|VIN (1-10)|   County|             City|State|Postal Code|Model Year|     Make|   Model|Electric Vehicle Type|Clean Alternative Fuel Vehicle (CAFV) Eligibility|Electric Range|Base MSRP|Legislative District|DOL Vehicle ID|    Vehicle Location|    Electric Utility|2020 Census Tract|\n",
      "+----------+---------+-----------------+-----+-----------+----------+---------+--------+---------------------+-------------------------------------------------+--------------+---------+--------------------+--------------+--------------------+--------------------+-----------------+\n",
      "|WAUTPBFF4H|     King|          Seattle|   WA|      98126|      2017|     AUDI|      A3| Plug-in Hybrid El...|                             Not eligible due ...|            16|        0|                  34|     235085336|POINT (-122.37410...|CITY OF SEATTLE -...|      53033011500|\n",
      "|WAUUPBFF2J| Thurston|          Olympia|   WA|      98502|      2018|     AUDI|      A3| Plug-in Hybrid El...|                             Not eligible due ...|            16|        0|                  22|     237896795|POINT (-122.94344...|PUGET SOUND ENERG...|      53067011100|\n",
      "|5YJSA1E22H| Thurston|            Lacey|   WA|      98516|      2017|    TESLA| MODEL S| Battery Electric ...|                             Clean Alternative...|           210|        0|                  22|     154498865|POINT (-122.78083...|PUGET SOUND ENERG...|      53067012226|\n",
      "|1C4JJXP62M| Thurston|           Tenino|   WA|      98589|      2021|     JEEP|WRANGLER| Plug-in Hybrid El...|                             Not eligible due ...|            25|        0|                  20|     154525493|POINT (-122.85403...|PUGET SOUND ENERG...|      53067012620|\n",
      "|5YJ3E1EC9L|   Yakima|           Yakima|   WA|      98902|      2020|    TESLA| MODEL 3| Battery Electric ...|                             Clean Alternative...|           308|        0|                  14|     225996361|POINT (-120.52401...|          PACIFICORP|      53077000800|\n",
      "|1C4JJXP66P| Thurston|          Olympia|   WA|      98501|      2023|     JEEP|WRANGLER| Plug-in Hybrid El...|                             Not eligible due ...|            21|        0|                  22|     220675367|POINT (-122.89692...|PUGET SOUND ENERG...|      53067010802|\n",
      "|1G1RA6S53H|   Kitsap|          Keyport|   WA|      98345|      2017|CHEVROLET|    VOLT| Plug-in Hybrid El...|                             Clean Alternative...|            53|        0|                  23|     162720022|POINT (-122.62501...|PUGET SOUND ENERG...|      53035091100|\n",
      "|5YJ3E1EB5L|Snohomish|Mountlake Terrace|   WA|      98043|      2020|    TESLA| MODEL 3| Battery Electric ...|                             Clean Alternative...|           322|        0|                   1|       6293899|POINT (-122.30842...|PUGET SOUND ENERG...|      53061051302|\n",
      "|WA1F2AFY1N|     King|          Seattle|   WA|      98119|      2022|     AUDI|      Q5| Plug-in Hybrid El...|                             Not eligible due ...|            23|        0|                  36|     207620633|POINT (-122.36731...|CITY OF SEATTLE -...|      53033005902|\n",
      "|1G1RB6S59H| Thurston|          Olympia|   WA|      98501|      2017|CHEVROLET|    VOLT| Plug-in Hybrid El...|                             Clean Alternative...|            53|        0|                  22|     237392459|POINT (-122.89692...|PUGET SOUND ENERG...|      53067010700|\n",
      "|1G1FW6S03J|Snohomish|          Bothell|   WA|      98021|      2018|CHEVROLET| BOLT EV| Battery Electric ...|                             Clean Alternative...|           238|        0|                   1|     187858821|POINT (-122.21072...|PUGET SOUND ENERG...|      53061051926|\n",
      "|5YJSA1S22F|     King|          Seattle|   WA|      98121|      2015|    TESLA| MODEL S| Battery Electric ...|                             Clean Alternative...|           208|        0|                  36|     143405748|POINT (-122.34412...|CITY OF SEATTLE -...|      53033008004|\n",
      "|KNDC3DLC7N|   Kitsap|     Port Orchard|   WA|      98366|      2022|      KIA|     EV6| Battery Electric ...|                             Eligibility unkno...|             0|        0|                  26|     195772741|POINT (-122.60649...|PUGET SOUND ENERG...|      53035092500|\n",
      "|1N4AZ0CP9D|   Kitsap|     Port Orchard|   WA|      98367|      2013|   NISSAN|    LEAF| Battery Electric ...|                             Clean Alternative...|            75|        0|                  26|     207343356|POINT (-122.65300...|PUGET SOUND ENERG...|      53035092801|\n",
      "|1G1RB6S51J|   Kitsap|        Bremerton|   WA|      98310|      2018|CHEVROLET|    VOLT| Plug-in Hybrid El...|                             Clean Alternative...|            53|        0|                  23|     475945368|POINT (-122.61136...|PUGET SOUND ENERG...|      53035080300|\n",
      "|5YJ3E1EB4L|   Yakima|            Moxee|   WA|      98936|      2020|    TESLA| MODEL 3| Battery Electric ...|                             Clean Alternative...|           322|        0|                  15|     102357853|POINT (-120.35522...|          PACIFICORP|      53077001702|\n",
      "|5YJSA1E25H|Snohomish|      Woodinville|   WA|      98077|      2017|    TESLA| MODEL S| Battery Electric ...|                             Clean Alternative...|           210|        0|                   1|     350319504|POINT (-122.07140...|PUGET SOUND ENERG...|      53061051912|\n",
      "|YV4BR0DL5N| Thurston|          Olympia|   WA|      98512|      2022|    VOLVO|    XC60| Plug-in Hybrid El...|                             Not eligible due ...|            18|        0|                  22|     182247607|POINT (-122.91310...|PUGET SOUND ENERG...|      53067011000|\n",
      "|5YJ3E1EA1P| Thurston|          Olympia|   WA|      98506|      2023|    TESLA| MODEL 3| Battery Electric ...|                             Eligibility unkno...|             0|        0|                  22|     259736277|POINT (-122.88747...|PUGET SOUND ENERG...|      53067012100|\n",
      "|3C3CFFGE8F| Thurston|          Olympia|   WA|      98506|      2015|     FIAT|     500| Battery Electric ...|                             Clean Alternative...|            87|        0|                  22|     349091298|POINT (-122.88747...|PUGET SOUND ENERG...|      53067012211|\n",
      "+----------+---------+-----------------+-----+-----------+----------+---------+--------+---------------------+-------------------------------------------------+--------------+---------+--------------------+--------------+--------------------+--------------------+-----------------+\n",
      "only showing top 20 rows\n",
      "\n"
     ]
    }
   ],
   "source": [
    "# Filling the Missing Values\n",
    "df_pyspark.na.fill('Missing Values',['State','City']).show()"
   ]
  },
  {
   "cell_type": "code",
   "execution_count": 55,
   "metadata": {},
   "outputs": [],
   "source": [
    "# Mean imputation, creates imputed column\n",
    "from pyspark.ml.feature import Imputer \n",
    "\n",
    "imputer = Imputer(\n",
    "    inputCols=['Model Year','Electric Range','Base MSRP'],\n",
    "    outputCols=[\"{}_imputed\".format(c) for c in ['Model Year','Electric Range','Base MSRP']]\n",
    ").setStrategy(\"mean\") #can change to median or mode"
   ]
  },
  {
   "cell_type": "code",
   "execution_count": 56,
   "metadata": {},
   "outputs": [
    {
     "name": "stdout",
     "output_type": "stream",
     "text": [
      "+----------+---------+-----------------+-----+-----------+----------+---------+--------+---------------------+-------------------------------------------------+--------------+---------+--------------------+--------------+--------------------+--------------------+-----------------+------------------+----------------------+-----------------+\n",
      "|VIN (1-10)|   County|             City|State|Postal Code|Model Year|     Make|   Model|Electric Vehicle Type|Clean Alternative Fuel Vehicle (CAFV) Eligibility|Electric Range|Base MSRP|Legislative District|DOL Vehicle ID|    Vehicle Location|    Electric Utility|2020 Census Tract|Model Year_imputed|Electric Range_imputed|Base MSRP_imputed|\n",
      "+----------+---------+-----------------+-----+-----------+----------+---------+--------+---------------------+-------------------------------------------------+--------------+---------+--------------------+--------------+--------------------+--------------------+-----------------+------------------+----------------------+-----------------+\n",
      "|WAUTPBFF4H|     King|          Seattle|   WA|      98126|      2017|     AUDI|      A3| Plug-in Hybrid El...|                             Not eligible due ...|            16|        0|                  34|     235085336|POINT (-122.37410...|CITY OF SEATTLE -...|      53033011500|              2017|                    16|                0|\n",
      "|WAUUPBFF2J| Thurston|          Olympia|   WA|      98502|      2018|     AUDI|      A3| Plug-in Hybrid El...|                             Not eligible due ...|            16|        0|                  22|     237896795|POINT (-122.94344...|PUGET SOUND ENERG...|      53067011100|              2018|                    16|                0|\n",
      "|5YJSA1E22H| Thurston|            Lacey|   WA|      98516|      2017|    TESLA| MODEL S| Battery Electric ...|                             Clean Alternative...|           210|        0|                  22|     154498865|POINT (-122.78083...|PUGET SOUND ENERG...|      53067012226|              2017|                   210|                0|\n",
      "|1C4JJXP62M| Thurston|           Tenino|   WA|      98589|      2021|     JEEP|WRANGLER| Plug-in Hybrid El...|                             Not eligible due ...|            25|        0|                  20|     154525493|POINT (-122.85403...|PUGET SOUND ENERG...|      53067012620|              2021|                    25|                0|\n",
      "|5YJ3E1EC9L|   Yakima|           Yakima|   WA|      98902|      2020|    TESLA| MODEL 3| Battery Electric ...|                             Clean Alternative...|           308|        0|                  14|     225996361|POINT (-120.52401...|          PACIFICORP|      53077000800|              2020|                   308|                0|\n",
      "|1C4JJXP66P| Thurston|          Olympia|   WA|      98501|      2023|     JEEP|WRANGLER| Plug-in Hybrid El...|                             Not eligible due ...|            21|        0|                  22|     220675367|POINT (-122.89692...|PUGET SOUND ENERG...|      53067010802|              2023|                    21|                0|\n",
      "|1G1RA6S53H|   Kitsap|          Keyport|   WA|      98345|      2017|CHEVROLET|    VOLT| Plug-in Hybrid El...|                             Clean Alternative...|            53|        0|                  23|     162720022|POINT (-122.62501...|PUGET SOUND ENERG...|      53035091100|              2017|                    53|                0|\n",
      "|5YJ3E1EB5L|Snohomish|Mountlake Terrace|   WA|      98043|      2020|    TESLA| MODEL 3| Battery Electric ...|                             Clean Alternative...|           322|        0|                   1|       6293899|POINT (-122.30842...|PUGET SOUND ENERG...|      53061051302|              2020|                   322|                0|\n",
      "|WA1F2AFY1N|     King|          Seattle|   WA|      98119|      2022|     AUDI|      Q5| Plug-in Hybrid El...|                             Not eligible due ...|            23|        0|                  36|     207620633|POINT (-122.36731...|CITY OF SEATTLE -...|      53033005902|              2022|                    23|                0|\n",
      "|1G1RB6S59H| Thurston|          Olympia|   WA|      98501|      2017|CHEVROLET|    VOLT| Plug-in Hybrid El...|                             Clean Alternative...|            53|        0|                  22|     237392459|POINT (-122.89692...|PUGET SOUND ENERG...|      53067010700|              2017|                    53|                0|\n",
      "|1G1FW6S03J|Snohomish|          Bothell|   WA|      98021|      2018|CHEVROLET| BOLT EV| Battery Electric ...|                             Clean Alternative...|           238|        0|                   1|     187858821|POINT (-122.21072...|PUGET SOUND ENERG...|      53061051926|              2018|                   238|                0|\n",
      "|5YJSA1S22F|     King|          Seattle|   WA|      98121|      2015|    TESLA| MODEL S| Battery Electric ...|                             Clean Alternative...|           208|        0|                  36|     143405748|POINT (-122.34412...|CITY OF SEATTLE -...|      53033008004|              2015|                   208|                0|\n",
      "|KNDC3DLC7N|   Kitsap|     Port Orchard|   WA|      98366|      2022|      KIA|     EV6| Battery Electric ...|                             Eligibility unkno...|             0|        0|                  26|     195772741|POINT (-122.60649...|PUGET SOUND ENERG...|      53035092500|              2022|                     0|                0|\n",
      "|1N4AZ0CP9D|   Kitsap|     Port Orchard|   WA|      98367|      2013|   NISSAN|    LEAF| Battery Electric ...|                             Clean Alternative...|            75|        0|                  26|     207343356|POINT (-122.65300...|PUGET SOUND ENERG...|      53035092801|              2013|                    75|                0|\n",
      "|1G1RB6S51J|   Kitsap|        Bremerton|   WA|      98310|      2018|CHEVROLET|    VOLT| Plug-in Hybrid El...|                             Clean Alternative...|            53|        0|                  23|     475945368|POINT (-122.61136...|PUGET SOUND ENERG...|      53035080300|              2018|                    53|                0|\n",
      "|5YJ3E1EB4L|   Yakima|            Moxee|   WA|      98936|      2020|    TESLA| MODEL 3| Battery Electric ...|                             Clean Alternative...|           322|        0|                  15|     102357853|POINT (-120.35522...|          PACIFICORP|      53077001702|              2020|                   322|                0|\n",
      "|5YJSA1E25H|Snohomish|      Woodinville|   WA|      98077|      2017|    TESLA| MODEL S| Battery Electric ...|                             Clean Alternative...|           210|        0|                   1|     350319504|POINT (-122.07140...|PUGET SOUND ENERG...|      53061051912|              2017|                   210|                0|\n",
      "|YV4BR0DL5N| Thurston|          Olympia|   WA|      98512|      2022|    VOLVO|    XC60| Plug-in Hybrid El...|                             Not eligible due ...|            18|        0|                  22|     182247607|POINT (-122.91310...|PUGET SOUND ENERG...|      53067011000|              2022|                    18|                0|\n",
      "|5YJ3E1EA1P| Thurston|          Olympia|   WA|      98506|      2023|    TESLA| MODEL 3| Battery Electric ...|                             Eligibility unkno...|             0|        0|                  22|     259736277|POINT (-122.88747...|PUGET SOUND ENERG...|      53067012100|              2023|                     0|                0|\n",
      "|3C3CFFGE8F| Thurston|          Olympia|   WA|      98506|      2015|     FIAT|     500| Battery Electric ...|                             Clean Alternative...|            87|        0|                  22|     349091298|POINT (-122.88747...|PUGET SOUND ENERG...|      53067012211|              2015|                    87|                0|\n",
      "+----------+---------+-----------------+-----+-----------+----------+---------+--------+---------------------+-------------------------------------------------+--------------+---------+--------------------+--------------+--------------------+--------------------+-----------------+------------------+----------------------+-----------------+\n",
      "only showing top 20 rows\n",
      "\n"
     ]
    }
   ],
   "source": [
    "imputer.fit(df_pyspark).transform(df_pyspark).show()"
   ]
  },
  {
   "cell_type": "markdown",
   "metadata": {},
   "source": [
    "## Pyspark Dataframes \n",
    "- Filter Operation\n",
    "- &,|,==\n",
    "- ~"
   ]
  },
  {
   "cell_type": "markdown",
   "metadata": {},
   "source": [
    "### filter operation\n"
   ]
  },
  {
   "cell_type": "code",
   "execution_count": 68,
   "metadata": {},
   "outputs": [
    {
     "name": "stdout",
     "output_type": "stream",
     "text": [
      "+----------+---------+-----------------+-----+-----------+----------+---------+-----------+---------------------+-------------------------------------------------+--------------+---------+--------------------+--------------+--------------------+--------------------+-----------------+\n",
      "|VIN (1-10)|   County|             City|State|Postal Code|Model Year|     Make|      Model|Electric Vehicle Type|Clean Alternative Fuel Vehicle (CAFV) Eligibility|Electric Range|Base MSRP|Legislative District|DOL Vehicle ID|    Vehicle Location|    Electric Utility|2020 Census Tract|\n",
      "+----------+---------+-----------------+-----+-----------+----------+---------+-----------+---------------------+-------------------------------------------------+--------------+---------+--------------------+--------------+--------------------+--------------------+-----------------+\n",
      "|1C4JJXP62M| Thurston|           Tenino|   WA|      98589|      2021|     JEEP|   WRANGLER| Plug-in Hybrid El...|                             Not eligible due ...|            25|        0|                  20|     154525493|POINT (-122.85403...|PUGET SOUND ENERG...|      53067012620|\n",
      "|5YJ3E1EC9L|   Yakima|           Yakima|   WA|      98902|      2020|    TESLA|    MODEL 3| Battery Electric ...|                             Clean Alternative...|           308|        0|                  14|     225996361|POINT (-120.52401...|          PACIFICORP|      53077000800|\n",
      "|1C4JJXP66P| Thurston|          Olympia|   WA|      98501|      2023|     JEEP|   WRANGLER| Plug-in Hybrid El...|                             Not eligible due ...|            21|        0|                  22|     220675367|POINT (-122.89692...|PUGET SOUND ENERG...|      53067010802|\n",
      "|5YJ3E1EB5L|Snohomish|Mountlake Terrace|   WA|      98043|      2020|    TESLA|    MODEL 3| Battery Electric ...|                             Clean Alternative...|           322|        0|                   1|       6293899|POINT (-122.30842...|PUGET SOUND ENERG...|      53061051302|\n",
      "|WA1F2AFY1N|     King|          Seattle|   WA|      98119|      2022|     AUDI|         Q5| Plug-in Hybrid El...|                             Not eligible due ...|            23|        0|                  36|     207620633|POINT (-122.36731...|CITY OF SEATTLE -...|      53033005902|\n",
      "|KNDC3DLC7N|   Kitsap|     Port Orchard|   WA|      98366|      2022|      KIA|        EV6| Battery Electric ...|                             Eligibility unkno...|             0|        0|                  26|     195772741|POINT (-122.60649...|PUGET SOUND ENERG...|      53035092500|\n",
      "|5YJ3E1EB4L|   Yakima|            Moxee|   WA|      98936|      2020|    TESLA|    MODEL 3| Battery Electric ...|                             Clean Alternative...|           322|        0|                  15|     102357853|POINT (-120.35522...|          PACIFICORP|      53077001702|\n",
      "|YV4BR0DL5N| Thurston|          Olympia|   WA|      98512|      2022|    VOLVO|       XC60| Plug-in Hybrid El...|                             Not eligible due ...|            18|        0|                  22|     182247607|POINT (-122.91310...|PUGET SOUND ENERG...|      53067011000|\n",
      "|5YJ3E1EA1P| Thurston|          Olympia|   WA|      98506|      2023|    TESLA|    MODEL 3| Battery Electric ...|                             Eligibility unkno...|             0|        0|                  22|     259736277|POINT (-122.88747...|PUGET SOUND ENERG...|      53067012100|\n",
      "|1G1FZ6S04P|   Yakima|           Yakima|   WA|      98908|      2023|CHEVROLET|   BOLT EUV| Battery Electric ...|                             Eligibility unkno...|             0|        0|                  14|     251492111|POINT (-120.61106...|          PACIFICORP|      53077002900|\n",
      "|KNDCM3LD1N|   Kitsap|          Poulsbo|   WA|      98370|      2022|      KIA|       NIRO| Plug-in Hybrid El...|                             Not eligible due ...|            26|        0|                  23|     196390211|POINT (-122.63688...|PUGET SOUND ENERG...|      53035090202|\n",
      "|1G1FY6S01L|   Kitsap|          Poulsbo|   WA|      98370|      2020|CHEVROLET|    BOLT EV| Battery Electric ...|                             Clean Alternative...|           259|        0|                  23|     168471614|POINT (-122.63688...|PUGET SOUND ENERG...|      53035090201|\n",
      "|7SAYGDEE0P|   Yakima|           Yakima|   WA|      98908|      2023|    TESLA|    MODEL Y| Battery Electric ...|                             Eligibility unkno...|             0|        0|                  14|     226032222|POINT (-120.61106...|          PACIFICORP|      53077002801|\n",
      "|JN1AF0BA4P|Snohomish|          Bothell|   WA|      98012|      2023|   NISSAN|      ARIYA| Battery Electric ...|                             Eligibility unkno...|             0|        0|                  44|     252511318|POINT (-122.1873 ...|PUGET SOUND ENERG...|      53061052010|\n",
      "|JTDKARFP5L|   Yakima|           Yakima|   WA|      98902|      2020|   TOYOTA|PRIUS PRIME| Plug-in Hybrid El...|                             Not eligible due ...|            25|        0|                  14|     220589386|POINT (-120.52401...|          PACIFICORP|      53077000700|\n",
      "|5YJXCBE21L|     King|          Seattle|   WA|      98122|      2020|    TESLA|    MODEL X| Battery Electric ...|                             Clean Alternative...|           293|        0|                  37|       3431795|POINT (-122.30839...|CITY OF SEATTLE -...|      53033008800|\n",
      "|5YJ3E1EBXM|   Yakima|            Selah|   WA|      98942|      2021|    TESLA|    MODEL 3| Battery Electric ...|                             Eligibility unkno...|             0|        0|                  15|     228731289|POINT (-120.54188...|          PACIFICORP|      53077003400|\n",
      "|7SAYGDEE9P|Snohomish|          Bothell|   WA|      98021|      2023|    TESLA|    MODEL Y| Battery Electric ...|                             Eligibility unkno...|             0|        0|                   1|     240439426|POINT (-122.21072...|PUGET SOUND ENERG...|      53061051926|\n",
      "|5YJ3E1EB2L| Thurston|          Olympia|   WA|      98502|      2020|    TESLA|    MODEL 3| Battery Electric ...|                             Clean Alternative...|           322|        0|                  35|     127155451|POINT (-122.94344...|PUGET SOUND ENERG...|      53067011902|\n",
      "|KNDCC3LG5L|   Kitsap|        Bremerton|   WA|      98312|      2020|      KIA|       NIRO| Battery Electric ...|                             Clean Alternative...|           239|        0|                  35|     151001350|POINT (-122.65223...|PUGET SOUND ENERG...|      53035091301|\n",
      "+----------+---------+-----------------+-----+-----------+----------+---------+-----------+---------------------+-------------------------------------------------+--------------+---------+--------------------+--------------+--------------------+--------------------+-----------------+\n",
      "only showing top 20 rows\n",
      "\n"
     ]
    }
   ],
   "source": [
    "from pyspark.sql.functions import col\n",
    "# car models 2020 and after\n",
    "df_pyspark.filter(col(\"Model Year\") >= 2020).show() #doesn't like spaces in the column name"
   ]
  },
  {
   "cell_type": "code",
   "execution_count": 70,
   "metadata": {},
   "outputs": [
    {
     "name": "stdout",
     "output_type": "stream",
     "text": [
      "+-----------+---------+\n",
      "|      Model|     Make|\n",
      "+-----------+---------+\n",
      "|   WRANGLER|     JEEP|\n",
      "|    MODEL 3|    TESLA|\n",
      "|   WRANGLER|     JEEP|\n",
      "|    MODEL 3|    TESLA|\n",
      "|         Q5|     AUDI|\n",
      "|        EV6|      KIA|\n",
      "|    MODEL 3|    TESLA|\n",
      "|       XC60|    VOLVO|\n",
      "|    MODEL 3|    TESLA|\n",
      "|   BOLT EUV|CHEVROLET|\n",
      "|       NIRO|      KIA|\n",
      "|    BOLT EV|CHEVROLET|\n",
      "|    MODEL Y|    TESLA|\n",
      "|      ARIYA|   NISSAN|\n",
      "|PRIUS PRIME|   TOYOTA|\n",
      "|    MODEL X|    TESLA|\n",
      "|    MODEL 3|    TESLA|\n",
      "|    MODEL Y|    TESLA|\n",
      "|    MODEL 3|    TESLA|\n",
      "|       NIRO|      KIA|\n",
      "+-----------+---------+\n",
      "only showing top 20 rows\n",
      "\n"
     ]
    }
   ],
   "source": [
    "df_pyspark.filter(col(\"Model Year\") >= 2020).select(['Model','Make']).show()"
   ]
  },
  {
   "cell_type": "code",
   "execution_count": 74,
   "metadata": {},
   "outputs": [
    {
     "name": "stdout",
     "output_type": "stream",
     "text": [
      "+----------+---------+-----------------+-----+-----------+----------+---------+-------+---------------------+-------------------------------------------------+--------------+---------+--------------------+--------------+--------------------+--------------------+-----------------+\n",
      "|VIN (1-10)|   County|             City|State|Postal Code|Model Year|     Make|  Model|Electric Vehicle Type|Clean Alternative Fuel Vehicle (CAFV) Eligibility|Electric Range|Base MSRP|Legislative District|DOL Vehicle ID|    Vehicle Location|    Electric Utility|2020 Census Tract|\n",
      "+----------+---------+-----------------+-----+-----------+----------+---------+-------+---------------------+-------------------------------------------------+--------------+---------+--------------------+--------------+--------------------+--------------------+-----------------+\n",
      "|WAUTPBFF4H|     King|          Seattle|   WA|      98126|      2017|     AUDI|     A3| Plug-in Hybrid El...|                             Not eligible due ...|            16|        0|                  34|     235085336|POINT (-122.37410...|CITY OF SEATTLE -...|      53033011500|\n",
      "|WAUUPBFF2J| Thurston|          Olympia|   WA|      98502|      2018|     AUDI|     A3| Plug-in Hybrid El...|                             Not eligible due ...|            16|        0|                  22|     237896795|POINT (-122.94344...|PUGET SOUND ENERG...|      53067011100|\n",
      "|5YJSA1E22H| Thurston|            Lacey|   WA|      98516|      2017|    TESLA|MODEL S| Battery Electric ...|                             Clean Alternative...|           210|        0|                  22|     154498865|POINT (-122.78083...|PUGET SOUND ENERG...|      53067012226|\n",
      "|5YJ3E1EC9L|   Yakima|           Yakima|   WA|      98902|      2020|    TESLA|MODEL 3| Battery Electric ...|                             Clean Alternative...|           308|        0|                  14|     225996361|POINT (-120.52401...|          PACIFICORP|      53077000800|\n",
      "|1G1RA6S53H|   Kitsap|          Keyport|   WA|      98345|      2017|CHEVROLET|   VOLT| Plug-in Hybrid El...|                             Clean Alternative...|            53|        0|                  23|     162720022|POINT (-122.62501...|PUGET SOUND ENERG...|      53035091100|\n",
      "|5YJ3E1EB5L|Snohomish|Mountlake Terrace|   WA|      98043|      2020|    TESLA|MODEL 3| Battery Electric ...|                             Clean Alternative...|           322|        0|                   1|       6293899|POINT (-122.30842...|PUGET SOUND ENERG...|      53061051302|\n",
      "|1G1RB6S59H| Thurston|          Olympia|   WA|      98501|      2017|CHEVROLET|   VOLT| Plug-in Hybrid El...|                             Clean Alternative...|            53|        0|                  22|     237392459|POINT (-122.89692...|PUGET SOUND ENERG...|      53067010700|\n",
      "|1G1FW6S03J|Snohomish|          Bothell|   WA|      98021|      2018|CHEVROLET|BOLT EV| Battery Electric ...|                             Clean Alternative...|           238|        0|                   1|     187858821|POINT (-122.21072...|PUGET SOUND ENERG...|      53061051926|\n",
      "|5YJSA1S22F|     King|          Seattle|   WA|      98121|      2015|    TESLA|MODEL S| Battery Electric ...|                             Clean Alternative...|           208|        0|                  36|     143405748|POINT (-122.34412...|CITY OF SEATTLE -...|      53033008004|\n",
      "|1N4AZ0CP9D|   Kitsap|     Port Orchard|   WA|      98367|      2013|   NISSAN|   LEAF| Battery Electric ...|                             Clean Alternative...|            75|        0|                  26|     207343356|POINT (-122.65300...|PUGET SOUND ENERG...|      53035092801|\n",
      "|1G1RB6S51J|   Kitsap|        Bremerton|   WA|      98310|      2018|CHEVROLET|   VOLT| Plug-in Hybrid El...|                             Clean Alternative...|            53|        0|                  23|     475945368|POINT (-122.61136...|PUGET SOUND ENERG...|      53035080300|\n",
      "|5YJ3E1EB4L|   Yakima|            Moxee|   WA|      98936|      2020|    TESLA|MODEL 3| Battery Electric ...|                             Clean Alternative...|           322|        0|                  15|     102357853|POINT (-120.35522...|          PACIFICORP|      53077001702|\n",
      "|5YJSA1E25H|Snohomish|      Woodinville|   WA|      98077|      2017|    TESLA|MODEL S| Battery Electric ...|                             Clean Alternative...|           210|        0|                   1|     350319504|POINT (-122.07140...|PUGET SOUND ENERG...|      53061051912|\n",
      "|3C3CFFGE8F| Thurston|          Olympia|   WA|      98506|      2015|     FIAT|    500| Battery Electric ...|                             Clean Alternative...|            87|        0|                  22|     349091298|POINT (-122.88747...|PUGET SOUND ENERG...|      53067012211|\n",
      "|1N4AZ1CP0J|   Kitsap|        Bremerton|   WA|      98310|      2018|   NISSAN|   LEAF| Battery Electric ...|                             Clean Alternative...|           151|        0|                  23|     475691940|POINT (-122.61136...|PUGET SOUND ENERG...|      53035080102|\n",
      "|1G1FY6S01L|   Kitsap|          Poulsbo|   WA|      98370|      2020|CHEVROLET|BOLT EV| Battery Electric ...|                             Clean Alternative...|           259|        0|                  23|     168471614|POINT (-122.63688...|PUGET SOUND ENERG...|      53035090201|\n",
      "|3C3CFFGE5H|   Island|       Oak Harbor|   WA|      98277|      2017|     FIAT|    500| Battery Electric ...|                             Clean Alternative...|            84|        0|                  10|     106155605|POINT (-122.64471...|PUGET SOUND ENERG...|      53029970700|\n",
      "|1G1FZ6S04K|   Kitsap|        Bremerton|   WA|      98310|      2019|CHEVROLET|BOLT EV| Battery Electric ...|                             Clean Alternative...|           238|        0|                  23|     286338832|POINT (-122.61136...|PUGET SOUND ENERG...|      53035080102|\n",
      "|1G1FX6S0XH|   Kitsap|     Port Orchard|   WA|      98366|      2017|CHEVROLET|BOLT EV| Battery Electric ...|                             Clean Alternative...|           238|        0|                  26|     301174016|POINT (-122.60649...|PUGET SOUND ENERG...|      53035092400|\n",
      "|1N4BZ0CP9H|   Kitsap|     Port Orchard|   WA|      98367|      2017|   NISSAN|   LEAF| Battery Electric ...|                             Clean Alternative...|           107|        0|                  26|     213985278|POINT (-122.65300...|PUGET SOUND ENERG...|      53035092801|\n",
      "+----------+---------+-----------------+-----+-----------+----------+---------+-------+---------------------+-------------------------------------------------+--------------+---------+--------------------+--------------+--------------------+--------------------+-----------------+\n",
      "only showing top 20 rows\n",
      "\n"
     ]
    }
   ],
   "source": [
    "df_pyspark.filter((df_pyspark['Model Year']<=2020) & (df_pyspark['Base MSRP'] < 20000)).show()"
   ]
  },
  {
   "cell_type": "code",
   "execution_count": 77,
   "metadata": {},
   "outputs": [
    {
     "name": "stdout",
     "output_type": "stream",
     "text": [
      "+----------+---------+-----------------+-----+-----------+----------+---------+-------+---------------------+-------------------------------------------------+--------------+---------+--------------------+--------------+--------------------+--------------------+-----------------+\n",
      "|VIN (1-10)|   County|             City|State|Postal Code|Model Year|     Make|  Model|Electric Vehicle Type|Clean Alternative Fuel Vehicle (CAFV) Eligibility|Electric Range|Base MSRP|Legislative District|DOL Vehicle ID|    Vehicle Location|    Electric Utility|2020 Census Tract|\n",
      "+----------+---------+-----------------+-----+-----------+----------+---------+-------+---------------------+-------------------------------------------------+--------------+---------+--------------------+--------------+--------------------+--------------------+-----------------+\n",
      "|WAUTPBFF4H|     King|          Seattle|   WA|      98126|      2017|     AUDI|     A3| Plug-in Hybrid El...|                             Not eligible due ...|            16|        0|                  34|     235085336|POINT (-122.37410...|CITY OF SEATTLE -...|      53033011500|\n",
      "|WAUUPBFF2J| Thurston|          Olympia|   WA|      98502|      2018|     AUDI|     A3| Plug-in Hybrid El...|                             Not eligible due ...|            16|        0|                  22|     237896795|POINT (-122.94344...|PUGET SOUND ENERG...|      53067011100|\n",
      "|5YJSA1E22H| Thurston|            Lacey|   WA|      98516|      2017|    TESLA|MODEL S| Battery Electric ...|                             Clean Alternative...|           210|        0|                  22|     154498865|POINT (-122.78083...|PUGET SOUND ENERG...|      53067012226|\n",
      "|5YJ3E1EC9L|   Yakima|           Yakima|   WA|      98902|      2020|    TESLA|MODEL 3| Battery Electric ...|                             Clean Alternative...|           308|        0|                  14|     225996361|POINT (-120.52401...|          PACIFICORP|      53077000800|\n",
      "|1G1RA6S53H|   Kitsap|          Keyport|   WA|      98345|      2017|CHEVROLET|   VOLT| Plug-in Hybrid El...|                             Clean Alternative...|            53|        0|                  23|     162720022|POINT (-122.62501...|PUGET SOUND ENERG...|      53035091100|\n",
      "|5YJ3E1EB5L|Snohomish|Mountlake Terrace|   WA|      98043|      2020|    TESLA|MODEL 3| Battery Electric ...|                             Clean Alternative...|           322|        0|                   1|       6293899|POINT (-122.30842...|PUGET SOUND ENERG...|      53061051302|\n",
      "|1G1RB6S59H| Thurston|          Olympia|   WA|      98501|      2017|CHEVROLET|   VOLT| Plug-in Hybrid El...|                             Clean Alternative...|            53|        0|                  22|     237392459|POINT (-122.89692...|PUGET SOUND ENERG...|      53067010700|\n",
      "|1G1FW6S03J|Snohomish|          Bothell|   WA|      98021|      2018|CHEVROLET|BOLT EV| Battery Electric ...|                             Clean Alternative...|           238|        0|                   1|     187858821|POINT (-122.21072...|PUGET SOUND ENERG...|      53061051926|\n",
      "|5YJSA1S22F|     King|          Seattle|   WA|      98121|      2015|    TESLA|MODEL S| Battery Electric ...|                             Clean Alternative...|           208|        0|                  36|     143405748|POINT (-122.34412...|CITY OF SEATTLE -...|      53033008004|\n",
      "|1N4AZ0CP9D|   Kitsap|     Port Orchard|   WA|      98367|      2013|   NISSAN|   LEAF| Battery Electric ...|                             Clean Alternative...|            75|        0|                  26|     207343356|POINT (-122.65300...|PUGET SOUND ENERG...|      53035092801|\n",
      "|1G1RB6S51J|   Kitsap|        Bremerton|   WA|      98310|      2018|CHEVROLET|   VOLT| Plug-in Hybrid El...|                             Clean Alternative...|            53|        0|                  23|     475945368|POINT (-122.61136...|PUGET SOUND ENERG...|      53035080300|\n",
      "|5YJ3E1EB4L|   Yakima|            Moxee|   WA|      98936|      2020|    TESLA|MODEL 3| Battery Electric ...|                             Clean Alternative...|           322|        0|                  15|     102357853|POINT (-120.35522...|          PACIFICORP|      53077001702|\n",
      "|5YJSA1E25H|Snohomish|      Woodinville|   WA|      98077|      2017|    TESLA|MODEL S| Battery Electric ...|                             Clean Alternative...|           210|        0|                   1|     350319504|POINT (-122.07140...|PUGET SOUND ENERG...|      53061051912|\n",
      "|3C3CFFGE8F| Thurston|          Olympia|   WA|      98506|      2015|     FIAT|    500| Battery Electric ...|                             Clean Alternative...|            87|        0|                  22|     349091298|POINT (-122.88747...|PUGET SOUND ENERG...|      53067012211|\n",
      "|1N4AZ1CP0J|   Kitsap|        Bremerton|   WA|      98310|      2018|   NISSAN|   LEAF| Battery Electric ...|                             Clean Alternative...|           151|        0|                  23|     475691940|POINT (-122.61136...|PUGET SOUND ENERG...|      53035080102|\n",
      "|1G1FY6S01L|   Kitsap|          Poulsbo|   WA|      98370|      2020|CHEVROLET|BOLT EV| Battery Electric ...|                             Clean Alternative...|           259|        0|                  23|     168471614|POINT (-122.63688...|PUGET SOUND ENERG...|      53035090201|\n",
      "|3C3CFFGE5H|   Island|       Oak Harbor|   WA|      98277|      2017|     FIAT|    500| Battery Electric ...|                             Clean Alternative...|            84|        0|                  10|     106155605|POINT (-122.64471...|PUGET SOUND ENERG...|      53029970700|\n",
      "|1G1FZ6S04K|   Kitsap|        Bremerton|   WA|      98310|      2019|CHEVROLET|BOLT EV| Battery Electric ...|                             Clean Alternative...|           238|        0|                  23|     286338832|POINT (-122.61136...|PUGET SOUND ENERG...|      53035080102|\n",
      "|1G1FX6S0XH|   Kitsap|     Port Orchard|   WA|      98366|      2017|CHEVROLET|BOLT EV| Battery Electric ...|                             Clean Alternative...|           238|        0|                  26|     301174016|POINT (-122.60649...|PUGET SOUND ENERG...|      53035092400|\n",
      "|1N4BZ0CP9H|   Kitsap|     Port Orchard|   WA|      98367|      2017|   NISSAN|   LEAF| Battery Electric ...|                             Clean Alternative...|           107|        0|                  26|     213985278|POINT (-122.65300...|PUGET SOUND ENERG...|      53035092801|\n",
      "+----------+---------+-----------------+-----+-----------+----------+---------+-------+---------------------+-------------------------------------------------+--------------+---------+--------------------+--------------+--------------------+--------------------+-----------------+\n",
      "only showing top 20 rows\n",
      "\n"
     ]
    }
   ],
   "source": [
    "df_pyspark.filter(~(df_pyspark['Model Year'] > 2020)).show()"
   ]
  },
  {
   "cell_type": "code",
   "execution_count": null,
   "metadata": {},
   "outputs": [],
   "source": []
  },
  {
   "cell_type": "code",
   "execution_count": null,
   "metadata": {},
   "outputs": [],
   "source": []
  }
 ],
 "metadata": {
  "kernelspec": {
   "display_name": "venv",
   "language": "python",
   "name": "python3"
  },
  "language_info": {
   "codemirror_mode": {
    "name": "ipython",
    "version": 3
   },
   "file_extension": ".py",
   "mimetype": "text/x-python",
   "name": "python",
   "nbconvert_exporter": "python",
   "pygments_lexer": "ipython3",
   "version": "3.11.5"
  }
 },
 "nbformat": 4,
 "nbformat_minor": 2
}
