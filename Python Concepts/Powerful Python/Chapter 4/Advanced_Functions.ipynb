{
 "cells": [
  {
   "cell_type": "markdown",
   "metadata": {},
   "source": [
    "# Section 4.1 Accepting and Passing Variable Arguments"
   ]
  },
  {
   "cell_type": "code",
   "execution_count": 7,
   "metadata": {},
   "outputs": [
    {
     "name": "stdout",
     "output_type": "stream",
     "text": [
      "Type of Args:  <class 'tuple'>\n",
      "Arg Value:  ('caserole', 'string-bean', 1, 5, {1, 2, 3, 5, 6, 7, 9})\n"
     ]
    }
   ],
   "source": [
    "# function that can be passed unlmtd args\n",
    "def take_any_args(*args):\n",
    "    print('Type of Args: ',str(type(args)))\n",
    "    print('Arg Value: ', str(args))\n",
    "\n",
    "take_any_args('caserole','string-bean',1,5,set([1,2,3,3,5,6,6,7,9]))"
   ]
  },
  {
   "cell_type": "code",
   "execution_count": 10,
   "metadata": {},
   "outputs": [
    {
     "name": "stdout",
     "output_type": "stream",
     "text": [
      "4 5 6\n"
     ]
    }
   ],
   "source": [
    "#asterisk also works the other way around\n",
    "\n",
    "def printNums(a,b,c):\n",
    "    print(a,b,c)\n",
    "\n",
    "numbers = (4,5,6) # this is a tuple\n",
    "\n",
    "printNums(*numbers)"
   ]
  },
  {
   "cell_type": "code",
   "execution_count": 14,
   "metadata": {},
   "outputs": [],
   "source": [
    "def printKwargs(**kwargs):\n",
    "    for key,value in kwargs.items():\n",
    "        print(\"{} -> {}\".format(key,value))"
   ]
  },
  {
   "cell_type": "code",
   "execution_count": 15,
   "metadata": {},
   "outputs": [
    {
     "name": "stdout",
     "output_type": "stream",
     "text": [
      "jane -> truth\n",
      "chance -> lies\n",
      "peter -> snake\n"
     ]
    }
   ],
   "source": [
    "printKwargs(jane=\"truth\",chance=\"lies\",peter='snake')"
   ]
  },
  {
   "cell_type": "code",
   "execution_count": 18,
   "metadata": {},
   "outputs": [],
   "source": [
    "#Passing other arguments with kwargs\n",
    "def printWithCaveat(caveat,**kwargs):\n",
    "    for key, value in kwargs.items():\n",
    "        if key not in caveat:\n",
    "            print(\"{} is the caveat.\".format(key))"
   ]
  },
  {
   "cell_type": "code",
   "execution_count": 20,
   "metadata": {},
   "outputs": [
    {
     "name": "stdout",
     "output_type": "stream",
     "text": [
      "alex is the caveat.\n"
     ]
    }
   ],
   "source": [
    "cavDict = {\"lisa\":3, \"thomas\":5, \"andrew\":12}       \n",
    "printWithCaveat(cavDict,thomas=16,alex=4)"
   ]
  },
  {
   "cell_type": "code",
   "execution_count": 24,
   "metadata": {},
   "outputs": [
    {
     "name": "stdout",
     "output_type": "stream",
     "text": [
      "a:22 b:47 c:34\n"
     ]
    }
   ],
   "source": [
    "#Pass a dict as kwargs to a function\n",
    "alphaDict = {\"a\":22,\"b\":47,\"c\":34}\n",
    "\n",
    "def normal_function(a,b,c):\n",
    "    print(\"a:{} b:{} c:{}\".format(a,b,c))\n",
    "\n",
    "normal_function(**alphaDict)"
   ]
  },
  {
   "cell_type": "code",
   "execution_count": 25,
   "metadata": {},
   "outputs": [
    {
     "ename": "TypeError",
     "evalue": "normal_function() got an unexpected keyword argument 'z'",
     "output_type": "error",
     "traceback": [
      "\u001b[1;31m---------------------------------------------------------------------------\u001b[0m",
      "\u001b[1;31mTypeError\u001b[0m                                 Traceback (most recent call last)",
      "Cell \u001b[1;32mIn[25], line 3\u001b[0m\n\u001b[0;32m      1\u001b[0m \u001b[39m# Dict keys must be same as how function was defined\u001b[39;00m\n\u001b[0;32m      2\u001b[0m alphaDict \u001b[39m=\u001b[39m {\u001b[39m\"\u001b[39m\u001b[39ma\u001b[39m\u001b[39m\"\u001b[39m:\u001b[39m22\u001b[39m,\u001b[39m\"\u001b[39m\u001b[39mb\u001b[39m\u001b[39m\"\u001b[39m:\u001b[39m47\u001b[39m,\u001b[39m\"\u001b[39m\u001b[39mz\u001b[39m\u001b[39m\"\u001b[39m:\u001b[39m34\u001b[39m} \u001b[39m# z instead of c will cause error\u001b[39;00m\n\u001b[1;32m----> 3\u001b[0m normal_function(\u001b[39m*\u001b[39;49m\u001b[39m*\u001b[39;49malphaDict)\n",
      "\u001b[1;31mTypeError\u001b[0m: normal_function() got an unexpected keyword argument 'z'"
     ]
    }
   ],
   "source": [
    "# Dict keys must be same as how function was defined\n",
    "alphaDict = {\"a\":22,\"b\":47,\"z\":34} # z instead of c will cause error\n",
    "normal_function(**alphaDict)"
   ]
  },
  {
   "cell_type": "code",
   "execution_count": 26,
   "metadata": {},
   "outputs": [],
   "source": [
    "#Passing *args followed by positional arg\n",
    "def example_func(*args,format):\n",
    "    print(*args,format) "
   ]
  },
  {
   "cell_type": "code",
   "execution_count": 27,
   "metadata": {},
   "outputs": [
    {
     "name": "stdout",
     "output_type": "stream",
     "text": [
      "[1, 2, 3] hello\n"
     ]
    }
   ],
   "source": [
    "example_func([1,2,3],format=\"hello\") # need to run format as a keyword arg else error"
   ]
  },
  {
   "cell_type": "code",
   "execution_count": 28,
   "metadata": {},
   "outputs": [
    {
     "ename": "TypeError",
     "evalue": "example_func() missing 1 required keyword-only argument: 'format'",
     "output_type": "error",
     "traceback": [
      "\u001b[1;31m---------------------------------------------------------------------------\u001b[0m",
      "\u001b[1;31mTypeError\u001b[0m                                 Traceback (most recent call last)",
      "Cell \u001b[1;32mIn[28], line 1\u001b[0m\n\u001b[1;32m----> 1\u001b[0m example_func([\u001b[39m1\u001b[39;49m,\u001b[39m2\u001b[39;49m,\u001b[39m3\u001b[39;49m],\u001b[39m\"\u001b[39;49m\u001b[39mhello\u001b[39;49m\u001b[39m\"\u001b[39;49m) \u001b[39m# error\u001b[39;00m\n",
      "\u001b[1;31mTypeError\u001b[0m: example_func() missing 1 required keyword-only argument: 'format'"
     ]
    }
   ],
   "source": [
    "example_func([1,2,3],\"hello\") # error"
   ]
  },
  {
   "cell_type": "code",
   "execution_count": null,
   "metadata": {},
   "outputs": [],
   "source": []
  }
 ],
 "metadata": {
  "kernelspec": {
   "display_name": "Python 3",
   "language": "python",
   "name": "python3"
  },
  "language_info": {
   "codemirror_mode": {
    "name": "ipython",
    "version": 3
   },
   "file_extension": ".py",
   "mimetype": "text/x-python",
   "name": "python",
   "nbconvert_exporter": "python",
   "pygments_lexer": "ipython3",
   "version": "3.11.4"
  },
  "orig_nbformat": 4
 },
 "nbformat": 4,
 "nbformat_minor": 2
}
