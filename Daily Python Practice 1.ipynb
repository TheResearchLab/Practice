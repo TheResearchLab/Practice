{
 "cells": [
  {
   "cell_type": "code",
   "execution_count": 46,
   "metadata": {},
   "outputs": [],
   "source": [
    "# Permutation Palindrome\n",
    "# Given a string can an input be permutated to return a palindrome\n",
    "\n",
    "# EX. carerac = racecar = true\n",
    "\n",
    "from collections import Counter\n",
    "\n",
    "def is_palindrome(string):\n",
    "    unique_letters = list(Counter(string).keys())\n",
    "    num_odds = 0\n",
    "    for i in unique_letters:\n",
    "        if Counter(string)[i]%2 != 0:\n",
    "            num_odds+=1\n",
    "    return num_odds<=1\n",
    "    \n",
    "            "
   ]
  },
  {
   "cell_type": "code",
   "execution_count": 47,
   "metadata": {},
   "outputs": [
    {
     "data": {
      "text/plain": [
       "True"
      ]
     },
     "execution_count": 47,
     "metadata": {},
     "output_type": "execute_result"
    }
   ],
   "source": [
    "is_palindrome('raceecar')"
   ]
  },
  {
   "cell_type": "code",
   "execution_count": 52,
   "metadata": {},
   "outputs": [],
   "source": [
    "# Is the left of the array equal to the right?\n",
    "\n",
    "arr = [1, 7, 3, 5, 6]\n",
    "\n",
    "def left_right_equal_sum(arr):\n",
    "    i = 1\n",
    "    while i < len(arr):\n",
    "        sum_left = sum(arr[0:i+1])\n",
    "        sum_right = sum(arr[i+1:])\n",
    "        if sum_left == sum_right:\n",
    "            ans = i\n",
    "            break\n",
    "        else:\n",
    "            ans = -1\n",
    "\n",
    "        i+=1\n",
    "    return ans"
   ]
  },
  {
   "cell_type": "code",
   "execution_count": 53,
   "metadata": {},
   "outputs": [
    {
     "data": {
      "text/plain": [
       "2"
      ]
     },
     "execution_count": 53,
     "metadata": {},
     "output_type": "execute_result"
    }
   ],
   "source": [
    "left_right_equal_sum(arr)"
   ]
  },
  {
   "cell_type": "code",
   "execution_count": null,
   "metadata": {},
   "outputs": [],
   "source": []
  }
 ],
 "metadata": {
  "kernelspec": {
   "display_name": "Python 3",
   "language": "python",
   "name": "python3"
  },
  "language_info": {
   "codemirror_mode": {
    "name": "ipython",
    "version": 3
   },
   "file_extension": ".py",
   "mimetype": "text/x-python",
   "name": "python",
   "nbconvert_exporter": "python",
   "pygments_lexer": "ipython3",
   "version": "3.8.5"
  }
 },
 "nbformat": 4,
 "nbformat_minor": 4
}
