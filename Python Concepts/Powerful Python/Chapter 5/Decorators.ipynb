{
 "cells": [
  {
   "cell_type": "markdown",
   "metadata": {},
   "source": [
    "# Section 5.1 Basic Decorators"
   ]
  },
  {
   "cell_type": "code",
   "execution_count": 2,
   "metadata": {},
   "outputs": [
    {
     "name": "stdout",
     "output_type": "stream",
     "text": [
      "Now Calling: addNums\n"
     ]
    },
    {
     "data": {
      "text/plain": [
       "13"
      ]
     },
     "execution_count": 2,
     "metadata": {},
     "output_type": "execute_result"
    }
   ],
   "source": [
    "# Decorator for non-method functions\n",
    "def pythonic_decorator(func):\n",
    "    def wrapper(*args,**kwargs):\n",
    "        print('Now Calling: ' + func.__name__)\n",
    "        return func(*args,**kwargs)\n",
    "    return wrapper\n",
    "\n",
    "@pythonic_decorator\n",
    "def addNums(a,b):\n",
    "    return a+b\n",
    "\n",
    "addNums(7,6)"
   ]
  },
  {
   "cell_type": "code",
   "execution_count": 51,
   "metadata": {},
   "outputs": [
    {
     "name": "stdout",
     "output_type": "stream",
     "text": [
      "250\n",
      "134.5\n"
     ]
    }
   ],
   "source": [
    "class Invoice:\n",
    "    def __init__(self,id_number,price):\n",
    "        self.id_number = id_number\n",
    "        self.price = price\n",
    "        self.owed = price\n",
    "    def record_payment(self,amount):\n",
    "        self.owed -= amount\n",
    "\n",
    "purchase = Invoice(22133,250)\n",
    "print(purchase.owed)\n",
    "purchase.record_payment(115.50)\n",
    "print(purchase.owed)"
   ]
  },
  {
   "cell_type": "code",
   "execution_count": 53,
   "metadata": {},
   "outputs": [
    {
     "name": "stdout",
     "output_type": "stream",
     "text": [
      "250\n",
      "Calling record_payment with id of 2354168028624\n",
      "134.5\n"
     ]
    }
   ],
   "source": [
    "# Decorator for method functions\n",
    "def printEnhancedRecord(func):\n",
    "    def wrapper(self,*args,**kwargs):\n",
    "        print('Calling {} with id of {}'.format(func.__name__,id(self)))\n",
    "        return func(self,*args,**kwargs)\n",
    "    return wrapper\n",
    "\n",
    "class Invoice:\n",
    "    def __init__(self,id_number,price):\n",
    "        self.id_number = id_number\n",
    "        self.price = price\n",
    "        self.owed = price\n",
    "    @printEnhancedRecord\n",
    "    def record_payment(self,amount):\n",
    "        self.owed -= amount\n",
    "\n",
    "    \n",
    "purchase = Invoice(22133,250)\n",
    "print(purchase.owed)\n",
    "purchase.record_payment(115.50)\n",
    "print(purchase.owed)"
   ]
  },
  {
   "cell_type": "code",
   "execution_count": 36,
   "metadata": {},
   "outputs": [
    {
     "name": "stdout",
     "output_type": "stream",
     "text": [
      "   x\n",
      "  xxx\n",
      " xxxxx\n",
      "xxxxxxx\n"
     ]
    }
   ],
   "source": [
    "# Unrelated Python Challenge\n",
    "# Print Christmas Tree\n",
    "print('   *') # 3 spaces + 1xs\n",
    "print('  xxx') # 2 spaces + 3xs\n",
    "print(' xxxxx') # 1 space + 5xs\n",
    "print('xxxxxxx') # 0 space + 7xs"
   ]
  },
  {
   "cell_type": "code",
   "execution_count": 49,
   "metadata": {},
   "outputs": [
    {
     "name": "stdout",
     "output_type": "stream",
     "text": [
      "                   *\n",
      "                  xxx\n",
      "                 xxxxx\n",
      "                xxxxxxx\n",
      "               xxxxxxxxx\n",
      "              xxxxxxxxxxx\n",
      "             xxxxxxxxxxxxx\n",
      "            xxxxxxxxxxxxxxx\n",
      "           xxxxxxxxxxxxxxxxx\n",
      "          xxxxxxxxxxxxxxxxxxx\n",
      "         xxxxxxxxxxxxxxxxxxxxx\n",
      "        xxxxxxxxxxxxxxxxxxxxxxx\n",
      "       xxxxxxxxxxxxxxxxxxxxxxxxx\n",
      "      xxxxxxxxxxxxxxxxxxxxxxxxxxx\n",
      "     xxxxxxxxxxxxxxxxxxxxxxxxxxxxx\n",
      "    xxxxxxxxxxxxxxxxxxxxxxxxxxxxxxx\n",
      "   xxxxxxxxxxxxxxxxxxxxxxxxxxxxxxxxx\n",
      "  xxxxxxxxxxxxxxxxxxxxxxxxxxxxxxxxxxx\n",
      " xxxxxxxxxxxxxxxxxxxxxxxxxxxxxxxxxxxxx\n",
      "xxxxxxxxxxxxxxxxxxxxxxxxxxxxxxxxxxxxxxx\n"
     ]
    }
   ],
   "source": [
    "start = 1\n",
    "rows = 20\n",
    "step = 2\n",
    "goal = rows * step\n",
    "for i in range(start,goal,step):\n",
    "    numSpaces = int((goal-i)/step)\n",
    "    if i ==1:\n",
    "        char = '*'\n",
    "    else:\n",
    "        char = 'x'\n",
    "    print((' '*numSpaces) + (char*i))\n"
   ]
  },
  {
   "cell_type": "code",
   "execution_count": 44,
   "metadata": {},
   "outputs": [
    {
     "data": {
      "text/plain": [
       "11"
      ]
     },
     "execution_count": 44,
     "metadata": {},
     "output_type": "execute_result"
    }
   ],
   "source": []
  },
  {
   "cell_type": "code",
   "execution_count": null,
   "metadata": {},
   "outputs": [],
   "source": []
  }
 ],
 "metadata": {
  "kernelspec": {
   "display_name": "Python 3",
   "language": "python",
   "name": "python3"
  },
  "language_info": {
   "codemirror_mode": {
    "name": "ipython",
    "version": 3
   },
   "file_extension": ".py",
   "mimetype": "text/x-python",
   "name": "python",
   "nbconvert_exporter": "python",
   "pygments_lexer": "ipython3",
   "version": "3.11.4"
  },
  "orig_nbformat": 4
 },
 "nbformat": 4,
 "nbformat_minor": 2
}
