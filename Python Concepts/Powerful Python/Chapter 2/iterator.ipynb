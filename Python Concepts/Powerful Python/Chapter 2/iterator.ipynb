{
 "cells": [
  {
   "cell_type": "code",
   "execution_count": 1,
   "metadata": {},
   "outputs": [
    {
     "data": {
      "text/plain": [
       "<list_iterator at 0x1f8b2aaada0>"
      ]
     },
     "execution_count": 1,
     "metadata": {},
     "output_type": "execute_result"
    }
   ],
   "source": [
    "# Returns an interator\n",
    "numbers = [23,54,2,5,7,14]\n",
    "iter(numbers)"
   ]
  },
  {
   "cell_type": "code",
   "execution_count": 10,
   "metadata": {},
   "outputs": [
    {
     "name": "stdout",
     "output_type": "stream",
     "text": [
      "23\n",
      "54\n",
      "2\n",
      "5\n",
      "7\n",
      "14\n",
      "\n",
      "Sames as\n",
      "\n",
      "23\n",
      "54\n",
      "2\n",
      "5\n",
      "7\n",
      "14\n"
     ]
    }
   ],
   "source": [
    "#Returns the next number\n",
    "num_iter = iter(numbers)\n",
    "for num in num_iter: print(num)\n",
    "\n",
    "print('\\nSames as\\n')\n",
    "\n",
    "#Same as above\n",
    "for num in numbers:\n",
    "    print(num)"
   ]
  },
  {
   "cell_type": "code",
   "execution_count": 13,
   "metadata": {},
   "outputs": [
    {
     "data": {
      "text/plain": [
       "2167661227072"
      ]
     },
     "metadata": {},
     "output_type": "display_data"
    },
    {
     "data": {
      "text/plain": [
       "2167661051664"
      ]
     },
     "execution_count": 13,
     "metadata": {},
     "output_type": "execute_result"
    }
   ],
   "source": [
    "# Numbers collection and the num_iter are two different object. Can validate with Python ID function\n",
    "display(id(numbers))\n",
    "id(num_iter)"
   ]
  },
  {
   "cell_type": "code",
   "execution_count": 18,
   "metadata": {},
   "outputs": [
    {
     "data": {
      "text/plain": [
       "'tooth'"
      ]
     },
     "execution_count": 18,
     "metadata": {},
     "output_type": "execute_result"
    }
   ],
   "source": [
    "words = ['cat','bar','bat']\n",
    "iter_words = iter(words)\n",
    "\n",
    "next(iter_words) #cat\n",
    "next(iter_words) #bar\n",
    "next(iter_words) #bat\n",
    "#next(iter_words) # Throws StopIteration\n",
    "next(iter_words,'tooth') #second argument for default words when iterator is done  \n"
   ]
  },
  {
   "cell_type": "code",
   "execution_count": 30,
   "metadata": {},
   "outputs": [
    {
     "name": "stdout",
     "output_type": "stream",
     "text": [
      "0\n",
      "1\n",
      "2\n",
      "3\n"
     ]
    }
   ],
   "source": [
    "#Generator - good for avoiding creating huge list that are only used once\n",
    "def gen_num():\n",
    "    n=0\n",
    "    while n < 4:\n",
    "        yield n\n",
    "        n+=1\n",
    "\n",
    "for n in gen_num():\n",
    "    print(n)"
   ]
  },
  {
   "cell_type": "code",
   "execution_count": 33,
   "metadata": {},
   "outputs": [
    {
     "data": {
      "text/plain": [
       "generator"
      ]
     },
     "execution_count": 33,
     "metadata": {},
     "output_type": "execute_result"
    }
   ],
   "source": [
    "type(gen_num) #returns a generator function\n",
    "type(gen_num()) #returns a generator object"
   ]
  },
  {
   "cell_type": "code",
   "execution_count": 51,
   "metadata": {},
   "outputs": [],
   "source": [
    "sequence = gen_num()"
   ]
  },
  {
   "cell_type": "code",
   "execution_count": 52,
   "metadata": {},
   "outputs": [
    {
     "data": {
      "text/plain": [
       "0"
      ]
     },
     "metadata": {},
     "output_type": "display_data"
    },
    {
     "data": {
      "text/plain": [
       "1"
      ]
     },
     "metadata": {},
     "output_type": "display_data"
    },
    {
     "data": {
      "text/plain": [
       "2"
      ]
     },
     "metadata": {},
     "output_type": "display_data"
    },
    {
     "data": {
      "text/plain": [
       "3"
      ]
     },
     "metadata": {},
     "output_type": "display_data"
    }
   ],
   "source": [
    "# Not the same as just doing next(gen_num())\n",
    "display(next(sequence))\n",
    "display(next(sequence))\n",
    "display(next(sequence))\n",
    "display(next(sequence))"
   ]
  },
  {
   "cell_type": "code",
   "execution_count": 91,
   "metadata": {},
   "outputs": [],
   "source": [
    "def fib_gen(n):\n",
    "    prev_sum = 1\n",
    "    prev_num = 1\n",
    "    new_sum = prev_sum + prev_num\n",
    "    i=0\n",
    "\n",
    "    while i < n:\n",
    "        yield new_sum\n",
    "        prev_num = prev_sum\n",
    "        prev_sum = new_sum\n",
    "        new_sum = prev_sum + prev_num\n",
    "        i+=1\n",
    "\n",
    "    "
   ]
  },
  {
   "cell_type": "code",
   "execution_count": 94,
   "metadata": {},
   "outputs": [],
   "source": [
    "fib = fib_gen(6)"
   ]
  },
  {
   "cell_type": "code",
   "execution_count": 99,
   "metadata": {},
   "outputs": [
    {
     "name": "stdout",
     "output_type": "stream",
     "text": [
      "2\n",
      "3\n",
      "5\n",
      "8\n",
      "13\n",
      "21\n",
      "34\n",
      "55\n",
      "89\n",
      "144\n",
      "233\n"
     ]
    }
   ],
   "source": [
    "for i in fib_gen(11):\n",
    "    print(i)"
   ]
  },
  {
   "cell_type": "code",
   "execution_count": 105,
   "metadata": {},
   "outputs": [],
   "source": [
    "# Redo function as generator on page 17\n",
    "\n",
    "def fetch_squares_gen(max_root):\n",
    "    for i in range(max_root):\n",
    "        yield i**2\n",
    "\n",
    "sequence = fetch_squares_gen(5)\n",
    "\n",
    "for i in sequence:\n",
    "    print(i)"
   ]
  },
  {
   "cell_type": "code",
   "execution_count": 113,
   "metadata": {},
   "outputs": [
    {
     "data": {
      "text/plain": [
       "range"
      ]
     },
     "execution_count": 113,
     "metadata": {},
     "output_type": "execute_result"
    }
   ],
   "source": [
    "type(range(12)) # Range is a scalable iterator  "
   ]
  },
  {
   "cell_type": "code",
   "execution_count": 118,
   "metadata": {},
   "outputs": [
    {
     "name": "stdout",
     "output_type": "stream",
     "text": [
      "address  2345 lane drive\n"
     ]
    }
   ],
   "source": [
    "# String Key Value Split\n",
    "key, value = str(\"address: 2345 lane drive\").split(\":\", 1)\n",
    "print(key,value)"
   ]
  },
  {
   "cell_type": "code",
   "execution_count": null,
   "metadata": {},
   "outputs": [],
   "source": []
  }
 ],
 "metadata": {
  "kernelspec": {
   "display_name": "Python 3",
   "language": "python",
   "name": "python3"
  },
  "language_info": {
   "codemirror_mode": {
    "name": "ipython",
    "version": 3
   },
   "file_extension": ".py",
   "mimetype": "text/x-python",
   "name": "python",
   "nbconvert_exporter": "python",
   "pygments_lexer": "ipython3",
   "version": "3.11.4"
  },
  "orig_nbformat": 4
 },
 "nbformat": 4,
 "nbformat_minor": 2
}
