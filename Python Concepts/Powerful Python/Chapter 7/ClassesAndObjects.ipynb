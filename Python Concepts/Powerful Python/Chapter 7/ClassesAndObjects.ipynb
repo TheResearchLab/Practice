{
 "cells": [
  {
   "cell_type": "markdown",
   "metadata": {},
   "source": [
    "# Chapter 7.1.0 - Properties"
   ]
  },
  {
   "cell_type": "code",
   "execution_count": 3,
   "metadata": {},
   "outputs": [
    {
     "data": {
      "text/plain": [
       "'John Walter'"
      ]
     },
     "execution_count": 3,
     "metadata": {},
     "output_type": "execute_result"
    }
   ],
   "source": [
    "class Person:\n",
    "    def __init__(self,firstName,lastName):\n",
    "        self.firstName = firstName\n",
    "        self.lastName = lastName\n",
    "\n",
    "    @property # property decorator - this function is only a readable property now\n",
    "    def fullName(self):\n",
    "        return f\"{self.firstName} {self.lastName}\"\n",
    "\n",
    "johnWalter = Person('John','Walter')\n",
    "johnWalter.fullName"
   ]
  },
  {
   "cell_type": "code",
   "execution_count": 6,
   "metadata": {},
   "outputs": [
    {
     "data": {
      "text/plain": [
       "'Kandy Walker'"
      ]
     },
     "execution_count": 6,
     "metadata": {},
     "output_type": "execute_result"
    }
   ],
   "source": [
    "class Person:\n",
    "    def __init__(self,firstName,lastName):\n",
    "        self.firstName = firstName\n",
    "        self.lastName = lastName\n",
    "\n",
    "    @property \n",
    "    def fullName(self):\n",
    "        return f\"{self.firstName} {self.lastName}\"\n",
    "\n",
    "    @fullName.setter\n",
    "    def fullName(self,value):\n",
    "       self.firstName,self.lastName = value.split(' ',1)\n",
    "\n",
    "kandy = Person('Kandy','Woods')\n",
    "kandy.fullName \n",
    "#After marriage\n",
    "kandy.fullName = 'Kandy Walker'\n",
    "kandy.fullName"
   ]
  },
  {
   "cell_type": "code",
   "execution_count": 9,
   "metadata": {},
   "outputs": [
    {
     "data": {
      "text/plain": [
       "1.23"
      ]
     },
     "metadata": {},
     "output_type": "display_data"
    },
    {
     "ename": "AttributeError",
     "evalue": "property 'amount' of 'Amount' object has no setter",
     "output_type": "error",
     "traceback": [
      "\u001b[1;31m---------------------------------------------------------------------------\u001b[0m",
      "\u001b[1;31mAttributeError\u001b[0m                            Traceback (most recent call last)",
      "Cell \u001b[1;32mIn[9], line 11\u001b[0m\n\u001b[0;32m      9\u001b[0m cost \u001b[39m=\u001b[39m Amount(\u001b[39m1.23\u001b[39m)\n\u001b[0;32m     10\u001b[0m display(cost\u001b[39m.\u001b[39mamount)\n\u001b[1;32m---> 11\u001b[0m cost\u001b[39m.\u001b[39;49mamount \u001b[39m=\u001b[39m \u001b[39m1.50\u001b[39m\n",
      "\u001b[1;31mAttributeError\u001b[0m: property 'amount' of 'Amount' object has no setter"
     ]
    }
   ],
   "source": [
    "# back public readable variables by no-readable ones\n",
    "class Amount:\n",
    "    def __init__(self,amount):\n",
    "        self._amount = amount # javascript also add an underscore to \"private properties\"    \n",
    "    @property\n",
    "    def amount(self):\n",
    "        return self._amount \n",
    "\n",
    "cost = Amount(1.23)\n",
    "display(cost.amount)\n",
    "cost.amount = 1.50"
   ]
  },
  {
   "cell_type": "code",
   "execution_count": 12,
   "metadata": {},
   "outputs": [
    {
     "data": {
      "text/plain": [
       "200"
      ]
     },
     "execution_count": 12,
     "metadata": {},
     "output_type": "execute_result"
    }
   ],
   "source": [
    "class Ticket:\n",
    "    def __init__(self,price):\n",
    "        self.price = price     \n",
    "    @property\n",
    "    def price(self):\n",
    "        return self._price\n",
    "    @price.setter\n",
    "    def price(self,value):\n",
    "        if value < 0:\n",
    "            raise ValueError('Not in my house')\n",
    "        self._price = value \n",
    "\n",
    "tygaTickets = Ticket(237)\n",
    "tygaTickets.price = 200\n",
    "tygaTickets.price\n"
   ]
  },
  {
   "cell_type": "code",
   "execution_count": 13,
   "metadata": {},
   "outputs": [
    {
     "ename": "ValueError",
     "evalue": "Not in my house",
     "output_type": "error",
     "traceback": [
      "\u001b[1;31m---------------------------------------------------------------------------\u001b[0m",
      "\u001b[1;31mValueError\u001b[0m                                Traceback (most recent call last)",
      "Cell \u001b[1;32mIn[13], line 1\u001b[0m\n\u001b[1;32m----> 1\u001b[0m tygaTickets\u001b[39m.\u001b[39;49mprice \u001b[39m=\u001b[39m \u001b[39m-\u001b[39m\u001b[39m50\u001b[39m\n",
      "Cell \u001b[1;32mIn[12], line 10\u001b[0m, in \u001b[0;36mTicket.price\u001b[1;34m(self, value)\u001b[0m\n\u001b[0;32m      7\u001b[0m \u001b[39m@price\u001b[39m\u001b[39m.\u001b[39msetter\n\u001b[0;32m      8\u001b[0m \u001b[39mdef\u001b[39;00m \u001b[39mprice\u001b[39m(\u001b[39mself\u001b[39m,value):\n\u001b[0;32m      9\u001b[0m     \u001b[39mif\u001b[39;00m value \u001b[39m<\u001b[39m \u001b[39m0\u001b[39m:\n\u001b[1;32m---> 10\u001b[0m         \u001b[39mraise\u001b[39;00m \u001b[39mValueError\u001b[39;00m(\u001b[39m'\u001b[39m\u001b[39mNot in my house\u001b[39m\u001b[39m'\u001b[39m)\n\u001b[0;32m     11\u001b[0m     \u001b[39mself\u001b[39m\u001b[39m.\u001b[39m_price \u001b[39m=\u001b[39m value\n",
      "\u001b[1;31mValueError\u001b[0m: Not in my house"
     ]
    }
   ],
   "source": [
    "tygaTickets.price = -50"
   ]
  },
  {
   "cell_type": "markdown",
   "metadata": {},
   "source": [
    "# Section 7.1.1 - Properties and Refactoring"
   ]
  },
  {
   "cell_type": "code",
   "execution_count": 1,
   "metadata": {},
   "outputs": [],
   "source": [
    "# Imagine Before\n",
    "# class Money:\n",
    "#     def __init__(self,dollars,cents):\n",
    "#         self.dollars = dollars\n",
    "#         self.cents = cents \n",
    "\n",
    "# And After\n",
    "class Money:\n",
    "    def __init__(self,dollars,cents):\n",
    "        self.total_cents = dollars * 100 + cents "
   ]
  },
  {
   "cell_type": "code",
   "execution_count": 2,
   "metadata": {},
   "outputs": [
    {
     "ename": "AttributeError",
     "evalue": "'Money' object has no attribute 'price'",
     "output_type": "error",
     "traceback": [
      "\u001b[1;31m---------------------------------------------------------------------------\u001b[0m",
      "\u001b[1;31mAttributeError\u001b[0m                            Traceback (most recent call last)",
      "Cell \u001b[1;32mIn[2], line 3\u001b[0m\n\u001b[0;32m      1\u001b[0m \u001b[39m#code written like this during the before will break\u001b[39;00m\n\u001b[0;32m      2\u001b[0m myWallet \u001b[39m=\u001b[39m Money(\u001b[39m500\u001b[39m,\u001b[39m32\u001b[39m)\n\u001b[1;32m----> 3\u001b[0m myWallet\u001b[39m.\u001b[39;49mprice\n",
      "\u001b[1;31mAttributeError\u001b[0m: 'Money' object has no attribute 'price'"
     ]
    }
   ],
   "source": [
    "#code written like this during the before will break\n",
    "myWallet = Money(500,32)\n",
    "myWallet.price"
   ]
  },
  {
   "cell_type": "code",
   "execution_count": 21,
   "metadata": {},
   "outputs": [
    {
     "ename": "SyntaxError",
     "evalue": "unmatched ')' (147155631.py, line 8)",
     "output_type": "error",
     "traceback": [
      "\u001b[1;36m  Cell \u001b[1;32mIn[21], line 8\u001b[1;36m\u001b[0m\n\u001b[1;33m    return self.total_cents / 100)\u001b[0m\n\u001b[1;37m                                 ^\u001b[0m\n\u001b[1;31mSyntaxError\u001b[0m\u001b[1;31m:\u001b[0m unmatched ')'\n"
     ]
    }
   ],
   "source": [
    "# To fix, properties are used\n",
    "class Money:\n",
    "    def __init__(self,dollars,cents):\n",
    "        self.total_cents = dollars * 100 + cents \n",
    "\n",
    "    @property\n",
    "    def dollars(self):\n",
    "        return self.total_cents / 100)\n",
    "    \n",
    "    @dollars.setter\n",
    "    def dollars(self,newDollars):\n",
    "        self.total_cents = 100 * newDollars + self.cents\n",
    "\n",
    "    @property\n",
    "    def cents(self):\n",
    "        return self.total_cents % 100 \n",
    "    \n",
    "    @cents.setter\n",
    "    def dollars(self,newCents):\n",
    "        self.total_cents = newCents + self.dollars * 100\n",
    "\n",
    "myMoney = Money(50,0)\n",
    "\n",
    "    "
   ]
  },
  {
   "cell_type": "code",
   "execution_count": 22,
   "metadata": {},
   "outputs": [
    {
     "data": {
      "text/plain": [
       "50"
      ]
     },
     "metadata": {},
     "output_type": "display_data"
    },
    {
     "data": {
      "text/plain": [
       "50"
      ]
     },
     "metadata": {},
     "output_type": "display_data"
    },
    {
     "data": {
      "text/plain": [
       "50"
      ]
     },
     "metadata": {},
     "output_type": "display_data"
    }
   ],
   "source": [
    "display(myMoney.cents,\n",
    "myMoney.dollars,\n",
    "myMoney.total_cents\n",
    ")"
   ]
  },
  {
   "cell_type": "code",
   "execution_count": 20,
   "metadata": {},
   "outputs": [
    {
     "data": {
      "text/plain": [
       "50"
      ]
     },
     "execution_count": 20,
     "metadata": {},
     "output_type": "execute_result"
    }
   ],
   "source": [
    "myMoney.dollars"
   ]
  },
  {
   "cell_type": "markdown",
   "metadata": {},
   "source": [
    "# Section 7.2 The Factory Patterns"
   ]
  },
  {
   "cell_type": "markdown",
   "metadata": {},
   "source": [
    "### Section 7.2.1 Alternative Constructors: The Simple Factory"
   ]
  },
  {
   "cell_type": "code",
   "execution_count": 32,
   "metadata": {},
   "outputs": [
    {
     "name": "stdout",
     "output_type": "stream",
     "text": [
      "Regular money in dollars is 5 and 25 cents\n",
      "pennies in dollars is 5 and 25 cents\n",
      "quarters in dollars is 5 and 25 cents\n"
     ]
    }
   ],
   "source": [
    "# can use class methods to handle creating the same object in different variations\n",
    "\n",
    "class Money:\n",
    "    def __init__(self,dollars,cents):\n",
    "        self.dollars = dollars\n",
    "        self.cents = cents \n",
    "    @classmethod\n",
    "    def moneyFromPennies(cls,pennies):\n",
    "        dollars = pennies // 100\n",
    "        cents = pennies % 100\n",
    "        return cls(dollars,cents)\n",
    "    @classmethod\n",
    "    def moneyFromQuarters(cls,quarters):\n",
    "        dollars = quarters // 4\n",
    "        cents = quarters % 4 * 25\n",
    "        return cls(dollars,cents)\n",
    "\n",
    "regularMoney = Money(5,25)\n",
    "pennies = Money.moneyFromPennies(525)\n",
    "quarters = Money.moneyFromQuarters(21)\n",
    "print(f\"Regular money in dollars is {regularMoney.dollars} and {regularMoney.cents} cents\")\n",
    "print(f\"pennies in dollars is {pennies.dollars} and {pennies.cents} cents\")\n",
    "print(f\"quarters in dollars is {quarters.dollars} and {quarters.cents} cents\")"
   ]
  },
  {
   "cell_type": "markdown",
   "metadata": {},
   "source": [
    "# Section 7.2.2 Dynamic Type: The Factory Method Pattern"
   ]
  },
  {
   "cell_type": "code",
   "execution_count": 33,
   "metadata": {},
   "outputs": [],
   "source": [
    "import abc \n",
    "class ImageReader(metaclass=abc.ABCMeta):\n",
    "    def __init__(self,path):\n",
    "        self.path = path\n",
    "    @abc.abstractmethod\n",
    "    def read(self):\n",
    "        pass #subclass must implement\n",
    "    def __repr__(self):\n",
    "        return f\"{self.__class__.__name__}({self.path})\"\n",
    "\n",
    "class GIFReader(ImageReader):\n",
    "    def read(self):\n",
    "        \"Read a GIF\"\n",
    "\n",
    "class JPEGReader(ImageReader):\n",
    "    def read(self):\n",
    "        \"Read a JPEG\"\n",
    "\n",
    "class PNGReader(ImageReader):\n",
    "    def read(self):\n",
    "        \"Read a PNG\"\n",
    "\n"
   ]
  },
  {
   "cell_type": "code",
   "execution_count": 36,
   "metadata": {},
   "outputs": [
    {
     "data": {
      "text/plain": [
       "'csv'"
      ]
     },
     "execution_count": 36,
     "metadata": {},
     "output_type": "execute_result"
    }
   ],
   "source": [
    "def extension_of(path):\n",
    "    position_of_last_dot = path.rfind('.')\n",
    "    return path[position_of_last_dot+1:].lower()\n",
    "\n",
    "extension_of('document.csv')"
   ]
  },
  {
   "cell_type": "code",
   "execution_count": 37,
   "metadata": {},
   "outputs": [
    {
     "data": {
      "text/plain": [
       "JPEGReader(BeachPic.jpeg)"
      ]
     },
     "execution_count": 37,
     "metadata": {},
     "output_type": "execute_result"
    }
   ],
   "source": [
    "READERS = {\n",
    "    \"gif\":GIFReader,\n",
    "    \"png\":PNGReader,\n",
    "    \"jpeg\":JPEGReader\n",
    "}\n",
    "\n",
    "def get_image_reader(path):\n",
    "    try:\n",
    "        reader_class = READERS[extension_of(path)]\n",
    "        return reader_class(path)\n",
    "    except KeyError:\n",
    "        raise KeyError('This extension type is not supported')\n",
    "\n",
    "get_image_reader('BeachPic.jpeg')"
   ]
  },
  {
   "cell_type": "code",
   "execution_count": 39,
   "metadata": {},
   "outputs": [
    {
     "data": {
      "text/plain": [
       "RawByteReader(RGBValues.csv)"
      ]
     },
     "execution_count": 39,
     "metadata": {},
     "output_type": "execute_result"
    }
   ],
   "source": [
    "# Can also do a default byte reader\n",
    "\n",
    "class RawByteReader(ImageReader):\n",
    "    def read(self):\n",
    "        \"Default Image Reader\"\n",
    "\n",
    "def get_image_reader(path):\n",
    "    try:\n",
    "        reader_class = READERS[extension_of(path)]\n",
    "        return reader_class(path)\n",
    "    except KeyError:\n",
    "        return RawByteReader(path)\n",
    "\n",
    "get_image_reader('RGBValues.csv')"
   ]
  },
  {
   "cell_type": "markdown",
   "metadata": {},
   "source": [
    "# Section-7.3 The Observer Pattern"
   ]
  },
  {
   "cell_type": "code",
   "execution_count": 41,
   "metadata": {},
   "outputs": [],
   "source": [
    "# Section 7.3.1 The simple observer \n",
    "\n",
    "class Subscriber:\n",
    "    def __init__(self,name):\n",
    "        self.name = name \n",
    "    def update(self,message):\n",
    "        print(f\"{self.name} got message {message}\")"
   ]
  },
  {
   "cell_type": "code",
   "execution_count": 42,
   "metadata": {},
   "outputs": [],
   "source": [
    "class Publisher:\n",
    "    def __init__(self):\n",
    "        self.subscribers = set()\n",
    "    def register(self,who):\n",
    "        self.subscribers.add(who)\n",
    "    def unregister(self,who):\n",
    "        self.subscribers.discard(who)\n",
    "    def dispatch(self,message):\n",
    "        for subscriber in self.subscribers:\n",
    "            subscriber.update(message)"
   ]
  },
  {
   "cell_type": "code",
   "execution_count": 43,
   "metadata": {},
   "outputs": [],
   "source": [
    "pub = Publisher()\n",
    "bob = Subscriber('Bob')\n",
    "anna = Subscriber('Anna')\n",
    "peter = Subscriber('Peter')\n",
    "\n",
    "pub.register(bob)\n",
    "pub.register(anna)\n",
    "pub.register(peter)"
   ]
  },
  {
   "cell_type": "code",
   "execution_count": 45,
   "metadata": {},
   "outputs": [
    {
     "name": "stdout",
     "output_type": "stream",
     "text": [
      "Anna got message it's lunchtime\n",
      "Bob got message it's lunchtime\n",
      "Peter got message it's lunchtime\n"
     ]
    }
   ],
   "source": [
    "pub.dispatch(\"it's lunchtime\")"
   ]
  },
  {
   "cell_type": "code",
   "execution_count": 46,
   "metadata": {},
   "outputs": [],
   "source": [
    "# Section 7.3.2 A Pythonic Refinement\n",
    "\n",
    "class SubscriberOne:\n",
    "    def __init__(self,name):\n",
    "        self.name = name\n",
    "    def update(self, message):\n",
    "        print(f'{self.name} got message \"{message}\" ')\n",
    "\n",
    "\n",
    "class SubscriberTwo:\n",
    "    def __init__(self,name):\n",
    "        self.name = name\n",
    "    def receive(self, message):\n",
    "        print(f'{self.name} got message \"{message}\" ')"
   ]
  },
  {
   "cell_type": "code",
   "execution_count": 54,
   "metadata": {},
   "outputs": [],
   "source": [
    "class Publisher:\n",
    "    def __init__(self):\n",
    "        self.subscribers = dict()\n",
    "    def register(self, who, callback=None):\n",
    "        if callback is None:\n",
    "            callback = who.update\n",
    "        self.subscribers[who] = callback\n",
    "    def dispatch(self, message):\n",
    "        for callback in self.subscribers.values():\n",
    "            callback(message) \n",
    "    def unregister(self, who):\n",
    "        del self.subscribers[who]\n"
   ]
  },
  {
   "cell_type": "code",
   "execution_count": 55,
   "metadata": {},
   "outputs": [],
   "source": [
    "pub = Publisher()\n",
    "jane = SubscriberOne('Jane')\n",
    "ashley = SubscriberTwo('Ashley')\n",
    "joan = SubscriberOne('Joan')\n",
    "\n",
    "pub.register(jane,print) #doesn't have to be object method\n",
    "pub.register(ashley,ashley.receive)\n",
    "pub.register(joan,joan.update)\n"
   ]
  },
  {
   "cell_type": "code",
   "execution_count": 56,
   "metadata": {},
   "outputs": [
    {
     "name": "stdout",
     "output_type": "stream",
     "text": [
      "I'm Hungry\n",
      "Ashley got message \"I'm Hungry\" \n",
      "Joan got message \"I'm Hungry\" \n"
     ]
    }
   ],
   "source": [
    "pub.dispatch(\"I'm Hungry\")"
   ]
  },
  {
   "cell_type": "code",
   "execution_count": 57,
   "metadata": {},
   "outputs": [],
   "source": [
    "# 7.3.3 Several Channels\n",
    "channels = ['lunch','dinner']\n",
    "result = {channel : dict() \n",
    "            for channel in channels }"
   ]
  },
  {
   "cell_type": "code",
   "execution_count": 64,
   "metadata": {},
   "outputs": [],
   "source": [
    "result['lunch']['peter'] = print"
   ]
  },
  {
   "cell_type": "code",
   "execution_count": 66,
   "metadata": {},
   "outputs": [
    {
     "name": "stdout",
     "output_type": "stream",
     "text": [
      "hello world\n"
     ]
    }
   ],
   "source": [
    "#lol\n",
    "result['lunch']['peter']('hello world')"
   ]
  },
  {
   "cell_type": "code",
   "execution_count": 118,
   "metadata": {},
   "outputs": [],
   "source": [
    "class Publisher:\n",
    "    def __init__(self,channels):\n",
    "        self.channels = {channel : dict()\n",
    "            for channel in channels}\n",
    "\n",
    "    def register(self,channel,who,callback=None):\n",
    "        if callback is None:\n",
    "            callback = who.update\n",
    "        self.channels[channel][who] = callback \n",
    "    \n",
    "    def dispatch(self, channel, message):\n",
    "        subscribers = self.channels[channel]\n",
    "        for callback in iter(subscribers.values()):\n",
    "            callback(message)\n",
    "        \n",
    "\n",
    "pub = Publisher(['day','night'])\n",
    "karl = SubscriberOne('karl') \n",
    "carol = SubscriberOne('carol')\n",
    "jason = SubscriberOne('jason')\n",
    "\n",
    "\n",
    "pub.register('day',carol)\n",
    "pub.register('night',karl)\n",
    "pub.register('night',jason)   \n",
    "\n"
   ]
  },
  {
   "cell_type": "code",
   "execution_count": 119,
   "metadata": {},
   "outputs": [
    {
     "name": "stdout",
     "output_type": "stream",
     "text": [
      "karl got message \"time for bed\" \n",
      "jason got message \"time for bed\" \n"
     ]
    }
   ],
   "source": [
    "pub.dispatch('night','time for bed')\n"
   ]
  },
  {
   "cell_type": "markdown",
   "metadata": {},
   "source": [
    "# Section 7.4 Magic Methods"
   ]
  },
  {
   "cell_type": "code",
   "execution_count": 125,
   "metadata": {},
   "outputs": [
    {
     "data": {
      "text/plain": [
       "102"
      ]
     },
     "execution_count": 125,
     "metadata": {},
     "output_type": "execute_result"
    }
   ],
   "source": [
    "class Angle:\n",
    "    def __init__(self, value):\n",
    "        self.value = value%360\n"
   ]
  },
  {
   "cell_type": "code",
   "execution_count": 140,
   "metadata": {},
   "outputs": [
    {
     "name": "stdout",
     "output_type": "stream",
     "text": [
      "270\n"
     ]
    }
   ],
   "source": [
    "#https://www.youtube.com/watch?v=OyGPockrCgA\n",
    "result = -90 % 360\n",
    "print(result)\n"
   ]
  },
  {
   "cell_type": "code",
   "execution_count": 152,
   "metadata": {},
   "outputs": [
    {
     "data": {
      "text/plain": [
       "260"
      ]
     },
     "execution_count": 152,
     "metadata": {},
     "output_type": "execute_result"
    }
   ],
   "source": [
    "# Section 7.4.1 simple math magic\n",
    "class Angle:\n",
    "    def __init__(self, value):\n",
    "        self.value = value%360\n",
    "    def __add__(self,other):\n",
    "        return Angle(self.value + other.value)\n",
    "    def __str__(self):\n",
    "        return f\"{self.value} degrees\"\n",
    "    def __repr__(self):\n",
    "        return f\"{self.value}\"\n",
    "    def __ne__(self,other):\n",
    "        return self.value != other.value\n",
    "    def __gt__(self,other):\n",
    "        return self.value > other.value\n",
    "\n",
    "total = Angle(40) + Angle(-500)\n",
    "total.value"
   ]
  },
  {
   "cell_type": "code",
   "execution_count": 153,
   "metadata": {},
   "outputs": [
    {
     "name": "stdout",
     "output_type": "stream",
     "text": [
      "260 degrees\n"
     ]
    },
    {
     "data": {
      "text/plain": [
       "'260 degrees'"
      ]
     },
     "metadata": {},
     "output_type": "display_data"
    },
    {
     "data": {
      "text/plain": [
       "260"
      ]
     },
     "metadata": {},
     "output_type": "display_data"
    }
   ],
   "source": [
    "print(total)\n",
    "display(str(total), total)"
   ]
  },
  {
   "cell_type": "code",
   "execution_count": 155,
   "metadata": {},
   "outputs": [
    {
     "data": {
      "text/plain": [
       "True"
      ]
     },
     "execution_count": 155,
     "metadata": {},
     "output_type": "execute_result"
    }
   ],
   "source": [
    "# work because dunder gt method\n",
    "total > Angle(17)"
   ]
  },
  {
   "cell_type": "code",
   "execution_count": 157,
   "metadata": {},
   "outputs": [],
   "source": [
    "# Section 7.4.1.1 functools.total_ordering \n",
    "import functools\n",
    "\n",
    "@functools.total_ordering\n",
    "class Angle:\n",
    "    def __init__(self,value):\n",
    "        self.value = value%360\n",
    "    def __eq__(self,other):\n",
    "        return self.value == other.value\n",
    "    def __gt__(self,other):\n",
    "        return self.value > other.value\n",
    "\n"
   ]
  },
  {
   "cell_type": "code",
   "execution_count": 159,
   "metadata": {},
   "outputs": [
    {
     "data": {
      "text/plain": [
       "True"
      ]
     },
     "execution_count": 159,
     "metadata": {},
     "output_type": "execute_result"
    }
   ],
   "source": [
    "Angle(270) < Angle(-89) # did not have to define __lt__"
   ]
  },
  {
   "cell_type": "code",
   "execution_count": null,
   "metadata": {},
   "outputs": [],
   "source": []
  }
 ],
 "metadata": {
  "kernelspec": {
   "display_name": "Python 3",
   "language": "python",
   "name": "python3"
  },
  "language_info": {
   "codemirror_mode": {
    "name": "ipython",
    "version": 3
   },
   "file_extension": ".py",
   "mimetype": "text/x-python",
   "name": "python",
   "nbconvert_exporter": "python",
   "pygments_lexer": "ipython3",
   "version": "3.11.4"
  },
  "orig_nbformat": 4
 },
 "nbformat": 4,
 "nbformat_minor": 2
}
