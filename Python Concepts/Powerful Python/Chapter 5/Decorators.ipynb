{
 "cells": [
  {
   "cell_type": "markdown",
   "metadata": {},
   "source": [
    "# Section 5.1 Basic Decorators"
   ]
  },
  {
   "cell_type": "code",
   "execution_count": 2,
   "metadata": {},
   "outputs": [
    {
     "name": "stdout",
     "output_type": "stream",
     "text": [
      "Now Calling: addNums\n"
     ]
    },
    {
     "data": {
      "text/plain": [
       "13"
      ]
     },
     "execution_count": 2,
     "metadata": {},
     "output_type": "execute_result"
    }
   ],
   "source": [
    "# Decorator for non-method functions\n",
    "def pythonic_decorator(func):\n",
    "    def wrapper(*args,**kwargs):\n",
    "        print('Now Calling: ' + func.__name__)\n",
    "        return func(*args,**kwargs)\n",
    "    return wrapper\n",
    "\n",
    "@pythonic_decorator\n",
    "def addNums(a,b):\n",
    "    return a+b\n",
    "\n",
    "addNums(7,6)"
   ]
  },
  {
   "cell_type": "code",
   "execution_count": 51,
   "metadata": {},
   "outputs": [
    {
     "name": "stdout",
     "output_type": "stream",
     "text": [
      "250\n",
      "134.5\n"
     ]
    }
   ],
   "source": [
    "class Invoice:\n",
    "    def __init__(self,id_number,price):\n",
    "        self.id_number = id_number\n",
    "        self.price = price\n",
    "        self.owed = price\n",
    "    def record_payment(self,amount):\n",
    "        self.owed -= amount\n",
    "\n",
    "purchase = Invoice(22133,250)\n",
    "print(purchase.owed)\n",
    "purchase.record_payment(115.50)\n",
    "print(purchase.owed)"
   ]
  },
  {
   "cell_type": "code",
   "execution_count": 53,
   "metadata": {},
   "outputs": [
    {
     "name": "stdout",
     "output_type": "stream",
     "text": [
      "250\n",
      "Calling record_payment with id of 2354168028624\n",
      "134.5\n"
     ]
    }
   ],
   "source": [
    "# Decorator for method functions\n",
    "def printEnhancedRecord(func):\n",
    "    def wrapper(self,*args,**kwargs):\n",
    "        print('Calling {} with id of {}'.format(func.__name__,id(self)))\n",
    "        return func(self,*args,**kwargs)\n",
    "    return wrapper\n",
    "\n",
    "class Invoice:\n",
    "    def __init__(self,id_number,price):\n",
    "        self.id_number = id_number\n",
    "        self.price = price\n",
    "        self.owed = price\n",
    "    @printEnhancedRecord\n",
    "    def record_payment(self,amount):\n",
    "        self.owed -= amount\n",
    "\n",
    "    \n",
    "purchase = Invoice(22133,250)\n",
    "print(purchase.owed)\n",
    "purchase.record_payment(115.50)\n",
    "print(purchase.owed)"
   ]
  },
  {
   "cell_type": "code",
   "execution_count": 54,
   "metadata": {},
   "outputs": [
    {
     "name": "stdout",
     "output_type": "stream",
     "text": [
      "   *\n",
      "  xxx\n",
      " xxxxx\n",
      "xxxxxxx\n"
     ]
    }
   ],
   "source": [
    "# Unrelated Python Challenge\n",
    "# Print Christmas Tree\n",
    "print('   *') # 3 spaces + 1xs\n",
    "print('  xxx') # 2 spaces + 3xs\n",
    "print(' xxxxx') # 1 space + 5xs\n",
    "print('xxxxxxx') # 0 space + 7xs"
   ]
  },
  {
   "cell_type": "code",
   "execution_count": 49,
   "metadata": {},
   "outputs": [
    {
     "name": "stdout",
     "output_type": "stream",
     "text": [
      "                   *\n",
      "                  xxx\n",
      "                 xxxxx\n",
      "                xxxxxxx\n",
      "               xxxxxxxxx\n",
      "              xxxxxxxxxxx\n",
      "             xxxxxxxxxxxxx\n",
      "            xxxxxxxxxxxxxxx\n",
      "           xxxxxxxxxxxxxxxxx\n",
      "          xxxxxxxxxxxxxxxxxxx\n",
      "         xxxxxxxxxxxxxxxxxxxxx\n",
      "        xxxxxxxxxxxxxxxxxxxxxxx\n",
      "       xxxxxxxxxxxxxxxxxxxxxxxxx\n",
      "      xxxxxxxxxxxxxxxxxxxxxxxxxxx\n",
      "     xxxxxxxxxxxxxxxxxxxxxxxxxxxxx\n",
      "    xxxxxxxxxxxxxxxxxxxxxxxxxxxxxxx\n",
      "   xxxxxxxxxxxxxxxxxxxxxxxxxxxxxxxxx\n",
      "  xxxxxxxxxxxxxxxxxxxxxxxxxxxxxxxxxxx\n",
      " xxxxxxxxxxxxxxxxxxxxxxxxxxxxxxxxxxxxx\n",
      "xxxxxxxxxxxxxxxxxxxxxxxxxxxxxxxxxxxxxxx\n"
     ]
    }
   ],
   "source": [
    "start = 1\n",
    "rows = 20\n",
    "step = 2\n",
    "goal = rows * step\n",
    "for i in range(start,goal,step):\n",
    "    numSpaces = int((goal-i)/step)\n",
    "    if i ==1:\n",
    "        char = '*'\n",
    "    else:\n",
    "        char = 'x'\n",
    "    print((' '*numSpaces) + (char*i))\n"
   ]
  },
  {
   "cell_type": "markdown",
   "metadata": {},
   "source": [
    "# Section 5.2 Data in Decorators"
   ]
  },
  {
   "cell_type": "code",
   "execution_count": 57,
   "metadata": {},
   "outputs": [],
   "source": [
    "def running_averages(func):\n",
    "    data = {\"total\":0,\"count\":0}\n",
    "    def wrapper(*args,**kwargs):\n",
    "        value = func(*args,**kwargs)\n",
    "        data['total'] += value\n",
    "        data['count'] += 1\n",
    "        print('so far the avg of {} is {:.01f}'.format(func.__name__,data['total']/data['count']))\n",
    "        return func(*args,**kwargs)\n",
    "    return wrapper"
   ]
  },
  {
   "cell_type": "code",
   "execution_count": 59,
   "metadata": {},
   "outputs": [
    {
     "name": "stdout",
     "output_type": "stream",
     "text": [
      "so far the avg of foo is 20.0\n",
      "20\n",
      "so far the avg of foo is 47.0\n",
      "74\n",
      "so far the avg of foo is 58.0\n",
      "80\n",
      "so far the avg of foo is 44.4\n",
      "3.7\n"
     ]
    }
   ],
   "source": [
    "@running_averages\n",
    "def foo(x):\n",
    "    return x + 3\n",
    "\n",
    "print(foo(17))\n",
    "print(foo(71))\n",
    "print(foo(77))\n",
    "print(foo(.7))\n"
   ]
  },
  {
   "cell_type": "code",
   "execution_count": 64,
   "metadata": {},
   "outputs": [],
   "source": [
    "def collectstats(func):\n",
    "    data = {\"total\":0,\"count\":0}\n",
    "    def wrapper(*args,**kwargs):\n",
    "        value = func(*args,**kwargs)\n",
    "        data['total'] += value\n",
    "        data['count'] += 1\n",
    "        return value \n",
    "    wrapper.data = data\n",
    "    return wrapper"
   ]
  },
  {
   "cell_type": "code",
   "execution_count": 70,
   "metadata": {},
   "outputs": [
    {
     "name": "stdout",
     "output_type": "stream",
     "text": [
      "{'total': 0, 'count': 0}\n"
     ]
    },
    {
     "data": {
      "text/plain": [
       "{'total': 16, 'count': 1}"
      ]
     },
     "execution_count": 70,
     "metadata": {},
     "output_type": "execute_result"
    }
   ],
   "source": [
    "@collectstats\n",
    "def bar(x):\n",
    "    return x**2\n",
    "\n",
    "print(bar.data)\n",
    "bar(4)\n",
    "bar.data"
   ]
  },
  {
   "cell_type": "code",
   "execution_count": 73,
   "metadata": {},
   "outputs": [],
   "source": [
    "# WRONG WAY\n",
    "def countcalls(func):\n",
    "    count=0\n",
    "    def wrapper(*args,**kwargs):\n",
    "        count+=1 #count = count + 1\n",
    "        print(f\"# of calls {count}\")\n",
    "        return func(*args,*kwargs)\n",
    "    return wrapper \n",
    "\n",
    "@countcalls\n",
    "def foo(x):\n",
    "    return x+4\n",
    "\n"
   ]
  },
  {
   "cell_type": "code",
   "execution_count": 74,
   "metadata": {},
   "outputs": [
    {
     "ename": "UnboundLocalError",
     "evalue": "cannot access local variable 'count' where it is not associated with a value",
     "output_type": "error",
     "traceback": [
      "\u001b[1;31m---------------------------------------------------------------------------\u001b[0m",
      "\u001b[1;31mUnboundLocalError\u001b[0m                         Traceback (most recent call last)",
      "Cell \u001b[1;32mIn[74], line 1\u001b[0m\n\u001b[1;32m----> 1\u001b[0m foo(\u001b[39m4\u001b[39;49m)\n",
      "Cell \u001b[1;32mIn[73], line 4\u001b[0m, in \u001b[0;36mcountcalls.<locals>.wrapper\u001b[1;34m(*args, **kwargs)\u001b[0m\n\u001b[0;32m      3\u001b[0m \u001b[39mdef\u001b[39;00m \u001b[39mwrapper\u001b[39m(\u001b[39m*\u001b[39margs,\u001b[39m*\u001b[39m\u001b[39m*\u001b[39mkwargs):\n\u001b[1;32m----> 4\u001b[0m     count\u001b[39m+\u001b[39m\u001b[39m=\u001b[39m\u001b[39m1\u001b[39m\n\u001b[0;32m      5\u001b[0m     \u001b[39mprint\u001b[39m(\u001b[39mf\u001b[39m\u001b[39m\"\u001b[39m\u001b[39m# of calls \u001b[39m\u001b[39m{\u001b[39;00mcount\u001b[39m}\u001b[39;00m\u001b[39m\"\u001b[39m)\n\u001b[0;32m      6\u001b[0m     \u001b[39mreturn\u001b[39;00m func(\u001b[39m*\u001b[39margs,\u001b[39m*\u001b[39mkwargs)\n",
      "\u001b[1;31mUnboundLocalError\u001b[0m: cannot access local variable 'count' where it is not associated with a value"
     ]
    }
   ],
   "source": [
    "foo(4) #local variable error"
   ]
  },
  {
   "cell_type": "code",
   "execution_count": 75,
   "metadata": {},
   "outputs": [],
   "source": [
    "# RIGHT WAY\n",
    "def countcalls(func):\n",
    "    count=0\n",
    "    def wrapper(*args,**kwargs):\n",
    "        nonlocal count #nonlocal keyword\n",
    "        count+=1\n",
    "        print(f\"# of calls {count}\")\n",
    "        return func(*args,*kwargs)\n",
    "    return wrapper \n",
    "\n",
    "@countcalls\n",
    "def foo(x):\n",
    "    return x+4"
   ]
  },
  {
   "cell_type": "code",
   "execution_count": 76,
   "metadata": {},
   "outputs": [
    {
     "name": "stdout",
     "output_type": "stream",
     "text": [
      "# of calls 1\n",
      "5\n",
      "# of calls 2\n",
      "6\n"
     ]
    }
   ],
   "source": [
    "print(foo(1))\n",
    "print(foo(2))"
   ]
  },
  {
   "cell_type": "markdown",
   "metadata": {},
   "source": [
    "# Section 5.3 Decorators That Take Arguments"
   ]
  },
  {
   "cell_type": "code",
   "execution_count": 77,
   "metadata": {},
   "outputs": [
    {
     "data": {
      "text/plain": [
       "6"
      ]
     },
     "execution_count": 77,
     "metadata": {},
     "output_type": "execute_result"
    }
   ],
   "source": [
    "def add(increment):\n",
    "    def decorator(func):\n",
    "        def wrapper(n):\n",
    "            return func(n) + increment\n",
    "        return wrapper\n",
    "    return decorator\n",
    "\n",
    "@add(5)\n",
    "def foo(n):\n",
    "    return n **2\n",
    "\n",
    "foo(1)"
   ]
  },
  {
   "cell_type": "code",
   "execution_count": 78,
   "metadata": {},
   "outputs": [
    {
     "name": "stdout",
     "output_type": "stream",
     "text": [
      "2354168669472\n",
      "2354168669472\n"
     ]
    }
   ],
   "source": [
    "baz = foo\n",
    "print(id(foo))\n",
    "print(id(baz)) # same ids. They are pointing to the same object"
   ]
  },
  {
   "cell_type": "markdown",
   "metadata": {},
   "source": [
    "# Section 5.4 Class Decorators"
   ]
  },
  {
   "cell_type": "code",
   "execution_count": 79,
   "metadata": {},
   "outputs": [
    {
     "data": {
      "text/plain": [
       "'Simon says: Hello World'"
      ]
     },
     "execution_count": 79,
     "metadata": {},
     "output_type": "execute_result"
    }
   ],
   "source": [
    "#Instantiating functions\n",
    "\n",
    "class Prefixer:\n",
    "    def __init__(self,prefix):\n",
    "        self.prefix = prefix\n",
    "    def __call__(self,message):\n",
    "        return self.prefix + message\n",
    "\n",
    "simonsays = Prefixer('Simon says: ')\n",
    "simonsays('Hello World')"
   ]
  },
  {
   "cell_type": "code",
   "execution_count": 81,
   "metadata": {},
   "outputs": [
    {
     "name": "stdout",
     "output_type": "stream",
     "text": [
      "Calling add with ID of 2354161980368\n"
     ]
    },
    {
     "data": {
      "text/plain": [
       "7"
      ]
     },
     "execution_count": 81,
     "metadata": {},
     "output_type": "execute_result"
    }
   ],
   "source": [
    "class PrintLog:\n",
    "    def __init__(self,func):\n",
    "        self.func = func\n",
    "    def __call__(self,*args,**kwargs):\n",
    "        print('Calling {} with ID of {}'.format(self.func.__name__,id(self)))\n",
    "        return self.func(*args,**kwargs)\n",
    "\n",
    "@PrintLog\n",
    "def add(n):\n",
    "    return n + 2\n",
    "\n",
    "add(5)"
   ]
  },
  {
   "cell_type": "code",
   "execution_count": 86,
   "metadata": {},
   "outputs": [],
   "source": [
    "# Works with inheritance\n",
    "import sys \n",
    "\n",
    "class ResultAnnouncer:\n",
    "    stream = sys.stdout\n",
    "    prefix = 'RESULT'\n",
    "    def __init__(self,func):\n",
    "        self.func = func\n",
    "    def __call__(self,*args,**kwargs):\n",
    "        value = self.func(*args,**kwargs)\n",
    "        self.stream.write(f\"{self.prefix}: {value}\\n\")\n",
    "        return value\n",
    "\n",
    "class StdErrResultAnnouncer(ResultAnnouncer):\n",
    "    stream = sys.stderr\n",
    "    prefix = 'Error'"
   ]
  },
  {
   "cell_type": "code",
   "execution_count": 92,
   "metadata": {},
   "outputs": [
    {
     "name": "stdout",
     "output_type": "stream",
     "text": [
      "RESULT: 11\n"
     ]
    },
    {
     "data": {
      "text/plain": [
       "11"
      ]
     },
     "execution_count": 92,
     "metadata": {},
     "output_type": "execute_result"
    }
   ],
   "source": [
    "@ResultAnnouncer\n",
    "def do_things(x):\n",
    "    return x + 5\n",
    "\n",
    "@StdErrResultAnnouncer\n",
    "def do_stuff(x):\n",
    "    return x + 5\n",
    "\n",
    "do_things(6)"
   ]
  },
  {
   "cell_type": "code",
   "execution_count": 93,
   "metadata": {},
   "outputs": [
    {
     "name": "stderr",
     "output_type": "stream",
     "text": [
      "Error: 11\n"
     ]
    },
    {
     "data": {
      "text/plain": [
       "11"
      ]
     },
     "execution_count": 93,
     "metadata": {},
     "output_type": "execute_result"
    }
   ],
   "source": [
    "do_stuff(6)"
   ]
  },
  {
   "cell_type": "code",
   "execution_count": 101,
   "metadata": {},
   "outputs": [
    {
     "name": "stdout",
     "output_type": "stream",
     "text": [
      "# of calls: 0\n",
      "# of calls: 1\n",
      "# of calls: 2\n"
     ]
    },
    {
     "data": {
      "text/plain": [
       "16"
      ]
     },
     "metadata": {},
     "output_type": "display_data"
    },
    {
     "data": {
      "text/plain": [
       "32"
      ]
     },
     "metadata": {},
     "output_type": "display_data"
    },
    {
     "data": {
      "text/plain": [
       "-64"
      ]
     },
     "metadata": {},
     "output_type": "display_data"
    },
    {
     "data": {
      "text/plain": [
       "3"
      ]
     },
     "metadata": {},
     "output_type": "display_data"
    }
   ],
   "source": [
    "# Also works with data\n",
    "class CountCalls:\n",
    "    def __init__(self,func):\n",
    "        self.count = 0\n",
    "        self.func = func\n",
    "    def __call__(self,*args,**kwargs):\n",
    "        print(f\"# of calls: {self.count}\")\n",
    "        self.count += 1\n",
    "        return self.func(*args,**kwargs)\n",
    "\n",
    "@CountCalls\n",
    "def double(x):\n",
    "    return x * 2\n",
    "\n",
    "display(\n",
    "    double(8),\n",
    "    double(16),\n",
    "    double(-32),\n",
    "    double.count\n",
    ")"
   ]
  },
  {
   "cell_type": "code",
   "execution_count": 105,
   "metadata": {},
   "outputs": [
    {
     "data": {
      "text/plain": [
       "11"
      ]
     },
     "execution_count": 105,
     "metadata": {},
     "output_type": "execute_result"
    }
   ],
   "source": [
    "# Class based decorator that take arguments\n",
    "class Add:\n",
    "    def __init__(self,increment): # doesn't take function but parameter this time\n",
    "        self.increment = increment \n",
    "    def __call__(self,func):\n",
    "        def wrapper(n): # this is the parameter to the function\n",
    "            value = func(n) + self.increment\n",
    "            return value\n",
    "        return wrapper\n",
    "\n",
    "@Add(5)\n",
    "def double(x):\n",
    "    return 2*x\n",
    "\n",
    "double(3)"
   ]
  },
  {
   "cell_type": "code",
   "execution_count": null,
   "metadata": {},
   "outputs": [],
   "source": []
  }
 ],
 "metadata": {
  "kernelspec": {
   "display_name": "Python 3",
   "language": "python",
   "name": "python3"
  },
  "language_info": {
   "codemirror_mode": {
    "name": "ipython",
    "version": 3
   },
   "file_extension": ".py",
   "mimetype": "text/x-python",
   "name": "python",
   "nbconvert_exporter": "python",
   "pygments_lexer": "ipython3",
   "version": "3.11.4"
  },
  "orig_nbformat": 4
 },
 "nbformat": 4,
 "nbformat_minor": 2
}
