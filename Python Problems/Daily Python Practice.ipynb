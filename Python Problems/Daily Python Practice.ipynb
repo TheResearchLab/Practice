{
 "cells": [
  {
   "cell_type": "code",
   "execution_count": 46,
   "metadata": {},
   "outputs": [],
   "source": [
    "# Permutation Palindrome\n",
    "# Given a string can an input be permutated to return a palindrome\n",
    "\n",
    "# EX. carerac = racecar = true\n",
    "\n",
    "from collections import Counter\n",
    "\n",
    "def is_palindrome(string):\n",
    "    unique_letters = list(Counter(string).keys())\n",
    "    num_odds = 0\n",
    "    for i in unique_letters:\n",
    "        if Counter(string)[i]%2 != 0:\n",
    "            num_odds+=1\n",
    "    return num_odds<=1\n",
    "    \n",
    "            "
   ]
  },
  {
   "cell_type": "code",
   "execution_count": 47,
   "metadata": {},
   "outputs": [
    {
     "data": {
      "text/plain": [
       "True"
      ]
     },
     "execution_count": 47,
     "metadata": {},
     "output_type": "execute_result"
    }
   ],
   "source": [
    "is_palindrome('raceecar')"
   ]
  },
  {
   "cell_type": "code",
   "execution_count": 52,
   "metadata": {},
   "outputs": [],
   "source": [
    "# Is the left of the array equal to the right?\n",
    "\n",
    "arr = [1, 7, 3, 5, 6]\n",
    "\n",
    "def left_right_equal_sum(arr):\n",
    "    i = 1\n",
    "    while i < len(arr):\n",
    "        sum_left = sum(arr[0:i+1])\n",
    "        sum_right = sum(arr[i+1:])\n",
    "        if sum_left == sum_right:\n",
    "            ans = i\n",
    "            break\n",
    "        else:\n",
    "            ans = -1\n",
    "\n",
    "        i+=1\n",
    "    return ans"
   ]
  },
  {
   "cell_type": "code",
   "execution_count": 53,
   "metadata": {},
   "outputs": [
    {
     "data": {
      "text/plain": [
       "2"
      ]
     },
     "execution_count": 53,
     "metadata": {},
     "output_type": "execute_result"
    }
   ],
   "source": [
    "left_right_equal_sum(arr)"
   ]
  },
  {
   "cell_type": "code",
   "execution_count": 1,
   "metadata": {},
   "outputs": [],
   "source": [
    "# Merge sorted lists\n",
    "\n",
    "list1 = [1,2,3,3,4,55]\n",
    "list2 = [7,8,9,10,100]\n",
    "\n",
    "def merge_sorted_list(list1,list2):\n",
    "    return list1 + list2"
   ]
  },
  {
   "cell_type": "code",
   "execution_count": 2,
   "metadata": {},
   "outputs": [
    {
     "data": {
      "text/plain": [
       "[1, 2, 3, 3, 4, 55, 7, 8, 9, 10, 100]"
      ]
     },
     "execution_count": 2,
     "metadata": {},
     "output_type": "execute_result"
    }
   ],
   "source": [
    "merge_sorted_list(list1,list2)"
   ]
  },
  {
   "attachments": {},
   "cell_type": "markdown",
   "metadata": {},
   "source": [
    "Given a sorted list of positive integers with some entries being None, write a function to return a new list where all None values are replaced with the most recent non-None value in the list.\n",
    "\n",
    "Note: If the first entry in the list is None, assume the previous entry was 0."
   ]
  },
  {
   "cell_type": "code",
   "execution_count": 3,
   "metadata": {},
   "outputs": [],
   "source": [
    "def fill_none(input_list):\n",
    "    for i in range(0,len(input_list)):\n",
    "        if input_list[i] == None and i != 0:\n",
    "            input_list[i] = input_list[i-1]\n",
    "        elif input_list[i] == None and i == 0:\n",
    "            input_list[i] = 0\n",
    "    return input_list"
   ]
  },
  {
   "cell_type": "code",
   "execution_count": 4,
   "metadata": {},
   "outputs": [
    {
     "data": {
      "text/plain": [
       "[1, 1, 2, 3, 4]"
      ]
     },
     "metadata": {},
     "output_type": "display_data"
    },
    {
     "data": {
      "text/plain": [
       "[0, 5, 6, 7, 8, 8]"
      ]
     },
     "metadata": {},
     "output_type": "display_data"
    }
   ],
   "source": [
    "list1 = [1,None,2,3,4]\n",
    "list2 = [None,5,6,7,8,None]\n",
    "\n",
    "display(fill_none(list1))\n",
    "display(fill_none(list2))"
   ]
  },
  {
   "attachments": {},
   "cell_type": "markdown",
   "metadata": {},
   "source": [
    "You’re given numlists, a list where each element is a list of at least five numbers.\n",
    "\n",
    "Write a function list_fifths that returns a list of the fifth-largest number from each element in numlists. Return the list in ascending order."
   ]
  },
  {
   "cell_type": "code",
   "execution_count": 5,
   "metadata": {},
   "outputs": [],
   "source": [
    "def list_fifths(numlists):\n",
    "    return sorted([sorted(numlists[i])[-5] for i in range(0,len(numlists))])"
   ]
  },
  {
   "cell_type": "code",
   "execution_count": 6,
   "metadata": {},
   "outputs": [
    {
     "data": {
      "text/plain": [
       "[1, 1, 3, 55.2]"
      ]
     },
     "execution_count": 6,
     "metadata": {},
     "output_type": "execute_result"
    }
   ],
   "source": [
    "numlists = [ [1,2,3,4,5], [3,1,2,5,4], [1,2,3,4,5,6,7], \n",
    "[99, 320, 400, 100.25, 55.2, 0.1] ]\n",
    "\n",
    "list_fifths(numlists)"
   ]
  },
  {
   "cell_type": "markdown",
   "metadata": {},
   "source": [
    "## 11/16/2023"
   ]
  },
  {
   "cell_type": "markdown",
   "metadata": {},
   "source": [
    "You’re given two dataframes. One contains information about addresses and the other contains relationships between various cities and states: \n",
    "Write a function complete_address to create a single dataframe with complete addresses in the format of street, city, state, zip code.\n",
    "\n"
   ]
  },
  {
   "cell_type": "code",
   "execution_count": 1,
   "metadata": {},
   "outputs": [],
   "source": [
    "import pandas as pd\n",
    "\n",
    "addresses = {\"address\": [\"4860 Sunset Boulevard, San Francisco, 94105\", \"3055 Paradise Lane, Salt Lake City, 84103\", \"682 Main Street, Detroit, 48204\", \"9001 Cascade Road, Kansas City, 64102\", \"5853 Leon Street, Tampa, 33605\"]}\n",
    "\n",
    "cities = {\"city\": [\"Salt Lake City\", \"Kansas City\", \"Detroit\", \"Tampa\", \"San Francisco\"], \"state\": [\"Utah\", \"Missouri\", \"Michigan\", \"Florida\", \"California\"]}\n",
    "\n",
    "df_addresses = pd.DataFrame(addresses)\n",
    "df_cities = pd.DataFrame(cities)"
   ]
  },
  {
   "cell_type": "code",
   "execution_count": 2,
   "metadata": {},
   "outputs": [],
   "source": [
    "# format the columns so they will join \n",
    "df_addresses['city'] = df_addresses['address'].str.split(',').str[1].str.lower().str.strip().str.title()\n",
    "df_cities['city'] = df_cities['city'].str.lower().str.strip().str.title()"
   ]
  },
  {
   "cell_type": "code",
   "execution_count": 3,
   "metadata": {},
   "outputs": [
    {
     "data": {
      "text/html": [
       "<div>\n",
       "<style scoped>\n",
       "    .dataframe tbody tr th:only-of-type {\n",
       "        vertical-align: middle;\n",
       "    }\n",
       "\n",
       "    .dataframe tbody tr th {\n",
       "        vertical-align: top;\n",
       "    }\n",
       "\n",
       "    .dataframe thead th {\n",
       "        text-align: right;\n",
       "    }\n",
       "</style>\n",
       "<table border=\"1\" class=\"dataframe\">\n",
       "  <thead>\n",
       "    <tr style=\"text-align: right;\">\n",
       "      <th></th>\n",
       "      <th>address</th>\n",
       "    </tr>\n",
       "  </thead>\n",
       "  <tbody>\n",
       "    <tr>\n",
       "      <th>0</th>\n",
       "      <td>4860 Sunset Boulevard, San Francisco, Californ...</td>\n",
       "    </tr>\n",
       "    <tr>\n",
       "      <th>1</th>\n",
       "      <td>3055 Paradise Lane, Salt Lake City, Utah, 84103</td>\n",
       "    </tr>\n",
       "    <tr>\n",
       "      <th>2</th>\n",
       "      <td>682 Main Street, Detroit, Michigan, 48204</td>\n",
       "    </tr>\n",
       "    <tr>\n",
       "      <th>3</th>\n",
       "      <td>9001 Cascade Road, Kansas City, Missouri, 64102</td>\n",
       "    </tr>\n",
       "    <tr>\n",
       "      <th>4</th>\n",
       "      <td>5853 Leon Street, Tampa, Florida, 33605</td>\n",
       "    </tr>\n",
       "  </tbody>\n",
       "</table>\n",
       "</div>"
      ],
      "text/plain": [
       "                                             address\n",
       "0  4860 Sunset Boulevard, San Francisco, Californ...\n",
       "1    3055 Paradise Lane, Salt Lake City, Utah, 84103\n",
       "2          682 Main Street, Detroit, Michigan, 48204\n",
       "3    9001 Cascade Road, Kansas City, Missouri, 64102\n",
       "4            5853 Leon Street, Tampa, Florida, 33605"
      ]
     },
     "execution_count": 3,
     "metadata": {},
     "output_type": "execute_result"
    }
   ],
   "source": [
    "#convert to a single column\n",
    "df = pd.merge(df_addresses,df_cities, left_on=['city'], right_on=['city'])\n",
    "df = pd.DataFrame(df['address'].str.split(',',expand=True).iloc[:,0] + ',' + df['address'].str.split(',',expand=True).iloc[:,1] + ', ' + df['state'] + ',' + df['address'].str.split(',',expand=True).iloc[:,2],columns=['address'])\n",
    "df"
   ]
  },
  {
   "cell_type": "markdown",
   "metadata": {},
   "source": [
    "You are given a dataframe df_cheeses containing a list of the price of various cheeses from California The dataframe has missing values in the price column.\n",
    "Write a function cheese_median to impute the median price of the selected California cheeses in place of the missing values. You may assume at least one cheese is not missing its price."
   ]
  },
  {
   "cell_type": "code",
   "execution_count": 7,
   "metadata": {},
   "outputs": [],
   "source": [
    "import pandas as pd\n",
    "\n",
    "cheeses = {\"Name\": [\n",
    "\"Bohemian Goat\", \n",
    "\"Central Coast Bleu\", \n",
    "\"Cowgirl Mozzarella\", \n",
    "\"Cypress Grove Cheddar\", \n",
    "\"Oakdale Colby\"], \n",
    "\"Price\" : [15.00, None, 30.00, None, 45.00]}"
   ]
  },
  {
   "cell_type": "code",
   "execution_count": 9,
   "metadata": {},
   "outputs": [
    {
     "data": {
      "text/html": [
       "<div>\n",
       "<style scoped>\n",
       "    .dataframe tbody tr th:only-of-type {\n",
       "        vertical-align: middle;\n",
       "    }\n",
       "\n",
       "    .dataframe tbody tr th {\n",
       "        vertical-align: top;\n",
       "    }\n",
       "\n",
       "    .dataframe thead th {\n",
       "        text-align: right;\n",
       "    }\n",
       "</style>\n",
       "<table border=\"1\" class=\"dataframe\">\n",
       "  <thead>\n",
       "    <tr style=\"text-align: right;\">\n",
       "      <th></th>\n",
       "      <th>Name</th>\n",
       "      <th>Price</th>\n",
       "    </tr>\n",
       "  </thead>\n",
       "  <tbody>\n",
       "    <tr>\n",
       "      <th>0</th>\n",
       "      <td>Bohemian Goat</td>\n",
       "      <td>15.0</td>\n",
       "    </tr>\n",
       "    <tr>\n",
       "      <th>1</th>\n",
       "      <td>Central Coast Bleu</td>\n",
       "      <td>30.0</td>\n",
       "    </tr>\n",
       "    <tr>\n",
       "      <th>2</th>\n",
       "      <td>Cowgirl Mozzarella</td>\n",
       "      <td>30.0</td>\n",
       "    </tr>\n",
       "    <tr>\n",
       "      <th>3</th>\n",
       "      <td>Cypress Grove Cheddar</td>\n",
       "      <td>30.0</td>\n",
       "    </tr>\n",
       "    <tr>\n",
       "      <th>4</th>\n",
       "      <td>Oakdale Colby</td>\n",
       "      <td>45.0</td>\n",
       "    </tr>\n",
       "  </tbody>\n",
       "</table>\n",
       "</div>"
      ],
      "text/plain": [
       "                    Name  Price\n",
       "0          Bohemian Goat   15.0\n",
       "1     Central Coast Bleu   30.0\n",
       "2     Cowgirl Mozzarella   30.0\n",
       "3  Cypress Grove Cheddar   30.0\n",
       "4          Oakdale Colby   45.0"
      ]
     },
     "execution_count": 9,
     "metadata": {},
     "output_type": "execute_result"
    }
   ],
   "source": [
    "def cheese_median(dict):\n",
    "    df = pd.DataFrame(dict)\n",
    "    return df.fillna(df['Price'].median())\n",
    "\n",
    "cheese_median(cheeses)"
   ]
  },
  {
   "cell_type": "code",
   "execution_count": null,
   "metadata": {},
   "outputs": [],
   "source": []
  }
 ],
 "metadata": {
  "kernelspec": {
   "display_name": "Python 3",
   "language": "python",
   "name": "python3"
  },
  "language_info": {
   "codemirror_mode": {
    "name": "ipython",
    "version": 3
   },
   "file_extension": ".py",
   "mimetype": "text/x-python",
   "name": "python",
   "nbconvert_exporter": "python",
   "pygments_lexer": "ipython3",
   "version": "3.11.5"
  }
 },
 "nbformat": 4,
 "nbformat_minor": 4
}
