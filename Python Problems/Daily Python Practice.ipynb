{
 "cells": [
  {
   "cell_type": "code",
   "execution_count": 46,
   "metadata": {},
   "outputs": [],
   "source": [
    "# Permutation Palindrome\n",
    "# Given a string can an input be permutated to return a palindrome\n",
    "\n",
    "# EX. carerac = racecar = true\n",
    "\n",
    "from collections import Counter\n",
    "\n",
    "def is_palindrome(string):\n",
    "    unique_letters = list(Counter(string).keys())\n",
    "    num_odds = 0\n",
    "    for i in unique_letters:\n",
    "        if Counter(string)[i]%2 != 0:\n",
    "            num_odds+=1\n",
    "    return num_odds<=1\n",
    "    \n",
    "            "
   ]
  },
  {
   "cell_type": "code",
   "execution_count": 47,
   "metadata": {},
   "outputs": [
    {
     "data": {
      "text/plain": [
       "True"
      ]
     },
     "execution_count": 47,
     "metadata": {},
     "output_type": "execute_result"
    }
   ],
   "source": [
    "is_palindrome('raceecar')"
   ]
  },
  {
   "cell_type": "code",
   "execution_count": 52,
   "metadata": {},
   "outputs": [],
   "source": [
    "# Is the left of the array equal to the right?\n",
    "\n",
    "arr = [1, 7, 3, 5, 6]\n",
    "\n",
    "def left_right_equal_sum(arr):\n",
    "    i = 1\n",
    "    while i < len(arr):\n",
    "        sum_left = sum(arr[0:i+1])\n",
    "        sum_right = sum(arr[i+1:])\n",
    "        if sum_left == sum_right:\n",
    "            ans = i\n",
    "            break\n",
    "        else:\n",
    "            ans = -1\n",
    "\n",
    "        i+=1\n",
    "    return ans"
   ]
  },
  {
   "cell_type": "code",
   "execution_count": 53,
   "metadata": {},
   "outputs": [
    {
     "data": {
      "text/plain": [
       "2"
      ]
     },
     "execution_count": 53,
     "metadata": {},
     "output_type": "execute_result"
    }
   ],
   "source": [
    "left_right_equal_sum(arr)"
   ]
  },
  {
   "cell_type": "code",
   "execution_count": 1,
   "metadata": {},
   "outputs": [],
   "source": [
    "# Merge sorted lists\n",
    "\n",
    "list1 = [1,2,3,3,4,55]\n",
    "list2 = [7,8,9,10,100]\n",
    "\n",
    "def merge_sorted_list(list1,list2):\n",
    "    return list1 + list2"
   ]
  },
  {
   "cell_type": "code",
   "execution_count": 2,
   "metadata": {},
   "outputs": [
    {
     "data": {
      "text/plain": [
       "[1, 2, 3, 3, 4, 55, 7, 8, 9, 10, 100]"
      ]
     },
     "execution_count": 2,
     "metadata": {},
     "output_type": "execute_result"
    }
   ],
   "source": [
    "merge_sorted_list(list1,list2)"
   ]
  },
  {
   "attachments": {},
   "cell_type": "markdown",
   "metadata": {},
   "source": [
    "Given a sorted list of positive integers with some entries being None, write a function to return a new list where all None values are replaced with the most recent non-None value in the list.\n",
    "\n",
    "Note: If the first entry in the list is None, assume the previous entry was 0."
   ]
  },
  {
   "cell_type": "code",
   "execution_count": 3,
   "metadata": {},
   "outputs": [],
   "source": [
    "def fill_none(input_list):\n",
    "    for i in range(0,len(input_list)):\n",
    "        if input_list[i] == None and i != 0:\n",
    "            input_list[i] = input_list[i-1]\n",
    "        elif input_list[i] == None and i == 0:\n",
    "            input_list[i] = 0\n",
    "    return input_list"
   ]
  },
  {
   "cell_type": "code",
   "execution_count": 4,
   "metadata": {},
   "outputs": [
    {
     "data": {
      "text/plain": [
       "[1, 1, 2, 3, 4]"
      ]
     },
     "metadata": {},
     "output_type": "display_data"
    },
    {
     "data": {
      "text/plain": [
       "[0, 5, 6, 7, 8, 8]"
      ]
     },
     "metadata": {},
     "output_type": "display_data"
    }
   ],
   "source": [
    "list1 = [1,None,2,3,4]\n",
    "list2 = [None,5,6,7,8,None]\n",
    "\n",
    "display(fill_none(list1))\n",
    "display(fill_none(list2))"
   ]
  },
  {
   "attachments": {},
   "cell_type": "markdown",
   "metadata": {},
   "source": [
    "You’re given numlists, a list where each element is a list of at least five numbers.\n",
    "\n",
    "Write a function list_fifths that returns a list of the fifth-largest number from each element in numlists. Return the list in ascending order."
   ]
  },
  {
   "cell_type": "code",
   "execution_count": 5,
   "metadata": {},
   "outputs": [],
   "source": [
    "def list_fifths(numlists):\n",
    "    return sorted([sorted(numlists[i])[-5] for i in range(0,len(numlists))])"
   ]
  },
  {
   "cell_type": "code",
   "execution_count": 6,
   "metadata": {},
   "outputs": [
    {
     "data": {
      "text/plain": [
       "[1, 1, 3, 55.2]"
      ]
     },
     "execution_count": 6,
     "metadata": {},
     "output_type": "execute_result"
    }
   ],
   "source": [
    "numlists = [ [1,2,3,4,5], [3,1,2,5,4], [1,2,3,4,5,6,7], \n",
    "[99, 320, 400, 100.25, 55.2, 0.1] ]\n",
    "\n",
    "list_fifths(numlists)"
   ]
  },
  {
   "cell_type": "markdown",
   "metadata": {},
   "source": [
    "## 11/16/2023"
   ]
  },
  {
   "cell_type": "markdown",
   "metadata": {},
   "source": [
    "You’re given two dataframes. One contains information about addresses and the other contains relationships between various cities and states: \n",
    "Write a function complete_address to create a single dataframe with complete addresses in the format of street, city, state, zip code.\n",
    "\n"
   ]
  },
  {
   "cell_type": "code",
   "execution_count": 1,
   "metadata": {},
   "outputs": [],
   "source": [
    "import pandas as pd\n",
    "\n",
    "addresses = {\"address\": [\"4860 Sunset Boulevard, San Francisco, 94105\", \"3055 Paradise Lane, Salt Lake City, 84103\", \"682 Main Street, Detroit, 48204\", \"9001 Cascade Road, Kansas City, 64102\", \"5853 Leon Street, Tampa, 33605\"]}\n",
    "\n",
    "cities = {\"city\": [\"Salt Lake City\", \"Kansas City\", \"Detroit\", \"Tampa\", \"San Francisco\"], \"state\": [\"Utah\", \"Missouri\", \"Michigan\", \"Florida\", \"California\"]}\n",
    "\n",
    "df_addresses = pd.DataFrame(addresses)\n",
    "df_cities = pd.DataFrame(cities)"
   ]
  },
  {
   "cell_type": "code",
   "execution_count": 2,
   "metadata": {},
   "outputs": [],
   "source": [
    "# format the columns so they will join \n",
    "df_addresses['city'] = df_addresses['address'].str.split(',').str[1].str.lower().str.strip().str.title()\n",
    "df_cities['city'] = df_cities['city'].str.lower().str.strip().str.title()"
   ]
  },
  {
   "cell_type": "code",
   "execution_count": 3,
   "metadata": {},
   "outputs": [
    {
     "data": {
      "text/html": [
       "<div>\n",
       "<style scoped>\n",
       "    .dataframe tbody tr th:only-of-type {\n",
       "        vertical-align: middle;\n",
       "    }\n",
       "\n",
       "    .dataframe tbody tr th {\n",
       "        vertical-align: top;\n",
       "    }\n",
       "\n",
       "    .dataframe thead th {\n",
       "        text-align: right;\n",
       "    }\n",
       "</style>\n",
       "<table border=\"1\" class=\"dataframe\">\n",
       "  <thead>\n",
       "    <tr style=\"text-align: right;\">\n",
       "      <th></th>\n",
       "      <th>address</th>\n",
       "    </tr>\n",
       "  </thead>\n",
       "  <tbody>\n",
       "    <tr>\n",
       "      <th>0</th>\n",
       "      <td>4860 Sunset Boulevard, San Francisco, Californ...</td>\n",
       "    </tr>\n",
       "    <tr>\n",
       "      <th>1</th>\n",
       "      <td>3055 Paradise Lane, Salt Lake City, Utah, 84103</td>\n",
       "    </tr>\n",
       "    <tr>\n",
       "      <th>2</th>\n",
       "      <td>682 Main Street, Detroit, Michigan, 48204</td>\n",
       "    </tr>\n",
       "    <tr>\n",
       "      <th>3</th>\n",
       "      <td>9001 Cascade Road, Kansas City, Missouri, 64102</td>\n",
       "    </tr>\n",
       "    <tr>\n",
       "      <th>4</th>\n",
       "      <td>5853 Leon Street, Tampa, Florida, 33605</td>\n",
       "    </tr>\n",
       "  </tbody>\n",
       "</table>\n",
       "</div>"
      ],
      "text/plain": [
       "                                             address\n",
       "0  4860 Sunset Boulevard, San Francisco, Californ...\n",
       "1    3055 Paradise Lane, Salt Lake City, Utah, 84103\n",
       "2          682 Main Street, Detroit, Michigan, 48204\n",
       "3    9001 Cascade Road, Kansas City, Missouri, 64102\n",
       "4            5853 Leon Street, Tampa, Florida, 33605"
      ]
     },
     "execution_count": 3,
     "metadata": {},
     "output_type": "execute_result"
    }
   ],
   "source": [
    "#convert to a single column\n",
    "df = pd.merge(df_addresses,df_cities, left_on=['city'], right_on=['city'])\n",
    "df = pd.DataFrame(df['address'].str.split(',',expand=True).iloc[:,0] + ',' + df['address'].str.split(',',expand=True).iloc[:,1] + ', ' + df['state'] + ',' + df['address'].str.split(',',expand=True).iloc[:,2],columns=['address'])\n",
    "df"
   ]
  },
  {
   "cell_type": "markdown",
   "metadata": {},
   "source": [
    "You are given a dataframe df_cheeses containing a list of the price of various cheeses from California The dataframe has missing values in the price column.\n",
    "Write a function cheese_median to impute the median price of the selected California cheeses in place of the missing values. You may assume at least one cheese is not missing its price."
   ]
  },
  {
   "cell_type": "code",
   "execution_count": 7,
   "metadata": {},
   "outputs": [],
   "source": [
    "import pandas as pd\n",
    "\n",
    "cheeses = {\"Name\": [\n",
    "\"Bohemian Goat\", \n",
    "\"Central Coast Bleu\", \n",
    "\"Cowgirl Mozzarella\", \n",
    "\"Cypress Grove Cheddar\", \n",
    "\"Oakdale Colby\"], \n",
    "\"Price\" : [15.00, None, 30.00, None, 45.00]}"
   ]
  },
  {
   "cell_type": "code",
   "execution_count": 9,
   "metadata": {},
   "outputs": [
    {
     "data": {
      "text/html": [
       "<div>\n",
       "<style scoped>\n",
       "    .dataframe tbody tr th:only-of-type {\n",
       "        vertical-align: middle;\n",
       "    }\n",
       "\n",
       "    .dataframe tbody tr th {\n",
       "        vertical-align: top;\n",
       "    }\n",
       "\n",
       "    .dataframe thead th {\n",
       "        text-align: right;\n",
       "    }\n",
       "</style>\n",
       "<table border=\"1\" class=\"dataframe\">\n",
       "  <thead>\n",
       "    <tr style=\"text-align: right;\">\n",
       "      <th></th>\n",
       "      <th>Name</th>\n",
       "      <th>Price</th>\n",
       "    </tr>\n",
       "  </thead>\n",
       "  <tbody>\n",
       "    <tr>\n",
       "      <th>0</th>\n",
       "      <td>Bohemian Goat</td>\n",
       "      <td>15.0</td>\n",
       "    </tr>\n",
       "    <tr>\n",
       "      <th>1</th>\n",
       "      <td>Central Coast Bleu</td>\n",
       "      <td>30.0</td>\n",
       "    </tr>\n",
       "    <tr>\n",
       "      <th>2</th>\n",
       "      <td>Cowgirl Mozzarella</td>\n",
       "      <td>30.0</td>\n",
       "    </tr>\n",
       "    <tr>\n",
       "      <th>3</th>\n",
       "      <td>Cypress Grove Cheddar</td>\n",
       "      <td>30.0</td>\n",
       "    </tr>\n",
       "    <tr>\n",
       "      <th>4</th>\n",
       "      <td>Oakdale Colby</td>\n",
       "      <td>45.0</td>\n",
       "    </tr>\n",
       "  </tbody>\n",
       "</table>\n",
       "</div>"
      ],
      "text/plain": [
       "                    Name  Price\n",
       "0          Bohemian Goat   15.0\n",
       "1     Central Coast Bleu   30.0\n",
       "2     Cowgirl Mozzarella   30.0\n",
       "3  Cypress Grove Cheddar   30.0\n",
       "4          Oakdale Colby   45.0"
      ]
     },
     "execution_count": 9,
     "metadata": {},
     "output_type": "execute_result"
    }
   ],
   "source": [
    "def cheese_median(dict):\n",
    "    df = pd.DataFrame(dict)\n",
    "    return df.fillna(df['Price'].median())\n",
    "\n",
    "cheese_median(cheeses)"
   ]
  },
  {
   "cell_type": "markdown",
   "metadata": {},
   "source": [
    "Let’s say we are given a table user_logins.\n",
    "\n",
    "Using this table, calculate how many users logged in an identical number of times on January 1st, 2022.\n",
    "\n",
    "For example, it may be the case that on that date three users logged in seven times, four users logged in five times, two users logged in ten times, etc."
   ]
  },
  {
   "cell_type": "code",
   "execution_count": 1,
   "metadata": {},
   "outputs": [],
   "source": [
    "import pandas as pd\n",
    "\n",
    "def daily_login(user_logins: pd.DataFrame):\n",
    "    new_year = pd.to_datetime('2022-01-01').date()\n",
    "\t\n",
    "    # get dates from jan 1st 2022 \n",
    "    user_logins['login_date'] = pd.to_datetime(user_logins['login_date']).dt.date\n",
    "    user_logins = user_logins[user_logins['login_date'] == new_year]\n",
    "    \n",
    "    # count number of times logged in\n",
    "    user_logins['number_of_logins'] = user_logins.groupby('user_id')['login_date'].transform('count')\n",
    "    user_logins = user_logins.drop('id',axis=1).drop_duplicates()\n",
    "    \n",
    "    # count number of users where logged in number of times was same\n",
    "    user_logins['number_of_users'] = user_logins.groupby(['number_of_logins'])['user_id'].transform('count')\n",
    "    return user_logins[['number_of_logins','number_of_users']].drop_duplicates()"
   ]
  },
  {
   "cell_type": "code",
   "execution_count": 2,
   "metadata": {},
   "outputs": [
    {
     "data": {
      "text/html": [
       "<div>\n",
       "<style scoped>\n",
       "    .dataframe tbody tr th:only-of-type {\n",
       "        vertical-align: middle;\n",
       "    }\n",
       "\n",
       "    .dataframe tbody tr th {\n",
       "        vertical-align: top;\n",
       "    }\n",
       "\n",
       "    .dataframe thead th {\n",
       "        text-align: right;\n",
       "    }\n",
       "</style>\n",
       "<table border=\"1\" class=\"dataframe\">\n",
       "  <thead>\n",
       "    <tr style=\"text-align: right;\">\n",
       "      <th></th>\n",
       "      <th>number_of_logins</th>\n",
       "      <th>number_of_users</th>\n",
       "    </tr>\n",
       "  </thead>\n",
       "  <tbody>\n",
       "    <tr>\n",
       "      <th>0</th>\n",
       "      <td>3</td>\n",
       "      <td>3</td>\n",
       "    </tr>\n",
       "  </tbody>\n",
       "</table>\n",
       "</div>"
      ],
      "text/plain": [
       "   number_of_logins  number_of_users\n",
       "0                 3                3"
      ]
     },
     "execution_count": 2,
     "metadata": {},
     "output_type": "execute_result"
    }
   ],
   "source": [
    "data = {\n",
    "    'id': [1, 2, 3, 4, 5, 6, 7, 8, 9],\n",
    "    'user_id': [1, 2, 3, 1, 2, 3, 1, 2, 3],\n",
    "    'login_date': ['2022-01-01', '2022-01-01', '2022-01-01', '2022-01-01', '2022-01-01', '2022-01-01', '2022-01-01', '2022-01-01', '2022-01-01']\n",
    "}\n",
    "data = pd.DataFrame(data)\n",
    "daily_login(data)"
   ]
  },
  {
   "cell_type": "markdown",
   "metadata": {},
   "source": [
    "## Player Analysis\n",
    "\n",
    "You’ve been asked to analyze the player’s behaviors at a gaming company.\n",
    "\n",
    "Write a query to get the number of players who played between 5 and 10 games (5 and 10 excluded), and the number of players who played 10 games or more."
   ]
  },
  {
   "cell_type": "code",
   "execution_count": 4,
   "metadata": {},
   "outputs": [
    {
     "data": {
      "text/html": [
       "<div>\n",
       "<style scoped>\n",
       "    .dataframe tbody tr th:only-of-type {\n",
       "        vertical-align: middle;\n",
       "    }\n",
       "\n",
       "    .dataframe tbody tr th {\n",
       "        vertical-align: top;\n",
       "    }\n",
       "\n",
       "    .dataframe thead th {\n",
       "        text-align: right;\n",
       "    }\n",
       "</style>\n",
       "<table border=\"1\" class=\"dataframe\">\n",
       "  <thead>\n",
       "    <tr style=\"text-align: right;\">\n",
       "      <th></th>\n",
       "      <th>id</th>\n",
       "      <th>name</th>\n",
       "      <th>games_played</th>\n",
       "      <th>registered_at</th>\n",
       "    </tr>\n",
       "  </thead>\n",
       "  <tbody>\n",
       "    <tr>\n",
       "      <th>0</th>\n",
       "      <td>1</td>\n",
       "      <td>Player_1</td>\n",
       "      <td>7</td>\n",
       "      <td>2022-08-03</td>\n",
       "    </tr>\n",
       "    <tr>\n",
       "      <th>1</th>\n",
       "      <td>2</td>\n",
       "      <td>Player_2</td>\n",
       "      <td>15</td>\n",
       "      <td>2022-02-05</td>\n",
       "    </tr>\n",
       "    <tr>\n",
       "      <th>2</th>\n",
       "      <td>3</td>\n",
       "      <td>Player_3</td>\n",
       "      <td>11</td>\n",
       "      <td>2022-08-16</td>\n",
       "    </tr>\n",
       "    <tr>\n",
       "      <th>3</th>\n",
       "      <td>4</td>\n",
       "      <td>Player_4</td>\n",
       "      <td>8</td>\n",
       "      <td>2022-04-12</td>\n",
       "    </tr>\n",
       "    <tr>\n",
       "      <th>4</th>\n",
       "      <td>5</td>\n",
       "      <td>Player_5</td>\n",
       "      <td>7</td>\n",
       "      <td>2022-05-12</td>\n",
       "    </tr>\n",
       "    <tr>\n",
       "      <th>...</th>\n",
       "      <td>...</td>\n",
       "      <td>...</td>\n",
       "      <td>...</td>\n",
       "      <td>...</td>\n",
       "    </tr>\n",
       "    <tr>\n",
       "      <th>95</th>\n",
       "      <td>96</td>\n",
       "      <td>Player_96</td>\n",
       "      <td>16</td>\n",
       "      <td>2022-08-07</td>\n",
       "    </tr>\n",
       "    <tr>\n",
       "      <th>96</th>\n",
       "      <td>97</td>\n",
       "      <td>Player_97</td>\n",
       "      <td>5</td>\n",
       "      <td>2022-06-10</td>\n",
       "    </tr>\n",
       "    <tr>\n",
       "      <th>97</th>\n",
       "      <td>98</td>\n",
       "      <td>Player_98</td>\n",
       "      <td>3</td>\n",
       "      <td>2022-07-18</td>\n",
       "    </tr>\n",
       "    <tr>\n",
       "      <th>98</th>\n",
       "      <td>99</td>\n",
       "      <td>Player_99</td>\n",
       "      <td>12</td>\n",
       "      <td>2022-09-05</td>\n",
       "    </tr>\n",
       "    <tr>\n",
       "      <th>99</th>\n",
       "      <td>100</td>\n",
       "      <td>Player_100</td>\n",
       "      <td>8</td>\n",
       "      <td>2022-11-21</td>\n",
       "    </tr>\n",
       "  </tbody>\n",
       "</table>\n",
       "<p>100 rows × 4 columns</p>\n",
       "</div>"
      ],
      "text/plain": [
       "     id        name  games_played registered_at\n",
       "0     1    Player_1             7    2022-08-03\n",
       "1     2    Player_2            15    2022-02-05\n",
       "2     3    Player_3            11    2022-08-16\n",
       "3     4    Player_4             8    2022-04-12\n",
       "4     5    Player_5             7    2022-05-12\n",
       "..  ...         ...           ...           ...\n",
       "95   96   Player_96            16    2022-08-07\n",
       "96   97   Player_97             5    2022-06-10\n",
       "97   98   Player_98             3    2022-07-18\n",
       "98   99   Player_99            12    2022-09-05\n",
       "99  100  Player_100             8    2022-11-21\n",
       "\n",
       "[100 rows x 4 columns]"
      ]
     },
     "execution_count": 4,
     "metadata": {},
     "output_type": "execute_result"
    }
   ],
   "source": [
    "\n",
    "import pandas as pd\n",
    "import numpy as np\n",
    "from datetime import datetime, timedelta\n",
    "\n",
    "# Create a sample players DataFrame\n",
    "np.random.seed(42)  # Set seed for reproducibility\n",
    "\n",
    "# Generate random data for player_id, name, games_played, and registered_at\n",
    "num_players = 100\n",
    "player_ids = np.arange(1, num_players + 1)\n",
    "names = ['Player_' + str(i) for i in player_ids]\n",
    "games_played = np.random.randint(1, 20, size=num_players)\n",
    "registered_at = [datetime(2022, 1, 1) + timedelta(days=np.random.randint(1, 365)) for _ in range(num_players)]\n",
    "\n",
    "players_data = {\n",
    "    'id': player_ids,\n",
    "    'name': names,\n",
    "    'games_played': games_played,\n",
    "    'registered_at': registered_at\n",
    "}\n",
    "\n",
    "players = pd.DataFrame(players_data)\n",
    "\n",
    "# Display the DataFrame\n",
    "players"
   ]
  },
  {
   "cell_type": "code",
   "execution_count": 5,
   "metadata": {},
   "outputs": [
    {
     "data": {
      "text/html": [
       "<div>\n",
       "<style scoped>\n",
       "    .dataframe tbody tr th:only-of-type {\n",
       "        vertical-align: middle;\n",
       "    }\n",
       "\n",
       "    .dataframe tbody tr th {\n",
       "        vertical-align: top;\n",
       "    }\n",
       "\n",
       "    .dataframe thead th {\n",
       "        text-align: right;\n",
       "    }\n",
       "</style>\n",
       "<table border=\"1\" class=\"dataframe\">\n",
       "  <thead>\n",
       "    <tr style=\"text-align: right;\">\n",
       "      <th></th>\n",
       "      <th>players_more_than_5_to_10_games</th>\n",
       "      <th>players_10_plus_games</th>\n",
       "    </tr>\n",
       "  </thead>\n",
       "  <tbody>\n",
       "    <tr>\n",
       "      <th>0</th>\n",
       "      <td>26</td>\n",
       "      <td>48</td>\n",
       "    </tr>\n",
       "  </tbody>\n",
       "</table>\n",
       "</div>"
      ],
      "text/plain": [
       "   players_more_than_5_to_10_games  players_10_plus_games\n",
       "0                               26                     48"
      ]
     },
     "execution_count": 5,
     "metadata": {},
     "output_type": "execute_result"
    }
   ],
   "source": [
    "def player_behaviors(players: pd.DataFrame):\n",
    "    # get number of players between (5-10)\n",
    "    players['players_more_than_5_to_10_games'] = (players['games_played'] > 5) & (players['games_played'] < 10)\n",
    "    # get number of players that played 10+ games \n",
    "    players['players_10_plus_games'] = players['games_played'] >= 10\n",
    "    five_to_10_cnt =  players['players_more_than_5_to_10_games'].sum()\n",
    "    ten_plus_cnt = players['players_10_plus_games'].sum()\n",
    "    return pd.DataFrame({'players_more_than_5_to_10_games': [five_to_10_cnt] ,'players_10_plus_games':[ten_plus_cnt]})\n",
    "\n",
    "player_behaviors(players)"
   ]
  },
  {
   "cell_type": "markdown",
   "metadata": {},
   "source": [
    "## Repeated Category Purchase\n",
    "\n",
    "You’re analyzing a user’s purchases for a retail business.\n",
    "\n",
    "Each product belongs to a category. Your task is to identify which purchases represent the first time the user has bought a product from its own category and which purchases represent repeat purchases within the product category.\n",
    "\n",
    "The id in the purchases table represents the purchase order (rows with a lower id are earlier purchases).\n",
    "\n",
    "Your code should output a table that includes every purchase the user has made. Additionally, the table should include a boolean column with a value of 1 if the user has previously purchased a product from its category and 0 if it’s their first time buying a product from that category.\n",
    "\n",
    "Note: Sort the results by the time purchased, in ascending order."
   ]
  },
  {
   "cell_type": "code",
   "execution_count": 6,
   "metadata": {},
   "outputs": [],
   "source": [
    "# Given data\n",
    "data = {\n",
    "    'id': [1, 2, 3, 4, 5, 6, 7, 8, 9, 10],\n",
    "    'product_name': [\"toy car\", \"basketball\", \"toy car\", \"basketball\", \"baseball\", \"robot X1\", \"robot X2\", \"toy plane\", \"robot X3\", \"teddy bear\"],\n",
    "    'product_category': [1, 2, 1, 2, 2, 3, 3, 1, 3, 5]\n",
    "}\n",
    "\n",
    "# Create DataFrame\n",
    "df = pd.DataFrame(data)"
   ]
  },
  {
   "cell_type": "code",
   "execution_count": 7,
   "metadata": {},
   "outputs": [
    {
     "data": {
      "text/html": [
       "<div>\n",
       "<style scoped>\n",
       "    .dataframe tbody tr th:only-of-type {\n",
       "        vertical-align: middle;\n",
       "    }\n",
       "\n",
       "    .dataframe tbody tr th {\n",
       "        vertical-align: top;\n",
       "    }\n",
       "\n",
       "    .dataframe thead th {\n",
       "        text-align: right;\n",
       "    }\n",
       "</style>\n",
       "<table border=\"1\" class=\"dataframe\">\n",
       "  <thead>\n",
       "    <tr style=\"text-align: right;\">\n",
       "      <th></th>\n",
       "      <th>product_name</th>\n",
       "      <th>category_previously_purchased</th>\n",
       "    </tr>\n",
       "  </thead>\n",
       "  <tbody>\n",
       "    <tr>\n",
       "      <th>0</th>\n",
       "      <td>toy car</td>\n",
       "      <td>0</td>\n",
       "    </tr>\n",
       "    <tr>\n",
       "      <th>1</th>\n",
       "      <td>basketball</td>\n",
       "      <td>0</td>\n",
       "    </tr>\n",
       "    <tr>\n",
       "      <th>2</th>\n",
       "      <td>toy car</td>\n",
       "      <td>1</td>\n",
       "    </tr>\n",
       "    <tr>\n",
       "      <th>3</th>\n",
       "      <td>basketball</td>\n",
       "      <td>1</td>\n",
       "    </tr>\n",
       "    <tr>\n",
       "      <th>4</th>\n",
       "      <td>baseball</td>\n",
       "      <td>1</td>\n",
       "    </tr>\n",
       "    <tr>\n",
       "      <th>5</th>\n",
       "      <td>robot X1</td>\n",
       "      <td>0</td>\n",
       "    </tr>\n",
       "    <tr>\n",
       "      <th>6</th>\n",
       "      <td>robot X2</td>\n",
       "      <td>1</td>\n",
       "    </tr>\n",
       "    <tr>\n",
       "      <th>7</th>\n",
       "      <td>toy plane</td>\n",
       "      <td>1</td>\n",
       "    </tr>\n",
       "    <tr>\n",
       "      <th>8</th>\n",
       "      <td>robot X3</td>\n",
       "      <td>1</td>\n",
       "    </tr>\n",
       "    <tr>\n",
       "      <th>9</th>\n",
       "      <td>teddy bear</td>\n",
       "      <td>0</td>\n",
       "    </tr>\n",
       "  </tbody>\n",
       "</table>\n",
       "</div>"
      ],
      "text/plain": [
       "  product_name  category_previously_purchased\n",
       "0      toy car                              0\n",
       "1   basketball                              0\n",
       "2      toy car                              1\n",
       "3   basketball                              1\n",
       "4     baseball                              1\n",
       "5     robot X1                              0\n",
       "6     robot X2                              1\n",
       "7    toy plane                              1\n",
       "8     robot X3                              1\n",
       "9   teddy bear                              0"
      ]
     },
     "execution_count": 7,
     "metadata": {},
     "output_type": "execute_result"
    }
   ],
   "source": [
    "def purchased_product(purchases: pd.DataFrame):\n",
    "    # determine if purchased before\n",
    "    purchases['category_previously_purchased'] = purchases.sort_values('id').groupby('product_category').cumcount()\n",
    "    purchases.loc[purchases['category_previously_purchased'] > 1, 'category_previously_purchased'] = 1\n",
    "    return purchases[['product_name','category_previously_purchased']] \n",
    "\n",
    "purchased_product(df)"
   ]
  },
  {
   "cell_type": "markdown",
   "metadata": {},
   "source": [
    "## 11/22/2023\n",
    "\n",
    "Let’s say that we work for a B2B SaaS company that has been around for three years.\n",
    "\n",
    "The company has two revenue lines (product_type): the first is labeled as \"service\" and is a consulting type model where clients are serviced on an hourly rate for a one-off project. The second revenue line is \"software\", which clients can purchase on an ongoing subscription basis.\n",
    "\n",
    "Given a table of payments data, write a query to calculate the average revenue per client.\n",
    "\n",
    "Note: Round the result to two decimals."
   ]
  },
  {
   "cell_type": "code",
   "execution_count": 8,
   "metadata": {},
   "outputs": [],
   "source": [
    "data = {\n",
    "    'id': [1, 2, 3, 4, 5],\n",
    "    'user_id': [101, 102, 101, 103, 102],\n",
    "    'created_at': ['2022-01-01', '2022-01-02', '2022-02-01', '2022-02-15', '2022-03-01'],\n",
    "    'amount_per_unit': [100.00, 50.00, 200.00, 150.00, 30.00],\n",
    "    'quantity': [2, 1, 3, 2, 5],\n",
    "    'product_type': ['service', 'software', 'service', 'software', 'service']\n",
    "}\n",
    "\n",
    "payments_df = pd.DataFrame(data)"
   ]
  },
  {
   "cell_type": "code",
   "execution_count": 10,
   "metadata": {},
   "outputs": [
    {
     "data": {
      "text/html": [
       "<div>\n",
       "<style scoped>\n",
       "    .dataframe tbody tr th:only-of-type {\n",
       "        vertical-align: middle;\n",
       "    }\n",
       "\n",
       "    .dataframe tbody tr th {\n",
       "        vertical-align: top;\n",
       "    }\n",
       "\n",
       "    .dataframe thead th {\n",
       "        text-align: right;\n",
       "    }\n",
       "</style>\n",
       "<table border=\"1\" class=\"dataframe\">\n",
       "  <thead>\n",
       "    <tr style=\"text-align: right;\">\n",
       "      <th></th>\n",
       "      <th>average_lifetime_revenue</th>\n",
       "    </tr>\n",
       "  </thead>\n",
       "  <tbody>\n",
       "    <tr>\n",
       "      <th>0</th>\n",
       "      <td>433.33</td>\n",
       "    </tr>\n",
       "  </tbody>\n",
       "</table>\n",
       "</div>"
      ],
      "text/plain": [
       "   average_lifetime_revenue\n",
       "0                    433.33"
      ]
     },
     "execution_count": 10,
     "metadata": {},
     "output_type": "execute_result"
    }
   ],
   "source": [
    "import pandas as pd\n",
    "\n",
    "def average_revenue_per_customer(payments: pd.DataFrame):\n",
    "    # calc revenue per payment\n",
    "    payments['revenue'] = payments['quantity'] * payments['amount_per_unit']\n",
    "    # calc total revenue per customer\n",
    "    payments['total_client_revenue'] = payments.groupby('user_id')['revenue'].transform('sum')\n",
    "    # drop duplicates\n",
    "    payments = payments[['user_id','total_client_revenue']].drop_duplicates()  \n",
    "    # calc the average client revenue\n",
    "    payments['average_lifetime_revenue'] = payments['total_client_revenue'].mean().round(2)\n",
    "    \n",
    "    return payments[['average_lifetime_revenue']].drop_duplicates()\n",
    "\n",
    "average_revenue_per_customer(payments_df)"
   ]
  },
  {
   "cell_type": "markdown",
   "metadata": {},
   "source": [
    "We’re given two tables. friend_requests holds all the friend requests made and friend_accepts is all of the acceptances.\n",
    "\n",
    "Write a query to find the overall acceptance rate of friend requests.\n",
    "\n",
    "Note: Round results to 4 decimal places."
   ]
  },
  {
   "cell_type": "code",
   "execution_count": 16,
   "metadata": {},
   "outputs": [],
   "source": [
    "# Create friend_requests DataFrame\n",
    "friend_requests_data = {\n",
    "    'requester_id': [1, 2, 3, 4, 5],\n",
    "    'requested_id': [6, 7, 8, 9, 10],\n",
    "    'request_date': ['2022-01-01', '2022-01-02', '2022-01-03', '2022-01-04', '2022-01-05'],\n",
    "    'accepted': [1, 0, 1, 1, 0]  # 1 for accepted, 0 for not accepted\n",
    "}\n",
    "\n",
    "friend_requests_df = pd.DataFrame(friend_requests_data)\n",
    "\n",
    "# Create friend_accepts DataFrame\n",
    "friend_accepts_data = {\n",
    "    'requester_id': [2, 4, 5],\n",
    "    'acceptor_id': [7, 9, 10],\n",
    "    'accept_date': ['2022-01-02', '2022-01-04', '2022-01-06']\n",
    "}\n",
    "\n",
    "friend_accepts_df = pd.DataFrame(friend_accepts_data)"
   ]
  },
  {
   "cell_type": "code",
   "execution_count": 17,
   "metadata": {},
   "outputs": [
    {
     "data": {
      "text/html": [
       "<div>\n",
       "<style scoped>\n",
       "    .dataframe tbody tr th:only-of-type {\n",
       "        vertical-align: middle;\n",
       "    }\n",
       "\n",
       "    .dataframe tbody tr th {\n",
       "        vertical-align: top;\n",
       "    }\n",
       "\n",
       "    .dataframe thead th {\n",
       "        text-align: right;\n",
       "    }\n",
       "</style>\n",
       "<table border=\"1\" class=\"dataframe\">\n",
       "  <thead>\n",
       "    <tr style=\"text-align: right;\">\n",
       "      <th></th>\n",
       "      <th>acceptance_rate</th>\n",
       "    </tr>\n",
       "  </thead>\n",
       "  <tbody>\n",
       "    <tr>\n",
       "      <th>0</th>\n",
       "      <td>0.6</td>\n",
       "    </tr>\n",
       "  </tbody>\n",
       "</table>\n",
       "</div>"
      ],
      "text/plain": [
       "   acceptance_rate\n",
       "0              0.6"
      ]
     },
     "execution_count": 17,
     "metadata": {},
     "output_type": "execute_result"
    }
   ],
   "source": [
    "def acceptance_rate(friend_accepts: pd.DataFrame, friend_requests: pd.DataFrame):\n",
    "    # left join tables (will be at request level)\n",
    "    df = pd.merge(friend_requests,friend_accepts,left_on=['requested_id','requester_id'],right_on=['acceptor_id','requester_id'],how='left')\n",
    "    # count number of not null acceptor_ids vs total\n",
    "    total = len(df['acceptor_id'])\n",
    "    accepted = len(df['acceptor_id'].dropna())\n",
    "    data = {'acceptance_rate':[round(accepted/total,4)]}\n",
    "    return pd.DataFrame(data)\n",
    "\n",
    "acceptance_rate(friend_accepts_df,friend_requests_df)"
   ]
  },
  {
   "cell_type": "markdown",
   "metadata": {},
   "source": [
    "The events table tracks every time a user performs a certain action (like, post_enter, etc.) on a platform.\n",
    "\n",
    "Write a query to determine the top 5 actions performed during the week of Thanksgiving (11/22/2020 - 11/28/2020), and rank them based on number of times performed.\n",
    "\n",
    "The output should include the action performed and their rank in ascending order. If two actions were performed equally, they should have the same rank. "
   ]
  },
  {
   "cell_type": "code",
   "execution_count": 20,
   "metadata": {},
   "outputs": [],
   "source": [
    "# Create events DataFrame\n",
    "events_data = {\n",
    "    'user_id': [1, 2, 3, 1, 2, 3, 1, 2, 3],\n",
    "    'created_at': [\n",
    "        '2020-11-23 08:00:00', '2020-11-23 09:30:00', '2020-11-23 10:45:00',\n",
    "        '2020-11-25 12:15:00', '2020-11-25 14:00:00', '2020-11-26 08:30:00',\n",
    "        '2020-11-27 13:45:00', '2020-11-27 15:20:00', '2020-11-28 11:00:00'\n",
    "    ],\n",
    "    'action': ['like', 'post_enter', 'comment', 'like', 'comment', 'like', 'comment', 'post_enter', 'like'],\n",
    "    'platform': ['iOS', 'Android', 'iOS', 'iOS', 'Android', 'iOS', 'Android', 'iOS', 'Android']\n",
    "}\n",
    "\n",
    "events_df = pd.DataFrame(events_data)"
   ]
  },
  {
   "cell_type": "code",
   "execution_count": 21,
   "metadata": {},
   "outputs": [
    {
     "name": "stderr",
     "output_type": "stream",
     "text": [
      "C:\\Users\\Aaron\\AppData\\Local\\Temp\\ipykernel_23676\\3760861760.py:12: SettingWithCopyWarning: \n",
      "A value is trying to be set on a copy of a slice from a DataFrame.\n",
      "Try using .loc[row_indexer,col_indexer] = value instead\n",
      "\n",
      "See the caveats in the documentation: https://pandas.pydata.org/pandas-docs/stable/user_guide/indexing.html#returning-a-view-versus-a-copy\n",
      "  events['ranks'] = events.groupby('action')['user_id'].transform('count')\n"
     ]
    },
    {
     "data": {
      "text/html": [
       "<div>\n",
       "<style scoped>\n",
       "    .dataframe tbody tr th:only-of-type {\n",
       "        vertical-align: middle;\n",
       "    }\n",
       "\n",
       "    .dataframe tbody tr th {\n",
       "        vertical-align: top;\n",
       "    }\n",
       "\n",
       "    .dataframe thead th {\n",
       "        text-align: right;\n",
       "    }\n",
       "</style>\n",
       "<table border=\"1\" class=\"dataframe\">\n",
       "  <thead>\n",
       "    <tr style=\"text-align: right;\">\n",
       "      <th></th>\n",
       "      <th>action</th>\n",
       "      <th>ranks</th>\n",
       "    </tr>\n",
       "  </thead>\n",
       "  <tbody>\n",
       "    <tr>\n",
       "      <th>0</th>\n",
       "      <td>like</td>\n",
       "      <td>1</td>\n",
       "    </tr>\n",
       "    <tr>\n",
       "      <th>2</th>\n",
       "      <td>comment</td>\n",
       "      <td>2</td>\n",
       "    </tr>\n",
       "    <tr>\n",
       "      <th>1</th>\n",
       "      <td>post_enter</td>\n",
       "      <td>3</td>\n",
       "    </tr>\n",
       "  </tbody>\n",
       "</table>\n",
       "</div>"
      ],
      "text/plain": [
       "       action  ranks\n",
       "0        like      1\n",
       "2     comment      2\n",
       "1  post_enter      3"
      ]
     },
     "execution_count": 21,
     "metadata": {},
     "output_type": "execute_result"
    }
   ],
   "source": [
    "import pandas as pd\n",
    "\n",
    "def popular_actions(events: pd.DataFrame):\n",
    "    \n",
    "    # filter data from 11/22/2020 - 11/28/2020\n",
    "    min_date = pd.to_datetime('11/22/2020')\n",
    "    max_date = pd.to_datetime('11/28/2020')\n",
    "    events['created_at'] = pd.to_datetime(events['created_at'])\n",
    "    events = events[(events['created_at'] >= min_date) & (events['created_at'] <= max_date)]\n",
    "    \n",
    "    # groupyby actions and count\n",
    "    events['ranks'] = events.groupby('action')['user_id'].transform('count')\n",
    "    \n",
    "    # order action counts in asc and add rank\n",
    "    events = events[['action','ranks']].drop_duplicates().sort_values('ranks',ascending=False) \n",
    "    events['ranks'] = events.reset_index().index + 1\n",
    "    \n",
    "    return events.head(5)\n",
    "popular_actions(events_df)"
   ]
  },
  {
   "cell_type": "markdown",
   "metadata": {},
   "source": []
  },
  {
   "cell_type": "code",
   "execution_count": 22,
   "metadata": {},
   "outputs": [],
   "source": [
    "data = {\n",
    "    'id': [1, 2, 3, 4, 5],\n",
    "    'issue': ['Network Issue', 'Software Bug', 'Login Problem', 'Hardware Failure', 'Billing Inquiry'],\n",
    "    'agent_id': [101, None, 102, None, 103],\n",
    "    'created_at': ['2022-01-01 10:00:00', '2022-01-02 11:15:00', '2022-01-03 14:30:00', '2022-01-04 08:45:00', '2022-01-05 09:00:00'],\n",
    "    'updated_at': ['2022-01-01 12:30:00', '2022-01-03 14:45:00', '2022-01-04 09:20:00', '2022-01-05 11:10:00', '2022-01-06 13:45:00']\n",
    "}\n",
    "\n",
    "tickets_df = pd.DataFrame(data)"
   ]
  },
  {
   "cell_type": "code",
   "execution_count": 23,
   "metadata": {},
   "outputs": [
    {
     "data": {
      "text/html": [
       "<div>\n",
       "<style scoped>\n",
       "    .dataframe tbody tr th:only-of-type {\n",
       "        vertical-align: middle;\n",
       "    }\n",
       "\n",
       "    .dataframe tbody tr th {\n",
       "        vertical-align: top;\n",
       "    }\n",
       "\n",
       "    .dataframe thead th {\n",
       "        text-align: right;\n",
       "    }\n",
       "</style>\n",
       "<table border=\"1\" class=\"dataframe\">\n",
       "  <thead>\n",
       "    <tr style=\"text-align: right;\">\n",
       "      <th></th>\n",
       "      <th>total_tickets</th>\n",
       "      <th>tickets_with_agent</th>\n",
       "      <th>tickets_without_agent</th>\n",
       "    </tr>\n",
       "  </thead>\n",
       "  <tbody>\n",
       "    <tr>\n",
       "      <th>0</th>\n",
       "      <td>5</td>\n",
       "      <td>3</td>\n",
       "      <td>2</td>\n",
       "    </tr>\n",
       "  </tbody>\n",
       "</table>\n",
       "</div>"
      ],
      "text/plain": [
       "   total_tickets  tickets_with_agent  tickets_without_agent\n",
       "0              5                   3                      2"
      ]
     },
     "execution_count": 23,
     "metadata": {},
     "output_type": "execute_result"
    }
   ],
   "source": [
    "def tickets_analysis(tickets: pd.DataFrame):\n",
    "    # calc total ticks\n",
    "    total_cnt = len(tickets['agent_id'])\n",
    "\n",
    "    # calc total ticks assigned to agent\n",
    "    total_assigned = len(tickets['agent_id'].dropna())\n",
    "\n",
    "    # calc total unassigned tickets\n",
    "    total_unassigned = total_cnt - total_assigned\n",
    "\n",
    "    data = {'total_tickets':[total_cnt],'tickets_with_agent':[total_assigned],'tickets_without_agent':[total_unassigned]}\n",
    "    return pd.DataFrame(data)\n",
    "tickets_analysis(tickets_df)"
   ]
  },
  {
   "cell_type": "markdown",
   "metadata": {},
   "source": [
    "## 11/23/23\n",
    "\n",
    "Given three tables, representing customer transactions and customer attributes:\n",
    "\n",
    "Write a query to get the average order value by gender.\n",
    "\n",
    "Note: We’re looking at the average order value by users that have ever placed an order. Additionally, please round your answer to two decimal places."
   ]
  },
  {
   "cell_type": "code",
   "execution_count": 24,
   "metadata": {},
   "outputs": [],
   "source": [
    "# Sample data for transactions table\n",
    "transactions_data = {\n",
    "    'id': [1, 2, 3, 4, 5],\n",
    "    'user_id': [1, 2, 1, 3, 2],\n",
    "    'created_at': ['2023-01-01', '2023-01-02', '2023-01-03', '2023-01-04', '2023-01-05'],\n",
    "    'product_id': [101, 102, 103, 104, 105],\n",
    "    'quantity': [2, 1, 3, 2, 1]\n",
    "}\n",
    "\n",
    "# Sample data for users table\n",
    "users_data = {\n",
    "    'id': [1, 2, 3],\n",
    "    'name': ['Alice', 'Bob', 'Charlie'],\n",
    "    'sex': ['Female', 'Male', 'Male']\n",
    "}\n",
    "\n",
    "# Sample data for products table\n",
    "products_data = {\n",
    "    'id': [101, 102, 103, 104, 105],\n",
    "    'name': ['Product1', 'Product2', 'Product3', 'Product4', 'Product5'],\n",
    "    'price': [10.0, 20.0, 15.0, 25.0, 30.0]\n",
    "}\n",
    "\n",
    "# Creating DataFrames\n",
    "transactions_df = pd.DataFrame(transactions_data)\n",
    "users_df = pd.DataFrame(users_data)\n",
    "products_df = pd.DataFrame(products_data)\n"
   ]
  },
  {
   "cell_type": "code",
   "execution_count": 26,
   "metadata": {},
   "outputs": [
    {
     "data": {
      "text/html": [
       "<div>\n",
       "<style scoped>\n",
       "    .dataframe tbody tr th:only-of-type {\n",
       "        vertical-align: middle;\n",
       "    }\n",
       "\n",
       "    .dataframe tbody tr th {\n",
       "        vertical-align: top;\n",
       "    }\n",
       "\n",
       "    .dataframe thead th {\n",
       "        text-align: right;\n",
       "    }\n",
       "</style>\n",
       "<table border=\"1\" class=\"dataframe\">\n",
       "  <thead>\n",
       "    <tr style=\"text-align: right;\">\n",
       "      <th></th>\n",
       "      <th>aov</th>\n",
       "      <th>sex</th>\n",
       "    </tr>\n",
       "  </thead>\n",
       "  <tbody>\n",
       "    <tr>\n",
       "      <th>0</th>\n",
       "      <td>32.50</td>\n",
       "      <td>Female</td>\n",
       "    </tr>\n",
       "    <tr>\n",
       "      <th>2</th>\n",
       "      <td>33.33</td>\n",
       "      <td>Male</td>\n",
       "    </tr>\n",
       "  </tbody>\n",
       "</table>\n",
       "</div>"
      ],
      "text/plain": [
       "     aov     sex\n",
       "0  32.50  Female\n",
       "2  33.33    Male"
      ]
     },
     "execution_count": 26,
     "metadata": {},
     "output_type": "execute_result"
    }
   ],
   "source": [
    "def average_order_value(products: pd.DataFrame, transactions: pd.DataFrame, users: pd.DataFrame):\n",
    "    # join the three tables where order was purchased\n",
    "    df = pd.merge(transactions,users,left_on='user_id',right_on='id',how='inner')[['product_id','sex','quantity']]\n",
    "    df = pd.merge(df,products,left_on='product_id',right_on='id',how='inner')[['sex','price','quantity']]\n",
    "    df['price'] = df['price'] * df['quantity']\n",
    "    \n",
    "    # find average order value by  and round three decimal places\n",
    "    df['aov'] = df.groupby('sex')['price'].transform('mean').round(2)\n",
    "\n",
    "    return df[['aov','sex']].drop_duplicates() \n",
    "\n",
    "average_order_value(products_df,transactions_df,users_df)"
   ]
  },
  {
   "cell_type": "markdown",
   "metadata": {},
   "source": [
    "We’re given two tables. One is named projects and the other maps employees to the projects they’re working on. \n",
    "\n",
    "We want to select the five most expensive projects by budget to employee count ratio. But let’s say that we’ve found a bug where there exist duplicate rows in the employee_projects table.\n",
    "\n",
    "Write a query to account for the error and select the top five most expensive projects by budget to employee count ratio."
   ]
  },
  {
   "cell_type": "code",
   "execution_count": 27,
   "metadata": {},
   "outputs": [],
   "source": [
    "# Sample data for projects table\n",
    "projects_data = {\n",
    "    'id': [1, 2, 3, 4, 5, 6],\n",
    "    'title': ['Project A', 'Project B', 'Project C', 'Project D', 'Project E', 'Project F'],\n",
    "    'start_date': ['2023-01-01', '2023-02-01', '2023-03-01', '2023-04-01', '2023-05-01', '2023-06-01'],\n",
    "    'end_date': ['2023-06-30', '2023-07-31', '2023-08-31', '2023-09-30', '2023-10-31', '2023-12-31'],\n",
    "    'budget': [100000, 150000, 120000, 200000, 180000, 250000]\n",
    "}\n",
    "\n",
    "# Sample data for employee_projects table with duplicates\n",
    "employee_projects_data = {\n",
    "    'project_id': [1, 2, 3, 4, 5, 1, 2, 3, 4, 5],\n",
    "    'employee_id': [101, 102, 103, 104, 105, 101, 102, 103, 104, 105]\n",
    "}\n",
    "\n",
    "# Creating DataFrames\n",
    "projects_df = pd.DataFrame(projects_data)\n",
    "employee_projects_df = pd.DataFrame(employee_projects_data)"
   ]
  },
  {
   "cell_type": "code",
   "execution_count": 28,
   "metadata": {},
   "outputs": [
    {
     "data": {
      "text/html": [
       "<div>\n",
       "<style scoped>\n",
       "    .dataframe tbody tr th:only-of-type {\n",
       "        vertical-align: middle;\n",
       "    }\n",
       "\n",
       "    .dataframe tbody tr th {\n",
       "        vertical-align: top;\n",
       "    }\n",
       "\n",
       "    .dataframe thead th {\n",
       "        text-align: right;\n",
       "    }\n",
       "</style>\n",
       "<table border=\"1\" class=\"dataframe\">\n",
       "  <thead>\n",
       "    <tr style=\"text-align: right;\">\n",
       "      <th></th>\n",
       "      <th>title</th>\n",
       "      <th>budget_per_employee</th>\n",
       "    </tr>\n",
       "  </thead>\n",
       "  <tbody>\n",
       "    <tr>\n",
       "      <th>3</th>\n",
       "      <td>Project D</td>\n",
       "      <td>200000.0</td>\n",
       "    </tr>\n",
       "    <tr>\n",
       "      <th>4</th>\n",
       "      <td>Project E</td>\n",
       "      <td>180000.0</td>\n",
       "    </tr>\n",
       "    <tr>\n",
       "      <th>1</th>\n",
       "      <td>Project B</td>\n",
       "      <td>150000.0</td>\n",
       "    </tr>\n",
       "    <tr>\n",
       "      <th>2</th>\n",
       "      <td>Project C</td>\n",
       "      <td>120000.0</td>\n",
       "    </tr>\n",
       "    <tr>\n",
       "      <th>0</th>\n",
       "      <td>Project A</td>\n",
       "      <td>100000.0</td>\n",
       "    </tr>\n",
       "  </tbody>\n",
       "</table>\n",
       "</div>"
      ],
      "text/plain": [
       "       title  budget_per_employee\n",
       "3  Project D             200000.0\n",
       "4  Project E             180000.0\n",
       "1  Project B             150000.0\n",
       "2  Project C             120000.0\n",
       "0  Project A             100000.0"
      ]
     },
     "execution_count": 28,
     "metadata": {},
     "output_type": "execute_result"
    }
   ],
   "source": [
    "def project_budget_error(employee_projects: pd.DataFrame, projects: pd.DataFrame):\n",
    "    # drop duplicates from employee projects\n",
    "    employee_projects = employee_projects.drop_duplicates()\n",
    "    \n",
    "    # join tables \n",
    "    df = pd.merge(employee_projects,projects,left_on='project_id',right_on='id')\n",
    "\n",
    "    # get employee count per project, reduce table to project level\n",
    "    df['employee_cnt'] = df.groupby('project_id')['employee_id'].transform('count')\n",
    "    df = df[['title','project_id','employee_cnt','budget']].drop_duplicates()\n",
    "\n",
    "    # get project budget/count per project \n",
    "    df['budget_per_employee'] = df['budget'] / df['employee_cnt']\n",
    "\n",
    "    # get top 5. sort order?\n",
    "    return df[['title','budget_per_employee']].sort_values('budget_per_employee',ascending=False).head(5)\n",
    "\n",
    "\n",
    "project_budget_error(employee_projects_df,projects_df)"
   ]
  },
  {
   "cell_type": "markdown",
   "metadata": {},
   "source": [
    "## 11/24/2023\n",
    "\n",
    "return the input dataframes and only the input dataframes for this problem. Write a query to identify the names of users who placed less than 3 orders or ordered less than $500 worth of product."
   ]
  },
  {
   "cell_type": "code",
   "execution_count": 29,
   "metadata": {},
   "outputs": [],
   "source": [
    "import pandas as pd\n",
    "\n",
    "# Sample data for transactions table\n",
    "transactions_data = {\n",
    "    'id': [1, 2, 3, 4, 5],\n",
    "    'user_id': [1, 2, 1, 3, 2],\n",
    "    'created_at': ['2023-01-01', '2023-01-02', '2023-01-03', '2023-01-04', '2023-01-05'],\n",
    "    'product_id': [101, 102, 103, 104, 105],\n",
    "    'quantity': [2, 1, 3, 2, 1]\n",
    "}\n",
    "\n",
    "# Sample data for users table\n",
    "users_data = {\n",
    "    'id': [1, 2, 3],\n",
    "    'name': ['Alice', 'Bob', 'Charlie'],\n",
    "    'sex': ['Female', 'Male', 'Male']\n",
    "}\n",
    "\n",
    "# Sample data for products table\n",
    "products_data = {\n",
    "    'id': [101, 102, 103, 104, 105],\n",
    "    'name': ['Product1', 'Product2', 'Product3', 'Product4', 'Product5'],\n",
    "    'price': [10.0, 20.0, 15.0, 25.0, 30.0]\n",
    "}\n",
    "\n",
    "# Creating DataFrames\n",
    "transactions_df = pd.DataFrame(transactions_data)\n",
    "users_df = pd.DataFrame(users_data)\n",
    "products_df = pd.DataFrame(products_data)\n"
   ]
  },
  {
   "cell_type": "code",
   "execution_count": 30,
   "metadata": {},
   "outputs": [
    {
     "data": {
      "text/html": [
       "<div>\n",
       "<style scoped>\n",
       "    .dataframe tbody tr th:only-of-type {\n",
       "        vertical-align: middle;\n",
       "    }\n",
       "\n",
       "    .dataframe tbody tr th {\n",
       "        vertical-align: top;\n",
       "    }\n",
       "\n",
       "    .dataframe thead th {\n",
       "        text-align: right;\n",
       "    }\n",
       "</style>\n",
       "<table border=\"1\" class=\"dataframe\">\n",
       "  <thead>\n",
       "    <tr style=\"text-align: right;\">\n",
       "      <th></th>\n",
       "      <th>users_less_than</th>\n",
       "    </tr>\n",
       "  </thead>\n",
       "  <tbody>\n",
       "    <tr>\n",
       "      <th>0</th>\n",
       "      <td>Alice</td>\n",
       "    </tr>\n",
       "    <tr>\n",
       "      <th>2</th>\n",
       "      <td>Bob</td>\n",
       "    </tr>\n",
       "    <tr>\n",
       "      <th>4</th>\n",
       "      <td>Charlie</td>\n",
       "    </tr>\n",
       "  </tbody>\n",
       "</table>\n",
       "</div>"
      ],
      "text/plain": [
       "  users_less_than\n",
       "0           Alice\n",
       "2             Bob\n",
       "4         Charlie"
      ]
     },
     "execution_count": 30,
     "metadata": {},
     "output_type": "execute_result"
    }
   ],
   "source": [
    "import pandas as pd\n",
    "\n",
    "def fewer_orders(products: pd.DataFrame, transactions: pd.DataFrame, users: pd.DataFrame):\n",
    "    # join tables, users + transactions\n",
    "    user_transaction = pd.merge(users,transactions,left_on='id',right_on='user_id',how='left',suffixes=('_user',''))[['name','product_id','quantity','id']]\n",
    "\n",
    "    # join user_transaction to products table\n",
    "    df = pd.merge(user_transaction,products,left_on='product_id',right_on='id',how='left',suffixes=('','_'))[['name','id','price','quantity']]\n",
    "\n",
    "    # fill nulls with 0\n",
    "    df['price'],df['quantity'] = df['price'].fillna(0), df['quantity'].fillna(0)\n",
    "\n",
    "    # count orders\n",
    "    df['order_cnt'] = df.groupby('name')['id'].transform('count')\n",
    "    df.loc[df['quantity'] == 0,'order_cnt'] = 0\n",
    "\n",
    "    # total order values\n",
    "    df['total_order_price'] = df['quantity'] * df['price']\n",
    "    df['total_order_price_per_customer'] = df.groupby('name')['total_order_price'].transform('sum') \n",
    "\n",
    "    # filter criteria\n",
    "    df = df[(df['total_order_price_per_customer'] < 500) | (df['order_cnt'] < 3)][['name']].drop_duplicates()\n",
    "    df = df.rename(columns={'name':'users_less_than'}) \n",
    "\n",
    "    return df\n",
    "\n",
    "fewer_orders(products_df,transactions_df,users_df)"
   ]
  },
  {
   "cell_type": "markdown",
   "metadata": {},
   "source": [
    "## 12/1/2023\n",
    "\n",
    "Let’s say you work at an advertising firm. You have a table of users’ impressions of ad campaigns over time. Each impression_id consists of values of user engagement specified by Excited, OK, and Bored.\n",
    "\n",
    "Write a query to find all users that are currently “Excited” and have never been “Bored” with a campaign."
   ]
  },
  {
   "cell_type": "code",
   "execution_count": 1,
   "metadata": {},
   "outputs": [],
   "source": [
    "import pandas as pd\n",
    "\n",
    "# Sample DataFrame for ad_impressions\n",
    "data = {'user_id': [1, 1, 2, 2, 3, 3, 4, 4],\n",
    "        'dt': ['2023-01-01', '2023-02-01', '2023-01-15', '2023-02-20', '2023-03-01', '2023-03-15', '2023-04-01', '2023-04-10'],\n",
    "        'campaign_id': [1, 1, 2, 2, 3, 3, 4, 4],\n",
    "        'impression_id': ['Excited', 'OK', 'Excited', 'OK', 'Excited', 'Excited', 'OK', 'Excited']}\n",
    "\n",
    "ad_impressions_df = pd.DataFrame(data)\n",
    "ad_impressions_df['dt'] = pd.to_datetime(ad_impressions_df['dt'])"
   ]
  },
  {
   "cell_type": "code",
   "execution_count": 3,
   "metadata": {},
   "outputs": [
    {
     "data": {
      "text/html": [
       "<div>\n",
       "<style scoped>\n",
       "    .dataframe tbody tr th:only-of-type {\n",
       "        vertical-align: middle;\n",
       "    }\n",
       "\n",
       "    .dataframe tbody tr th {\n",
       "        vertical-align: top;\n",
       "    }\n",
       "\n",
       "    .dataframe thead th {\n",
       "        text-align: right;\n",
       "    }\n",
       "</style>\n",
       "<table border=\"1\" class=\"dataframe\">\n",
       "  <thead>\n",
       "    <tr style=\"text-align: right;\">\n",
       "      <th></th>\n",
       "      <th>user_id</th>\n",
       "    </tr>\n",
       "  </thead>\n",
       "  <tbody>\n",
       "    <tr>\n",
       "      <th>0</th>\n",
       "      <td>1</td>\n",
       "    </tr>\n",
       "    <tr>\n",
       "      <th>1</th>\n",
       "      <td>2</td>\n",
       "    </tr>\n",
       "    <tr>\n",
       "      <th>2</th>\n",
       "      <td>3</td>\n",
       "    </tr>\n",
       "    <tr>\n",
       "      <th>3</th>\n",
       "      <td>4</td>\n",
       "    </tr>\n",
       "  </tbody>\n",
       "</table>\n",
       "</div>"
      ],
      "text/plain": [
       "   user_id\n",
       "0        1\n",
       "1        2\n",
       "2        3\n",
       "3        4"
      ]
     },
     "execution_count": 3,
     "metadata": {},
     "output_type": "execute_result"
    }
   ],
   "source": [
    "import pandas as pd\n",
    "\n",
    "def always_excited_users(ad_impressions: pd.DataFrame):\n",
    "    \n",
    "    ad_impressions['dt'] = pd.to_datetime(ad_impressions['dt'])\n",
    "\n",
    "    # Filter users who are currently \"Excited\" \n",
    "    curr_excited = ad_impressions[ad_impressions['impression_id'] == 'Excited']['user_id']\n",
    "\n",
    "    # Users that have never been bored\n",
    "    never_bored = ad_impressions.groupby('user_id').filter(lambda group: 'Bored' not in group['impression_id'].values)['user_id']\n",
    "\n",
    "    return pd.DataFrame({'user_id':list(set(never_bored).intersection(curr_excited))})\n",
    "    \n",
    "always_excited_users(ad_impressions_df)"
   ]
  },
  {
   "cell_type": "markdown",
   "metadata": {},
   "source": [
    "## 12/10/23\n",
    "\n",
    "Given a string, find the first non-repeating character in it and return its index. If it doesn’t exist, return -1.\n",
    "\n",
    "Example questions:\n",
    "\n",
    "Consider a string where all characters are lowercase alphabets."
   ]
  },
  {
   "cell_type": "code",
   "execution_count": 1,
   "metadata": {},
   "outputs": [],
   "source": [
    "str1 = 'banana'\n",
    "str2 = 'alphabet'\n",
    "str3 = 'mini'"
   ]
  },
  {
   "cell_type": "code",
   "execution_count": 2,
   "metadata": {},
   "outputs": [
    {
     "data": {
      "text/plain": [
       "0"
      ]
     },
     "metadata": {},
     "output_type": "display_data"
    },
    {
     "data": {
      "text/plain": [
       "1"
      ]
     },
     "metadata": {},
     "output_type": "display_data"
    },
    {
     "data": {
      "text/plain": [
       "0"
      ]
     },
     "metadata": {},
     "output_type": "display_data"
    }
   ],
   "source": [
    "def first_uniq_char(s):\n",
    "    for letter in s:\n",
    "        if s.count(letter) == 1:\n",
    "            return s.find(letter)\n",
    "    return -1\n",
    "\n",
    "display(\n",
    "first_uniq_char(str1),\n",
    "first_uniq_char(str2),\n",
    "first_uniq_char(str3)\n",
    ")"
   ]
  },
  {
   "cell_type": "markdown",
   "metadata": {},
   "source": [
    "## 12/17/23"
   ]
  },
  {
   "cell_type": "markdown",
   "metadata": {},
   "source": [
    "Write a function to determine the mode of an array of integers.\n",
    "\n",
    "The list may have one mode, more than one mode, or no mode at all. If the list has multiple modes, return them in ascending order."
   ]
  },
  {
   "cell_type": "code",
   "execution_count": 7,
   "metadata": {},
   "outputs": [],
   "source": [
    "def mode (nums : list):\n",
    "    # create mode dict\n",
    "    mode_dict = {}\n",
    "\n",
    "    # add nums to dictionary and increment num of occurences\n",
    "    for i in range(len(nums)):\n",
    "        if nums[i] in mode_dict.keys():\n",
    "            mode_dict[nums[i]] = mode_dict[nums[i]] + 1\n",
    "        else:\n",
    "            mode_dict[nums[i]] = 1 \n",
    "\n",
    "    # find the most frequent\n",
    "    max_value = max(mode_dict.values())\n",
    "    mode_arr = [key for key in mode_dict.keys() if mode_dict[key] == max_value]\n",
    "\n",
    "    return mode_arr"
   ]
  },
  {
   "cell_type": "code",
   "execution_count": 8,
   "metadata": {},
   "outputs": [
    {
     "name": "stdout",
     "output_type": "stream",
     "text": [
      "{1: 1, 2: 1, 3: 1}\n",
      "{1: 1, 2: 1, 3: 2}\n",
      "{1: 1, 2: 1, 3: 3, 4: 1}\n",
      "{1: 1, 2: 1, 3: 3, 4: 2}\n"
     ]
    },
    {
     "data": {
      "text/plain": [
       "[3, 4]"
      ]
     },
     "execution_count": 8,
     "metadata": {},
     "output_type": "execute_result"
    }
   ],
   "source": [
    "mode([1,2,3,3,3,4,4,4,5])"
   ]
  },
  {
   "cell_type": "markdown",
   "metadata": {},
   "source": [
    "## 12/23/2023 - Normal Distribution"
   ]
  },
  {
   "cell_type": "code",
   "execution_count": 9,
   "metadata": {},
   "outputs": [
    {
     "data": {
      "text/plain": [
       "<Axes: ylabel='Count'>"
      ]
     },
     "execution_count": 9,
     "metadata": {},
     "output_type": "execute_result"
    },
    {
     "data": {
      "image/png": "[encoded data removed]",
      "text/plain": [
       "<Figure size 640x480 with 1 Axes>"
      ]
     },
     "metadata": {},
     "output_type": "display_data"
    }
   ],
   "source": [
    "import numpy as np \n",
    "import pandas as pd\n",
    "import seaborn as sns\n",
    "\n",
    "mu,sigma = 100,15\n",
    "sns.histplot(pd.Series(np.random.normal(mu,sigma,300000)))"
   ]
  },
  {
   "cell_type": "code",
   "execution_count": null,
   "metadata": {},
   "outputs": [],
   "source": []
  }
 ],
 "metadata": {
  "kernelspec": {
   "display_name": "Python 3",
   "language": "python",
   "name": "python3"
  },
  "language_info": {
   "codemirror_mode": {
    "name": "ipython",
    "version": 3
   },
   "file_extension": ".py",
   "mimetype": "text/x-python",
   "name": "python",
   "nbconvert_exporter": "python",
   "pygments_lexer": "ipython3",
   "version": "3.11.5"
  }
 },
 "nbformat": 4,
 "nbformat_minor": 4
}
