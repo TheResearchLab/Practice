{
 "cells": [
  {
   "cell_type": "code",
   "execution_count": 46,
   "metadata": {},
   "outputs": [],
   "source": [
    "# Permutation Palindrome\n",
    "# Given a string can an input be permutated to return a palindrome\n",
    "\n",
    "# EX. carerac = racecar = true\n",
    "\n",
    "from collections import Counter\n",
    "\n",
    "def is_palindrome(string):\n",
    "    unique_letters = list(Counter(string).keys())\n",
    "    num_odds = 0\n",
    "    for i in unique_letters:\n",
    "        if Counter(string)[i]%2 != 0:\n",
    "            num_odds+=1\n",
    "    return num_odds<=1\n",
    "    \n",
    "            "
   ]
  },
  {
   "cell_type": "code",
   "execution_count": 47,
   "metadata": {},
   "outputs": [
    {
     "data": {
      "text/plain": [
       "True"
      ]
     },
     "execution_count": 47,
     "metadata": {},
     "output_type": "execute_result"
    }
   ],
   "source": [
    "is_palindrome('raceecar')"
   ]
  },
  {
   "cell_type": "code",
   "execution_count": 52,
   "metadata": {},
   "outputs": [],
   "source": [
    "# Is the left of the array equal to the right?\n",
    "\n",
    "arr = [1, 7, 3, 5, 6]\n",
    "\n",
    "def left_right_equal_sum(arr):\n",
    "    i = 1\n",
    "    while i < len(arr):\n",
    "        sum_left = sum(arr[0:i+1])\n",
    "        sum_right = sum(arr[i+1:])\n",
    "        if sum_left == sum_right:\n",
    "            ans = i\n",
    "            break\n",
    "        else:\n",
    "            ans = -1\n",
    "\n",
    "        i+=1\n",
    "    return ans"
   ]
  },
  {
   "cell_type": "code",
   "execution_count": 53,
   "metadata": {},
   "outputs": [
    {
     "data": {
      "text/plain": [
       "2"
      ]
     },
     "execution_count": 53,
     "metadata": {},
     "output_type": "execute_result"
    }
   ],
   "source": [
    "left_right_equal_sum(arr)"
   ]
  },
  {
   "cell_type": "code",
   "execution_count": 1,
   "metadata": {},
   "outputs": [],
   "source": [
    "# Merge sorted lists\n",
    "\n",
    "list1 = [1,2,3,3,4,55]\n",
    "list2 = [7,8,9,10,100]\n",
    "\n",
    "def merge_sorted_list(list1,list2):\n",
    "    return list1 + list2"
   ]
  },
  {
   "cell_type": "code",
   "execution_count": 2,
   "metadata": {},
   "outputs": [
    {
     "data": {
      "text/plain": [
       "[1, 2, 3, 3, 4, 55, 7, 8, 9, 10, 100]"
      ]
     },
     "execution_count": 2,
     "metadata": {},
     "output_type": "execute_result"
    }
   ],
   "source": [
    "merge_sorted_list(list1,list2)"
   ]
  },
  {
   "attachments": {},
   "cell_type": "markdown",
   "metadata": {},
   "source": [
    "Given a sorted list of positive integers with some entries being None, write a function to return a new list where all None values are replaced with the most recent non-None value in the list.\n",
    "\n",
    "Note: If the first entry in the list is None, assume the previous entry was 0."
   ]
  },
  {
   "cell_type": "code",
   "execution_count": 3,
   "metadata": {},
   "outputs": [],
   "source": [
    "def fill_none(input_list):\n",
    "    for i in range(0,len(input_list)):\n",
    "        if input_list[i] == None and i != 0:\n",
    "            input_list[i] = input_list[i-1]\n",
    "        elif input_list[i] == None and i == 0:\n",
    "            input_list[i] = 0\n",
    "    return input_list"
   ]
  },
  {
   "cell_type": "code",
   "execution_count": 4,
   "metadata": {},
   "outputs": [
    {
     "data": {
      "text/plain": [
       "[1, 1, 2, 3, 4]"
      ]
     },
     "metadata": {},
     "output_type": "display_data"
    },
    {
     "data": {
      "text/plain": [
       "[0, 5, 6, 7, 8, 8]"
      ]
     },
     "metadata": {},
     "output_type": "display_data"
    }
   ],
   "source": [
    "list1 = [1,None,2,3,4]\n",
    "list2 = [None,5,6,7,8,None]\n",
    "\n",
    "display(fill_none(list1))\n",
    "display(fill_none(list2))"
   ]
  },
  {
   "attachments": {},
   "cell_type": "markdown",
   "metadata": {},
   "source": [
    "You’re given numlists, a list where each element is a list of at least five numbers.\n",
    "\n",
    "Write a function list_fifths that returns a list of the fifth-largest number from each element in numlists. Return the list in ascending order."
   ]
  },
  {
   "cell_type": "code",
   "execution_count": 5,
   "metadata": {},
   "outputs": [],
   "source": [
    "def list_fifths(numlists):\n",
    "    return sorted([sorted(numlists[i])[-5] for i in range(0,len(numlists))])"
   ]
  },
  {
   "cell_type": "code",
   "execution_count": 6,
   "metadata": {},
   "outputs": [
    {
     "data": {
      "text/plain": [
       "[1, 1, 3, 55.2]"
      ]
     },
     "execution_count": 6,
     "metadata": {},
     "output_type": "execute_result"
    }
   ],
   "source": [
    "numlists = [ [1,2,3,4,5], [3,1,2,5,4], [1,2,3,4,5,6,7], \n",
    "[99, 320, 400, 100.25, 55.2, 0.1] ]\n",
    "\n",
    "list_fifths(numlists)"
   ]
  }
 ],
 "metadata": {
  "kernelspec": {
   "display_name": "Python 3",
   "language": "python",
   "name": "python3"
  },
  "language_info": {
   "codemirror_mode": {
    "name": "ipython",
    "version": 3
   },
   "file_extension": ".py",
   "mimetype": "text/x-python",
   "name": "python",
   "nbconvert_exporter": "python",
   "pygments_lexer": "ipython3",
   "version": "3.9.2"
  }
 },
 "nbformat": 4,
 "nbformat_minor": 4
}
